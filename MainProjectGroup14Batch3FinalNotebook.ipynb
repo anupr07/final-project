{
 "cells": [
  {
   "cell_type": "markdown",
   "id": "e96f2124",
   "metadata": {},
   "source": [
    "# Major Project: Final Submission  - Group 14 (Batch 3)"
   ]
  },
  {
   "cell_type": "code",
   "execution_count": 79,
   "id": "1a059306",
   "metadata": {},
   "outputs": [],
   "source": [
    "import numpy as np\n",
    "import pandas as pd\n",
    "import matplotlib.pyplot as plt\n",
    "import seaborn as sns"
   ]
  },
  {
   "cell_type": "markdown",
   "id": "e8c58d41",
   "metadata": {},
   "source": [
    "## Loading dataset into the python environment"
   ]
  },
  {
   "cell_type": "code",
   "execution_count": 80,
   "id": "3b06d307",
   "metadata": {},
   "outputs": [
    {
     "data": {
      "text/html": [
       "<div>\n",
       "<style scoped>\n",
       "    .dataframe tbody tr th:only-of-type {\n",
       "        vertical-align: middle;\n",
       "    }\n",
       "\n",
       "    .dataframe tbody tr th {\n",
       "        vertical-align: top;\n",
       "    }\n",
       "\n",
       "    .dataframe thead th {\n",
       "        text-align: right;\n",
       "    }\n",
       "</style>\n",
       "<table border=\"1\" class=\"dataframe\">\n",
       "  <thead>\n",
       "    <tr style=\"text-align: right;\">\n",
       "      <th></th>\n",
       "      <th>_unit_id</th>\n",
       "      <th>_golden</th>\n",
       "      <th>_unit_state</th>\n",
       "      <th>_trusted_judgments</th>\n",
       "      <th>_last_judgment_at</th>\n",
       "      <th>gender</th>\n",
       "      <th>gender:confidence</th>\n",
       "      <th>profile_yn</th>\n",
       "      <th>profile_yn:confidence</th>\n",
       "      <th>created</th>\n",
       "      <th>...</th>\n",
       "      <th>profileimage</th>\n",
       "      <th>retweet_count</th>\n",
       "      <th>sidebar_color</th>\n",
       "      <th>text</th>\n",
       "      <th>tweet_coord</th>\n",
       "      <th>tweet_count</th>\n",
       "      <th>tweet_created</th>\n",
       "      <th>tweet_id</th>\n",
       "      <th>tweet_location</th>\n",
       "      <th>user_timezone</th>\n",
       "    </tr>\n",
       "  </thead>\n",
       "  <tbody>\n",
       "    <tr>\n",
       "      <th>0</th>\n",
       "      <td>815719226</td>\n",
       "      <td>False</td>\n",
       "      <td>finalized</td>\n",
       "      <td>3</td>\n",
       "      <td>10/26/15 23:24</td>\n",
       "      <td>male</td>\n",
       "      <td>1.0000</td>\n",
       "      <td>yes</td>\n",
       "      <td>1.0</td>\n",
       "      <td>12/5/13 1:48</td>\n",
       "      <td>...</td>\n",
       "      <td>https://pbs.twimg.com/profile_images/414342229...</td>\n",
       "      <td>0</td>\n",
       "      <td>FFFFFF</td>\n",
       "      <td>Robbie E Responds To Critics After Win Against...</td>\n",
       "      <td>NaN</td>\n",
       "      <td>110964</td>\n",
       "      <td>10/26/15 12:40</td>\n",
       "      <td>6.587300e+17</td>\n",
       "      <td>main; @Kan1shk3</td>\n",
       "      <td>Chennai</td>\n",
       "    </tr>\n",
       "    <tr>\n",
       "      <th>1</th>\n",
       "      <td>815719227</td>\n",
       "      <td>False</td>\n",
       "      <td>finalized</td>\n",
       "      <td>3</td>\n",
       "      <td>10/26/15 23:30</td>\n",
       "      <td>male</td>\n",
       "      <td>1.0000</td>\n",
       "      <td>yes</td>\n",
       "      <td>1.0</td>\n",
       "      <td>10/1/12 13:51</td>\n",
       "      <td>...</td>\n",
       "      <td>https://pbs.twimg.com/profile_images/539604221...</td>\n",
       "      <td>0</td>\n",
       "      <td>C0DEED</td>\n",
       "      <td>ÛÏIt felt like they were my friends and I was...</td>\n",
       "      <td>NaN</td>\n",
       "      <td>7471</td>\n",
       "      <td>10/26/15 12:40</td>\n",
       "      <td>6.587300e+17</td>\n",
       "      <td>NaN</td>\n",
       "      <td>Eastern Time (US &amp; Canada)</td>\n",
       "    </tr>\n",
       "    <tr>\n",
       "      <th>2</th>\n",
       "      <td>815719228</td>\n",
       "      <td>False</td>\n",
       "      <td>finalized</td>\n",
       "      <td>3</td>\n",
       "      <td>10/26/15 23:33</td>\n",
       "      <td>male</td>\n",
       "      <td>0.6625</td>\n",
       "      <td>yes</td>\n",
       "      <td>1.0</td>\n",
       "      <td>11/28/14 11:30</td>\n",
       "      <td>...</td>\n",
       "      <td>https://pbs.twimg.com/profile_images/657330418...</td>\n",
       "      <td>1</td>\n",
       "      <td>C0DEED</td>\n",
       "      <td>i absolutely adore when louis starts the songs...</td>\n",
       "      <td>NaN</td>\n",
       "      <td>5617</td>\n",
       "      <td>10/26/15 12:40</td>\n",
       "      <td>6.587300e+17</td>\n",
       "      <td>clcncl</td>\n",
       "      <td>Belgrade</td>\n",
       "    </tr>\n",
       "    <tr>\n",
       "      <th>3</th>\n",
       "      <td>815719229</td>\n",
       "      <td>False</td>\n",
       "      <td>finalized</td>\n",
       "      <td>3</td>\n",
       "      <td>10/26/15 23:10</td>\n",
       "      <td>male</td>\n",
       "      <td>1.0000</td>\n",
       "      <td>yes</td>\n",
       "      <td>1.0</td>\n",
       "      <td>6/11/09 22:39</td>\n",
       "      <td>...</td>\n",
       "      <td>https://pbs.twimg.com/profile_images/259703936...</td>\n",
       "      <td>0</td>\n",
       "      <td>C0DEED</td>\n",
       "      <td>Hi @JordanSpieth - Looking at the url - do you...</td>\n",
       "      <td>NaN</td>\n",
       "      <td>1693</td>\n",
       "      <td>10/26/15 12:40</td>\n",
       "      <td>6.587300e+17</td>\n",
       "      <td>Palo Alto, CA</td>\n",
       "      <td>Pacific Time (US &amp; Canada)</td>\n",
       "    </tr>\n",
       "    <tr>\n",
       "      <th>4</th>\n",
       "      <td>815719230</td>\n",
       "      <td>False</td>\n",
       "      <td>finalized</td>\n",
       "      <td>3</td>\n",
       "      <td>10/27/15 1:15</td>\n",
       "      <td>female</td>\n",
       "      <td>1.0000</td>\n",
       "      <td>yes</td>\n",
       "      <td>1.0</td>\n",
       "      <td>4/16/14 13:23</td>\n",
       "      <td>...</td>\n",
       "      <td>https://pbs.twimg.com/profile_images/564094871...</td>\n",
       "      <td>0</td>\n",
       "      <td>0</td>\n",
       "      <td>Watching Neighbours on Sky+ catching up with t...</td>\n",
       "      <td>NaN</td>\n",
       "      <td>31462</td>\n",
       "      <td>10/26/15 12:40</td>\n",
       "      <td>6.587300e+17</td>\n",
       "      <td>NaN</td>\n",
       "      <td>NaN</td>\n",
       "    </tr>\n",
       "  </tbody>\n",
       "</table>\n",
       "<p>5 rows × 26 columns</p>\n",
       "</div>"
      ],
      "text/plain": [
       "    _unit_id  _golden _unit_state  _trusted_judgments _last_judgment_at  \\\n",
       "0  815719226    False   finalized                   3    10/26/15 23:24   \n",
       "1  815719227    False   finalized                   3    10/26/15 23:30   \n",
       "2  815719228    False   finalized                   3    10/26/15 23:33   \n",
       "3  815719229    False   finalized                   3    10/26/15 23:10   \n",
       "4  815719230    False   finalized                   3     10/27/15 1:15   \n",
       "\n",
       "   gender  gender:confidence profile_yn  profile_yn:confidence  \\\n",
       "0    male             1.0000        yes                    1.0   \n",
       "1    male             1.0000        yes                    1.0   \n",
       "2    male             0.6625        yes                    1.0   \n",
       "3    male             1.0000        yes                    1.0   \n",
       "4  female             1.0000        yes                    1.0   \n",
       "\n",
       "          created  ...                                       profileimage  \\\n",
       "0    12/5/13 1:48  ...  https://pbs.twimg.com/profile_images/414342229...   \n",
       "1   10/1/12 13:51  ...  https://pbs.twimg.com/profile_images/539604221...   \n",
       "2  11/28/14 11:30  ...  https://pbs.twimg.com/profile_images/657330418...   \n",
       "3   6/11/09 22:39  ...  https://pbs.twimg.com/profile_images/259703936...   \n",
       "4   4/16/14 13:23  ...  https://pbs.twimg.com/profile_images/564094871...   \n",
       "\n",
       "   retweet_count sidebar_color  \\\n",
       "0              0        FFFFFF   \n",
       "1              0        C0DEED   \n",
       "2              1        C0DEED   \n",
       "3              0        C0DEED   \n",
       "4              0             0   \n",
       "\n",
       "                                                text tweet_coord tweet_count  \\\n",
       "0  Robbie E Responds To Critics After Win Against...         NaN      110964   \n",
       "1  ÛÏIt felt like they were my friends and I was...         NaN        7471   \n",
       "2  i absolutely adore when louis starts the songs...         NaN        5617   \n",
       "3  Hi @JordanSpieth - Looking at the url - do you...         NaN        1693   \n",
       "4  Watching Neighbours on Sky+ catching up with t...         NaN       31462   \n",
       "\n",
       "    tweet_created      tweet_id   tweet_location               user_timezone  \n",
       "0  10/26/15 12:40  6.587300e+17  main; @Kan1shk3                     Chennai  \n",
       "1  10/26/15 12:40  6.587300e+17              NaN  Eastern Time (US & Canada)  \n",
       "2  10/26/15 12:40  6.587300e+17           clcncl                    Belgrade  \n",
       "3  10/26/15 12:40  6.587300e+17    Palo Alto, CA  Pacific Time (US & Canada)  \n",
       "4  10/26/15 12:40  6.587300e+17              NaN                         NaN  \n",
       "\n",
       "[5 rows x 26 columns]"
      ]
     },
     "execution_count": 80,
     "metadata": {},
     "output_type": "execute_result"
    }
   ],
   "source": [
    "twitter_data=pd.read_csv(\"D:\\\\python\\\\project\\\\twitterdata.csv\",encoding='latin1')\n",
    "twitter_data.head(5)"
   ]
  },
  {
   "cell_type": "markdown",
   "id": "13d0d565",
   "metadata": {},
   "source": [
    "## Setting ‘_unit_id’ as the index column"
   ]
  },
  {
   "cell_type": "code",
   "execution_count": 81,
   "id": "95cdd5cd",
   "metadata": {},
   "outputs": [
    {
     "data": {
      "text/html": [
       "<div>\n",
       "<style scoped>\n",
       "    .dataframe tbody tr th:only-of-type {\n",
       "        vertical-align: middle;\n",
       "    }\n",
       "\n",
       "    .dataframe tbody tr th {\n",
       "        vertical-align: top;\n",
       "    }\n",
       "\n",
       "    .dataframe thead th {\n",
       "        text-align: right;\n",
       "    }\n",
       "</style>\n",
       "<table border=\"1\" class=\"dataframe\">\n",
       "  <thead>\n",
       "    <tr style=\"text-align: right;\">\n",
       "      <th></th>\n",
       "      <th>_golden</th>\n",
       "      <th>_unit_state</th>\n",
       "      <th>_trusted_judgments</th>\n",
       "      <th>_last_judgment_at</th>\n",
       "      <th>gender</th>\n",
       "      <th>gender:confidence</th>\n",
       "      <th>profile_yn</th>\n",
       "      <th>profile_yn:confidence</th>\n",
       "      <th>created</th>\n",
       "      <th>description</th>\n",
       "      <th>...</th>\n",
       "      <th>profileimage</th>\n",
       "      <th>retweet_count</th>\n",
       "      <th>sidebar_color</th>\n",
       "      <th>text</th>\n",
       "      <th>tweet_coord</th>\n",
       "      <th>tweet_count</th>\n",
       "      <th>tweet_created</th>\n",
       "      <th>tweet_id</th>\n",
       "      <th>tweet_location</th>\n",
       "      <th>user_timezone</th>\n",
       "    </tr>\n",
       "    <tr>\n",
       "      <th>_unit_id</th>\n",
       "      <th></th>\n",
       "      <th></th>\n",
       "      <th></th>\n",
       "      <th></th>\n",
       "      <th></th>\n",
       "      <th></th>\n",
       "      <th></th>\n",
       "      <th></th>\n",
       "      <th></th>\n",
       "      <th></th>\n",
       "      <th></th>\n",
       "      <th></th>\n",
       "      <th></th>\n",
       "      <th></th>\n",
       "      <th></th>\n",
       "      <th></th>\n",
       "      <th></th>\n",
       "      <th></th>\n",
       "      <th></th>\n",
       "      <th></th>\n",
       "      <th></th>\n",
       "    </tr>\n",
       "  </thead>\n",
       "  <tbody>\n",
       "    <tr>\n",
       "      <th>815719226</th>\n",
       "      <td>False</td>\n",
       "      <td>finalized</td>\n",
       "      <td>3</td>\n",
       "      <td>10/26/15 23:24</td>\n",
       "      <td>male</td>\n",
       "      <td>1.0000</td>\n",
       "      <td>yes</td>\n",
       "      <td>1.0</td>\n",
       "      <td>12/5/13 1:48</td>\n",
       "      <td>i sing my own rhythm.</td>\n",
       "      <td>...</td>\n",
       "      <td>https://pbs.twimg.com/profile_images/414342229...</td>\n",
       "      <td>0</td>\n",
       "      <td>FFFFFF</td>\n",
       "      <td>Robbie E Responds To Critics After Win Against...</td>\n",
       "      <td>NaN</td>\n",
       "      <td>110964</td>\n",
       "      <td>10/26/15 12:40</td>\n",
       "      <td>6.587300e+17</td>\n",
       "      <td>main; @Kan1shk3</td>\n",
       "      <td>Chennai</td>\n",
       "    </tr>\n",
       "    <tr>\n",
       "      <th>815719227</th>\n",
       "      <td>False</td>\n",
       "      <td>finalized</td>\n",
       "      <td>3</td>\n",
       "      <td>10/26/15 23:30</td>\n",
       "      <td>male</td>\n",
       "      <td>1.0000</td>\n",
       "      <td>yes</td>\n",
       "      <td>1.0</td>\n",
       "      <td>10/1/12 13:51</td>\n",
       "      <td>I'm the author of novels filled with family dr...</td>\n",
       "      <td>...</td>\n",
       "      <td>https://pbs.twimg.com/profile_images/539604221...</td>\n",
       "      <td>0</td>\n",
       "      <td>C0DEED</td>\n",
       "      <td>ÛÏIt felt like they were my friends and I was...</td>\n",
       "      <td>NaN</td>\n",
       "      <td>7471</td>\n",
       "      <td>10/26/15 12:40</td>\n",
       "      <td>6.587300e+17</td>\n",
       "      <td>NaN</td>\n",
       "      <td>Eastern Time (US &amp; Canada)</td>\n",
       "    </tr>\n",
       "    <tr>\n",
       "      <th>815719228</th>\n",
       "      <td>False</td>\n",
       "      <td>finalized</td>\n",
       "      <td>3</td>\n",
       "      <td>10/26/15 23:33</td>\n",
       "      <td>male</td>\n",
       "      <td>0.6625</td>\n",
       "      <td>yes</td>\n",
       "      <td>1.0</td>\n",
       "      <td>11/28/14 11:30</td>\n",
       "      <td>louis whining and squealing and all</td>\n",
       "      <td>...</td>\n",
       "      <td>https://pbs.twimg.com/profile_images/657330418...</td>\n",
       "      <td>1</td>\n",
       "      <td>C0DEED</td>\n",
       "      <td>i absolutely adore when louis starts the songs...</td>\n",
       "      <td>NaN</td>\n",
       "      <td>5617</td>\n",
       "      <td>10/26/15 12:40</td>\n",
       "      <td>6.587300e+17</td>\n",
       "      <td>clcncl</td>\n",
       "      <td>Belgrade</td>\n",
       "    </tr>\n",
       "    <tr>\n",
       "      <th>815719229</th>\n",
       "      <td>False</td>\n",
       "      <td>finalized</td>\n",
       "      <td>3</td>\n",
       "      <td>10/26/15 23:10</td>\n",
       "      <td>male</td>\n",
       "      <td>1.0000</td>\n",
       "      <td>yes</td>\n",
       "      <td>1.0</td>\n",
       "      <td>6/11/09 22:39</td>\n",
       "      <td>Mobile guy.  49ers, Shazam, Google, Kleiner Pe...</td>\n",
       "      <td>...</td>\n",
       "      <td>https://pbs.twimg.com/profile_images/259703936...</td>\n",
       "      <td>0</td>\n",
       "      <td>C0DEED</td>\n",
       "      <td>Hi @JordanSpieth - Looking at the url - do you...</td>\n",
       "      <td>NaN</td>\n",
       "      <td>1693</td>\n",
       "      <td>10/26/15 12:40</td>\n",
       "      <td>6.587300e+17</td>\n",
       "      <td>Palo Alto, CA</td>\n",
       "      <td>Pacific Time (US &amp; Canada)</td>\n",
       "    </tr>\n",
       "    <tr>\n",
       "      <th>815719230</th>\n",
       "      <td>False</td>\n",
       "      <td>finalized</td>\n",
       "      <td>3</td>\n",
       "      <td>10/27/15 1:15</td>\n",
       "      <td>female</td>\n",
       "      <td>1.0000</td>\n",
       "      <td>yes</td>\n",
       "      <td>1.0</td>\n",
       "      <td>4/16/14 13:23</td>\n",
       "      <td>Ricky Wilson The Best FRONTMAN/Kaiser Chiefs T...</td>\n",
       "      <td>...</td>\n",
       "      <td>https://pbs.twimg.com/profile_images/564094871...</td>\n",
       "      <td>0</td>\n",
       "      <td>0</td>\n",
       "      <td>Watching Neighbours on Sky+ catching up with t...</td>\n",
       "      <td>NaN</td>\n",
       "      <td>31462</td>\n",
       "      <td>10/26/15 12:40</td>\n",
       "      <td>6.587300e+17</td>\n",
       "      <td>NaN</td>\n",
       "      <td>NaN</td>\n",
       "    </tr>\n",
       "    <tr>\n",
       "      <th>...</th>\n",
       "      <td>...</td>\n",
       "      <td>...</td>\n",
       "      <td>...</td>\n",
       "      <td>...</td>\n",
       "      <td>...</td>\n",
       "      <td>...</td>\n",
       "      <td>...</td>\n",
       "      <td>...</td>\n",
       "      <td>...</td>\n",
       "      <td>...</td>\n",
       "      <td>...</td>\n",
       "      <td>...</td>\n",
       "      <td>...</td>\n",
       "      <td>...</td>\n",
       "      <td>...</td>\n",
       "      <td>...</td>\n",
       "      <td>...</td>\n",
       "      <td>...</td>\n",
       "      <td>...</td>\n",
       "      <td>...</td>\n",
       "      <td>...</td>\n",
       "    </tr>\n",
       "    <tr>\n",
       "      <th>815757572</th>\n",
       "      <td>True</td>\n",
       "      <td>golden</td>\n",
       "      <td>259</td>\n",
       "      <td>NaN</td>\n",
       "      <td>female</td>\n",
       "      <td>1.0000</td>\n",
       "      <td>yes</td>\n",
       "      <td>1.0</td>\n",
       "      <td>8/5/15 21:16</td>\n",
       "      <td>(rp)</td>\n",
       "      <td>...</td>\n",
       "      <td>https://pbs.twimg.com/profile_images/656793310...</td>\n",
       "      <td>0</td>\n",
       "      <td>C0DEED</td>\n",
       "      <td>@lookupondeath ...Fine, and I'll drink tea too...</td>\n",
       "      <td>NaN</td>\n",
       "      <td>783</td>\n",
       "      <td>10/26/15 13:20</td>\n",
       "      <td>6.587400e+17</td>\n",
       "      <td>Verona ªÁ</td>\n",
       "      <td>NaN</td>\n",
       "    </tr>\n",
       "    <tr>\n",
       "      <th>815757681</th>\n",
       "      <td>True</td>\n",
       "      <td>golden</td>\n",
       "      <td>248</td>\n",
       "      <td>NaN</td>\n",
       "      <td>male</td>\n",
       "      <td>1.0000</td>\n",
       "      <td>yes</td>\n",
       "      <td>1.0</td>\n",
       "      <td>8/15/12 21:17</td>\n",
       "      <td>Whatever you like, it's not a problem at all. ...</td>\n",
       "      <td>...</td>\n",
       "      <td>https://pbs.twimg.com/profile_images/639815429...</td>\n",
       "      <td>0</td>\n",
       "      <td>0</td>\n",
       "      <td>Greg Hardy you a good player and all but don't...</td>\n",
       "      <td>NaN</td>\n",
       "      <td>13523</td>\n",
       "      <td>10/26/15 12:40</td>\n",
       "      <td>6.587300e+17</td>\n",
       "      <td>Kansas City, MO</td>\n",
       "      <td>NaN</td>\n",
       "    </tr>\n",
       "    <tr>\n",
       "      <th>815757830</th>\n",
       "      <td>True</td>\n",
       "      <td>golden</td>\n",
       "      <td>264</td>\n",
       "      <td>NaN</td>\n",
       "      <td>male</td>\n",
       "      <td>1.0000</td>\n",
       "      <td>yes</td>\n",
       "      <td>1.0</td>\n",
       "      <td>9/3/12 1:17</td>\n",
       "      <td>#TeamBarcelona ..You look lost so you should f...</td>\n",
       "      <td>...</td>\n",
       "      <td>https://pbs.twimg.com/profile_images/655473271...</td>\n",
       "      <td>0</td>\n",
       "      <td>C0DEED</td>\n",
       "      <td>You can miss people and still never want to se...</td>\n",
       "      <td>NaN</td>\n",
       "      <td>26419</td>\n",
       "      <td>10/26/15 13:20</td>\n",
       "      <td>6.587400e+17</td>\n",
       "      <td>Lagos Nigeria</td>\n",
       "      <td>NaN</td>\n",
       "    </tr>\n",
       "    <tr>\n",
       "      <th>815757921</th>\n",
       "      <td>True</td>\n",
       "      <td>golden</td>\n",
       "      <td>250</td>\n",
       "      <td>NaN</td>\n",
       "      <td>female</td>\n",
       "      <td>0.8489</td>\n",
       "      <td>yes</td>\n",
       "      <td>1.0</td>\n",
       "      <td>11/6/12 23:46</td>\n",
       "      <td>Anti-statist; I homeschool my kids. Aspiring t...</td>\n",
       "      <td>...</td>\n",
       "      <td>https://pbs.twimg.com/profile_images/657716093...</td>\n",
       "      <td>0</td>\n",
       "      <td>0</td>\n",
       "      <td>@bitemyapp i had noticed your tendency to pee ...</td>\n",
       "      <td>NaN</td>\n",
       "      <td>56073</td>\n",
       "      <td>10/26/15 12:40</td>\n",
       "      <td>6.587300e+17</td>\n",
       "      <td>Texas Hill Country</td>\n",
       "      <td>NaN</td>\n",
       "    </tr>\n",
       "    <tr>\n",
       "      <th>815757985</th>\n",
       "      <td>True</td>\n",
       "      <td>golden</td>\n",
       "      <td>249</td>\n",
       "      <td>NaN</td>\n",
       "      <td>female</td>\n",
       "      <td>1.0000</td>\n",
       "      <td>yes</td>\n",
       "      <td>1.0</td>\n",
       "      <td>4/14/14 17:22</td>\n",
       "      <td>Teamwork makes the dream work.</td>\n",
       "      <td>...</td>\n",
       "      <td>https://pbs.twimg.com/profile_images/655134724...</td>\n",
       "      <td>0</td>\n",
       "      <td>C0DEED</td>\n",
       "      <td>I think for my APUSH creative project I'm goin...</td>\n",
       "      <td>NaN</td>\n",
       "      <td>2922</td>\n",
       "      <td>10/26/15 13:19</td>\n",
       "      <td>6.587400e+17</td>\n",
       "      <td>NaN</td>\n",
       "      <td>NaN</td>\n",
       "    </tr>\n",
       "  </tbody>\n",
       "</table>\n",
       "<p>20050 rows × 25 columns</p>\n",
       "</div>"
      ],
      "text/plain": [
       "           _golden _unit_state  _trusted_judgments _last_judgment_at  gender  \\\n",
       "_unit_id                                                                       \n",
       "815719226    False   finalized                   3    10/26/15 23:24    male   \n",
       "815719227    False   finalized                   3    10/26/15 23:30    male   \n",
       "815719228    False   finalized                   3    10/26/15 23:33    male   \n",
       "815719229    False   finalized                   3    10/26/15 23:10    male   \n",
       "815719230    False   finalized                   3     10/27/15 1:15  female   \n",
       "...            ...         ...                 ...               ...     ...   \n",
       "815757572     True      golden                 259               NaN  female   \n",
       "815757681     True      golden                 248               NaN    male   \n",
       "815757830     True      golden                 264               NaN    male   \n",
       "815757921     True      golden                 250               NaN  female   \n",
       "815757985     True      golden                 249               NaN  female   \n",
       "\n",
       "           gender:confidence profile_yn  profile_yn:confidence  \\\n",
       "_unit_id                                                         \n",
       "815719226             1.0000        yes                    1.0   \n",
       "815719227             1.0000        yes                    1.0   \n",
       "815719228             0.6625        yes                    1.0   \n",
       "815719229             1.0000        yes                    1.0   \n",
       "815719230             1.0000        yes                    1.0   \n",
       "...                      ...        ...                    ...   \n",
       "815757572             1.0000        yes                    1.0   \n",
       "815757681             1.0000        yes                    1.0   \n",
       "815757830             1.0000        yes                    1.0   \n",
       "815757921             0.8489        yes                    1.0   \n",
       "815757985             1.0000        yes                    1.0   \n",
       "\n",
       "                  created                                        description  \\\n",
       "_unit_id                                                                       \n",
       "815719226    12/5/13 1:48                              i sing my own rhythm.   \n",
       "815719227   10/1/12 13:51  I'm the author of novels filled with family dr...   \n",
       "815719228  11/28/14 11:30                louis whining and squealing and all   \n",
       "815719229   6/11/09 22:39  Mobile guy.  49ers, Shazam, Google, Kleiner Pe...   \n",
       "815719230   4/16/14 13:23  Ricky Wilson The Best FRONTMAN/Kaiser Chiefs T...   \n",
       "...                   ...                                                ...   \n",
       "815757572    8/5/15 21:16                                               (rp)   \n",
       "815757681   8/15/12 21:17  Whatever you like, it's not a problem at all. ...   \n",
       "815757830     9/3/12 1:17  #TeamBarcelona ..You look lost so you should f...   \n",
       "815757921   11/6/12 23:46  Anti-statist; I homeschool my kids. Aspiring t...   \n",
       "815757985   4/14/14 17:22                     Teamwork makes the dream work.   \n",
       "\n",
       "           ...                                       profileimage  \\\n",
       "_unit_id   ...                                                      \n",
       "815719226  ...  https://pbs.twimg.com/profile_images/414342229...   \n",
       "815719227  ...  https://pbs.twimg.com/profile_images/539604221...   \n",
       "815719228  ...  https://pbs.twimg.com/profile_images/657330418...   \n",
       "815719229  ...  https://pbs.twimg.com/profile_images/259703936...   \n",
       "815719230  ...  https://pbs.twimg.com/profile_images/564094871...   \n",
       "...        ...                                                ...   \n",
       "815757572  ...  https://pbs.twimg.com/profile_images/656793310...   \n",
       "815757681  ...  https://pbs.twimg.com/profile_images/639815429...   \n",
       "815757830  ...  https://pbs.twimg.com/profile_images/655473271...   \n",
       "815757921  ...  https://pbs.twimg.com/profile_images/657716093...   \n",
       "815757985  ...  https://pbs.twimg.com/profile_images/655134724...   \n",
       "\n",
       "          retweet_count sidebar_color  \\\n",
       "_unit_id                                \n",
       "815719226             0        FFFFFF   \n",
       "815719227             0        C0DEED   \n",
       "815719228             1        C0DEED   \n",
       "815719229             0        C0DEED   \n",
       "815719230             0             0   \n",
       "...                 ...           ...   \n",
       "815757572             0        C0DEED   \n",
       "815757681             0             0   \n",
       "815757830             0        C0DEED   \n",
       "815757921             0             0   \n",
       "815757985             0        C0DEED   \n",
       "\n",
       "                                                        text tweet_coord  \\\n",
       "_unit_id                                                                   \n",
       "815719226  Robbie E Responds To Critics After Win Against...         NaN   \n",
       "815719227  ÛÏIt felt like they were my friends and I was...         NaN   \n",
       "815719228  i absolutely adore when louis starts the songs...         NaN   \n",
       "815719229  Hi @JordanSpieth - Looking at the url - do you...         NaN   \n",
       "815719230  Watching Neighbours on Sky+ catching up with t...         NaN   \n",
       "...                                                      ...         ...   \n",
       "815757572  @lookupondeath ...Fine, and I'll drink tea too...         NaN   \n",
       "815757681  Greg Hardy you a good player and all but don't...         NaN   \n",
       "815757830  You can miss people and still never want to se...         NaN   \n",
       "815757921  @bitemyapp i had noticed your tendency to pee ...         NaN   \n",
       "815757985  I think for my APUSH creative project I'm goin...         NaN   \n",
       "\n",
       "          tweet_count   tweet_created      tweet_id      tweet_location  \\\n",
       "_unit_id                                                                  \n",
       "815719226      110964  10/26/15 12:40  6.587300e+17     main; @Kan1shk3   \n",
       "815719227        7471  10/26/15 12:40  6.587300e+17                 NaN   \n",
       "815719228        5617  10/26/15 12:40  6.587300e+17              clcncl   \n",
       "815719229        1693  10/26/15 12:40  6.587300e+17       Palo Alto, CA   \n",
       "815719230       31462  10/26/15 12:40  6.587300e+17                 NaN   \n",
       "...               ...             ...           ...                 ...   \n",
       "815757572         783  10/26/15 13:20  6.587400e+17          Verona ªÁ   \n",
       "815757681       13523  10/26/15 12:40  6.587300e+17     Kansas City, MO   \n",
       "815757830       26419  10/26/15 13:20  6.587400e+17      Lagos Nigeria    \n",
       "815757921       56073  10/26/15 12:40  6.587300e+17  Texas Hill Country   \n",
       "815757985        2922  10/26/15 13:19  6.587400e+17                 NaN   \n",
       "\n",
       "                        user_timezone  \n",
       "_unit_id                               \n",
       "815719226                     Chennai  \n",
       "815719227  Eastern Time (US & Canada)  \n",
       "815719228                    Belgrade  \n",
       "815719229  Pacific Time (US & Canada)  \n",
       "815719230                         NaN  \n",
       "...                               ...  \n",
       "815757572                         NaN  \n",
       "815757681                         NaN  \n",
       "815757830                         NaN  \n",
       "815757921                         NaN  \n",
       "815757985                         NaN  \n",
       "\n",
       "[20050 rows x 25 columns]"
      ]
     },
     "execution_count": 81,
     "metadata": {},
     "output_type": "execute_result"
    }
   ],
   "source": [
    "twitter_data.set_index('_unit_id')"
   ]
  },
  {
   "cell_type": "markdown",
   "id": "ede3e3a8",
   "metadata": {},
   "source": [
    "## Basic details of the dataset"
   ]
  },
  {
   "cell_type": "code",
   "execution_count": 82,
   "id": "30f28228",
   "metadata": {},
   "outputs": [
    {
     "data": {
      "text/plain": [
       "(20050, 26)"
      ]
     },
     "execution_count": 82,
     "metadata": {},
     "output_type": "execute_result"
    }
   ],
   "source": [
    "# Shape of the datadset\n",
    "twitter_data.shape"
   ]
  },
  {
   "cell_type": "code",
   "execution_count": 83,
   "id": "ef4efbd5",
   "metadata": {},
   "outputs": [
    {
     "name": "stdout",
     "output_type": "stream",
     "text": [
      "<class 'pandas.core.frame.DataFrame'>\n",
      "RangeIndex: 20050 entries, 0 to 20049\n",
      "Data columns (total 26 columns):\n",
      " #   Column                 Non-Null Count  Dtype  \n",
      "---  ------                 --------------  -----  \n",
      " 0   _unit_id               20050 non-null  int64  \n",
      " 1   _golden                20050 non-null  bool   \n",
      " 2   _unit_state            20050 non-null  object \n",
      " 3   _trusted_judgments     20050 non-null  int64  \n",
      " 4   _last_judgment_at      20000 non-null  object \n",
      " 5   gender                 19953 non-null  object \n",
      " 6   gender:confidence      20024 non-null  float64\n",
      " 7   profile_yn             20050 non-null  object \n",
      " 8   profile_yn:confidence  20050 non-null  float64\n",
      " 9   created                20050 non-null  object \n",
      " 10  description            16306 non-null  object \n",
      " 11  fav_number             20050 non-null  int64  \n",
      " 12  gender_gold            50 non-null     object \n",
      " 13  link_color             20050 non-null  object \n",
      " 14  name                   20050 non-null  object \n",
      " 15  profile_yn_gold        50 non-null     object \n",
      " 16  profileimage           20050 non-null  object \n",
      " 17  retweet_count          20050 non-null  int64  \n",
      " 18  sidebar_color          20050 non-null  object \n",
      " 19  text                   20050 non-null  object \n",
      " 20  tweet_coord            159 non-null    object \n",
      " 21  tweet_count            20050 non-null  int64  \n",
      " 22  tweet_created          20050 non-null  object \n",
      " 23  tweet_id               20050 non-null  float64\n",
      " 24  tweet_location         12566 non-null  object \n",
      " 25  user_timezone          12252 non-null  object \n",
      "dtypes: bool(1), float64(3), int64(5), object(17)\n",
      "memory usage: 3.8+ MB\n"
     ]
    }
   ],
   "source": [
    "twitter_data.info()"
   ]
  },
  {
   "cell_type": "markdown",
   "id": "d5b17488",
   "metadata": {},
   "source": [
    "## 1. Handling Gender types in the dataset"
   ]
  },
  {
   "cell_type": "code",
   "execution_count": 84,
   "id": "9731e03a",
   "metadata": {},
   "outputs": [
    {
     "data": {
      "text/plain": [
       "array(['male', 'female', 'brand', 'unknown', nan], dtype=object)"
      ]
     },
     "execution_count": 84,
     "metadata": {},
     "output_type": "execute_result"
    }
   ],
   "source": [
    "twitter_data.gender.unique()"
   ]
  },
  {
   "cell_type": "markdown",
   "id": "c174b8af",
   "metadata": {},
   "source": [
    "**We observe that there are five gender types available in the dataset. However, we will need three (male, female, brand) for our model. Below we remove the redundant gender types.**"
   ]
  },
  {
   "cell_type": "code",
   "execution_count": 85,
   "id": "ca9ad9d6",
   "metadata": {},
   "outputs": [
    {
     "data": {
      "text/plain": [
       "array(['male', 'female', 'brand'], dtype=object)"
      ]
     },
     "execution_count": 85,
     "metadata": {},
     "output_type": "execute_result"
    }
   ],
   "source": [
    "twitter_data=twitter_data[twitter_data.gender != \"unknown\"]\n",
    "twitter_data = twitter_data.dropna(subset=['gender'])\n",
    "twitter_data.gender.unique()"
   ]
  },
  {
   "cell_type": "markdown",
   "id": "bde62316",
   "metadata": {},
   "source": [
    "# 2. Exploratory Data Analysis \n"
   ]
  },
  {
   "cell_type": "markdown",
   "id": "c20c8079",
   "metadata": {},
   "source": [
    "### 2.1 Univariate data analysis on the dataset"
   ]
  },
  {
   "cell_type": "markdown",
   "id": "a0a95936",
   "metadata": {},
   "source": [
    "### 2.1.1 Gender ditribution among the users."
   ]
  },
  {
   "cell_type": "code",
   "execution_count": 86,
   "id": "d53658e2",
   "metadata": {},
   "outputs": [
    {
     "data": {
      "text/plain": [
       "<AxesSubplot:title={'center':'Gender distribution among Users'}, ylabel='No. of Users'>"
      ]
     },
     "execution_count": 86,
     "metadata": {},
     "output_type": "execute_result"
    },
    {
     "data": {
      "image/png": "[encoded data removed]",
      "text/plain": [
       "<Figure size 1080x576 with 1 Axes>"
      ]
     },
     "metadata": {
      "needs_background": "light"
     },
     "output_type": "display_data"
    }
   ],
   "source": [
    "plt.figure(figsize=(15,8))\n",
    "plt.title('Gender distribution among Users', fontsize = 20)\n",
    "plt.ylabel('No. of Users', fontsize = 14)\n",
    "twitter_data['gender'].value_counts().plot(kind='bar')"
   ]
  },
  {
   "cell_type": "markdown",
   "id": "6e2473f3",
   "metadata": {},
   "source": [
    "**We observe that 'Females' is the most popular gender.**"
   ]
  },
  {
   "cell_type": "markdown",
   "id": "5ee6000b",
   "metadata": {},
   "source": [
    "### 2.1.2 Link colour choices among all Users"
   ]
  },
  {
   "cell_type": "code",
   "execution_count": 87,
   "id": "26addf18",
   "metadata": {},
   "outputs": [
    {
     "data": {
      "text/plain": [
       "2882"
      ]
     },
     "execution_count": 87,
     "metadata": {},
     "output_type": "execute_result"
    }
   ],
   "source": [
    "n = len(pd.unique(twitter_data['link_color']))\n",
    "n"
   ]
  },
  {
   "cell_type": "markdown",
   "id": "1204f8cf",
   "metadata": {},
   "source": [
    "**We observe that Users have chosen 2882 unique colours which will pose a challenge to visualize. A better approach would be to pick top 5 most preferred colour choices.**"
   ]
  },
  {
   "cell_type": "markdown",
   "id": "2f7c4261",
   "metadata": {},
   "source": [
    "**P.S. all colours are referred to by their hexadecimal values in the dataset**"
   ]
  },
  {
   "cell_type": "code",
   "execution_count": 88,
   "id": "d2699a45",
   "metadata": {},
   "outputs": [
    {
     "data": {
      "text/plain": [
       "<AxesSubplot:title={'center':'Top 5 preferred link colour choices among all Users'}, xlabel='link_color', ylabel='No. of Users'>"
      ]
     },
     "execution_count": 88,
     "metadata": {},
     "output_type": "execute_result"
    },
    {
     "data": {
      "image/png": "[encoded data removed]",
      "text/plain": [
       "<Figure size 1080x576 with 1 Axes>"
      ]
     },
     "metadata": {
      "needs_background": "light"
     },
     "output_type": "display_data"
    }
   ],
   "source": [
    "allusers_link = twitter_data.pivot_table(index = ['link_color'], aggfunc ='size')\n",
    "plt.figure(figsize=(15,8))\n",
    "plt.title('Top 5 preferred link colour choices among all Users', fontsize = 20)\n",
    "plt.ylabel('No. of Users', fontsize = 14)\n",
    "allusers_link.sort_values(ascending = False).head(5).plot(kind='bar')"
   ]
  },
  {
   "cell_type": "markdown",
   "id": "327d275e",
   "metadata": {},
   "source": [
    "### 2.1.3 Sidebar colour choices among all Users"
   ]
  },
  {
   "cell_type": "code",
   "execution_count": 89,
   "id": "81424727",
   "metadata": {},
   "outputs": [
    {
     "data": {
      "text/plain": [
       "545"
      ]
     },
     "execution_count": 89,
     "metadata": {},
     "output_type": "execute_result"
    }
   ],
   "source": [
    "n = len(pd.unique(twitter_data['sidebar_color']))\n",
    "n"
   ]
  },
  {
   "cell_type": "markdown",
   "id": "525650dd",
   "metadata": {},
   "source": [
    "**We observe that Users have chosen 545 unique colours which will pose a challenge to visualize. A better approach would be to pick top 5 most preferred colour choices.**"
   ]
  },
  {
   "cell_type": "markdown",
   "id": "84bef617",
   "metadata": {},
   "source": [
    "**P.S. all colours are referred to by their hexadecimal values in the dataset**"
   ]
  },
  {
   "cell_type": "code",
   "execution_count": 90,
   "id": "3a01f9d4",
   "metadata": {},
   "outputs": [
    {
     "data": {
      "text/plain": [
       "<AxesSubplot:title={'center':'Top 5 preferred Sidebar colour choices among all Users'}, xlabel='sidebar_color', ylabel='No. of Users'>"
      ]
     },
     "execution_count": 90,
     "metadata": {},
     "output_type": "execute_result"
    },
    {
     "data": {
      "image/png": "[encoded data removed]",
      "text/plain": [
       "<Figure size 1080x576 with 1 Axes>"
      ]
     },
     "metadata": {
      "needs_background": "light"
     },
     "output_type": "display_data"
    }
   ],
   "source": [
    "allusers_side = twitter_data.pivot_table(index = ['sidebar_color'], aggfunc ='size')\n",
    "plt.figure(figsize=(15,8))\n",
    "plt.title('Top 5 preferred Sidebar colour choices among all Users', fontsize = 20)\n",
    "plt.ylabel('No. of Users', fontsize = 14)\n",
    "allusers_side.sort_values(ascending = False).head(5).plot(kind='bar')"
   ]
  },
  {
   "cell_type": "markdown",
   "id": "061ad5f1",
   "metadata": {},
   "source": [
    "### 2.2 Bivariate data analysis on the dataset"
   ]
  },
  {
   "cell_type": "markdown",
   "id": "67504e97",
   "metadata": {},
   "source": [
    "### 2.2.1 Is there a gender bias in choice of colours for link colour?"
   ]
  },
  {
   "cell_type": "markdown",
   "id": "6e7bb483",
   "metadata": {},
   "source": [
    "**Below we add another categorical variable (gender) to the attribute 'link_colour' to analyze whether there is a gender bias when a colour is chosen**"
   ]
  },
  {
   "cell_type": "code",
   "execution_count": 91,
   "id": "94b1fa2c",
   "metadata": {},
   "outputs": [
    {
     "data": {
      "image/png": "[encoded data removed]",
      "text/plain": [
       "<Figure size 1440x576 with 2 Axes>"
      ]
     },
     "metadata": {
      "needs_background": "light"
     },
     "output_type": "display_data"
    }
   ],
   "source": [
    "fig, (ax1, ax2) = plt.subplots(1,2, figsize=(20,8))\n",
    "twitter_data.pivot_table(index = ['link_color'], aggfunc ='size').sort_values(ascending = False).head(5).plot(kind='bar', ax=ax1).set_title(\"Top 5 preferred Link colour choices among all Users\")\n",
    "twitter_data[twitter_data.gender == \"male\"].pivot_table(index = ['link_color'], aggfunc ='size').sort_values(ascending = False).head(5).plot(kind='bar', ax=ax2).set_title(\"Top 5 preferred link colour choices among Males\")\n",
    "plt.show()"
   ]
  },
  {
   "cell_type": "markdown",
   "id": "34d2b62d",
   "metadata": {},
   "source": [
    "**In the above graph we compare Males' choices for a link colour on the profile. It is observed there is a difference in opinion for choices of colours as compared to the general trend.**"
   ]
  },
  {
   "cell_type": "code",
   "execution_count": 92,
   "id": "1a1fdf20",
   "metadata": {},
   "outputs": [
    {
     "data": {
      "image/png": "[encoded data removed]",
      "text/plain": [
       "<Figure size 1440x576 with 2 Axes>"
      ]
     },
     "metadata": {
      "needs_background": "light"
     },
     "output_type": "display_data"
    }
   ],
   "source": [
    "fig, (ax1, ax2) = plt.subplots(1,2, figsize=(20,8))\n",
    "twitter_data.pivot_table(index = ['link_color'], aggfunc ='size').sort_values(ascending = False).head(5).plot(kind='bar', ax=ax1).set_title(\"Top 5 preferred Link colour choices among all Users\")\n",
    "twitter_data[twitter_data.gender == \"female\"].pivot_table(index = ['link_color'], aggfunc ='size').sort_values(ascending = False).head(5).plot(kind='bar', ax=ax2).set_title(\"Top 5 preferred link colour choices among Females\")\n",
    "plt.show()"
   ]
  },
  {
   "cell_type": "markdown",
   "id": "a4af8685",
   "metadata": {},
   "source": [
    "**In the above graph we compare Females' choices for a link colour on the profile. It is observed there is a difference in opinion for choices of colours as compared to the general trend.**"
   ]
  },
  {
   "cell_type": "code",
   "execution_count": 93,
   "id": "b02bb5a2",
   "metadata": {},
   "outputs": [
    {
     "data": {
      "image/png": "[encoded data removed]",
      "text/plain": [
       "<Figure size 1440x576 with 2 Axes>"
      ]
     },
     "metadata": {
      "needs_background": "light"
     },
     "output_type": "display_data"
    }
   ],
   "source": [
    "fig, (ax1, ax2) = plt.subplots(1,2, figsize=(20,8))\n",
    "twitter_data.pivot_table(index = ['link_color'], aggfunc ='size').sort_values(ascending = False).head(5).plot(kind='bar', ax=ax1).set_title(\"Top 5 preferred Link colour choices among all Users\")\n",
    "twitter_data[twitter_data.gender == \"brand\"].pivot_table(index = ['link_color'], aggfunc ='size').sort_values(ascending = False).head(5).plot(kind='bar', ax=ax2).set_title(\"Top 5 preferred link colour choices among Brands\")\n",
    "plt.show()"
   ]
  },
  {
   "cell_type": "markdown",
   "id": "73436d03",
   "metadata": {},
   "source": [
    "**In the above graph we compare Brands' choices for a link colour on the profile. It is observed there is a difference in opinion for choices of colours as compared to the general trend.**"
   ]
  },
  {
   "cell_type": "markdown",
   "id": "7796909b",
   "metadata": {},
   "source": [
    "### 2.2.2 Is there a gender bias in choice of colours for Sidebar colour?"
   ]
  },
  {
   "cell_type": "markdown",
   "id": "d536f938",
   "metadata": {},
   "source": [
    "**Below we add another categorical variable (gender) to the attribute 'sidebar_colour' to analyze whether there is a gender bias when a colour is chosen**"
   ]
  },
  {
   "cell_type": "code",
   "execution_count": 94,
   "id": "9cebeb4d",
   "metadata": {},
   "outputs": [
    {
     "data": {
      "image/png": "[encoded data removed]",
      "text/plain": [
       "<Figure size 1440x576 with 2 Axes>"
      ]
     },
     "metadata": {
      "needs_background": "light"
     },
     "output_type": "display_data"
    }
   ],
   "source": [
    "fig, (ax1, ax2) = plt.subplots(1,2, figsize=(20,8))\n",
    "twitter_data.pivot_table(index = ['sidebar_color'], aggfunc ='size').sort_values(ascending = False).head(5).plot(kind='bar', ax=ax1).set_title(\"Top 5 preferred Sidebar colour choices among all Users\")\n",
    "twitter_data[twitter_data.gender == \"male\"].pivot_table(index = ['sidebar_color'], aggfunc ='size').sort_values(ascending = False).head(5).plot(kind='bar', ax=ax2).set_title(\"Top 5 preferred Sidebar colour choices among Males\")\n",
    "plt.show()"
   ]
  },
  {
   "cell_type": "markdown",
   "id": "915b199d",
   "metadata": {},
   "source": [
    "**In the above graph we compare Males' choices for a sidebar colour in their profile. It is observed that the choice of colours is similiar to the general trend.**"
   ]
  },
  {
   "cell_type": "code",
   "execution_count": 95,
   "id": "b6025f97",
   "metadata": {},
   "outputs": [
    {
     "data": {
      "image/png": "[encoded data removed]",
      "text/plain": [
       "<Figure size 1440x576 with 2 Axes>"
      ]
     },
     "metadata": {
      "needs_background": "light"
     },
     "output_type": "display_data"
    }
   ],
   "source": [
    "fig, (ax1, ax2) = plt.subplots(1,2, figsize=(20,8))\n",
    "twitter_data.pivot_table(index = ['sidebar_color'], aggfunc ='size').sort_values(ascending = False).head(5).plot(kind='bar', ax=ax1).set_title(\"Top 5 preferred Sidebar colour choices among all Users\")\n",
    "twitter_data[twitter_data.gender == \"female\"].pivot_table(index = ['sidebar_color'], aggfunc ='size').sort_values(ascending = False).head(5).plot(kind='bar', ax=ax2).set_title(\"Top 5 preferred Sidebar colour choices among Females\")\n",
    "plt.show()"
   ]
  },
  {
   "cell_type": "markdown",
   "id": "23b1b36e",
   "metadata": {},
   "source": [
    "**In the above graph we compare Females' choices for a sidebar colour in their profile. It is observed there is a difference in opinion for choices of colours as compared to the general trend.**"
   ]
  },
  {
   "cell_type": "code",
   "execution_count": 96,
   "id": "012655ac",
   "metadata": {},
   "outputs": [
    {
     "data": {
      "image/png": "[encoded data removed]",
      "text/plain": [
       "<Figure size 1440x576 with 2 Axes>"
      ]
     },
     "metadata": {
      "needs_background": "light"
     },
     "output_type": "display_data"
    }
   ],
   "source": [
    "fig, (ax1, ax2) = plt.subplots(1,2, figsize=(20,8))\n",
    "twitter_data.pivot_table(index = ['sidebar_color'], aggfunc ='size').sort_values(ascending = False).head(5).plot(kind='bar', ax=ax1).set_title(\"Top 5 preferred Sidebar colour choices among all Users\")\n",
    "twitter_data[twitter_data.gender == \"brand\"].pivot_table(index = ['sidebar_color'], aggfunc ='size').sort_values(ascending = False).head(5).plot(kind='bar', ax=ax2).set_title(\"Top 5 preferred Sidebar colour choices among Brands\")\n",
    "plt.show()"
   ]
  },
  {
   "cell_type": "markdown",
   "id": "1bc78431",
   "metadata": {},
   "source": [
    "**In the above graph we compare Brands' choices for a sidebar colour in their profile. It is observed that the choice of colours is similiar to the general trend.**"
   ]
  },
  {
   "cell_type": "markdown",
   "id": "9020fdc6",
   "metadata": {},
   "source": [
    "### 2.2.3 Average no. of tweets for each gender"
   ]
  },
  {
   "cell_type": "code",
   "execution_count": 97,
   "id": "b318c8ef",
   "metadata": {},
   "outputs": [
    {
     "data": {
      "text/plain": [
       "<AxesSubplot:xlabel='gender', ylabel='tweet_count'>"
      ]
     },
     "execution_count": 97,
     "metadata": {},
     "output_type": "execute_result"
    },
    {
     "data": {
      "image/png": "[encoded data removed]",
      "text/plain": [
       "<Figure size 432x288 with 1 Axes>"
      ]
     },
     "metadata": {
      "needs_background": "light"
     },
     "output_type": "display_data"
    }
   ],
   "source": [
    "from numpy import average\n",
    "from numpy import sum\n",
    "sns.barplot (x = 'gender', y = 'tweet_count',data = twitter_data, estimator=average)"
   ]
  },
  {
   "cell_type": "markdown",
   "id": "c8b5a4fe",
   "metadata": {},
   "source": [
    "### 2.2.4 Average no. of tweets that were added as 'favourites' for each gender"
   ]
  },
  {
   "cell_type": "code",
   "execution_count": 98,
   "id": "ea329845",
   "metadata": {},
   "outputs": [
    {
     "data": {
      "text/plain": [
       "<AxesSubplot:xlabel='gender', ylabel='fav_number'>"
      ]
     },
     "execution_count": 98,
     "metadata": {},
     "output_type": "execute_result"
    },
    {
     "data": {
      "image/png": "[encoded data removed]",
      "text/plain": [
       "<Figure size 432x288 with 1 Axes>"
      ]
     },
     "metadata": {
      "needs_background": "light"
     },
     "output_type": "display_data"
    }
   ],
   "source": [
    "sns.barplot (x = 'gender', y = 'fav_number',data = twitter_data, estimator=average)"
   ]
  },
  {
   "cell_type": "markdown",
   "id": "97828452",
   "metadata": {},
   "source": [
    "### 2.2.5 Average no. of tweets that were retweeted for each gender"
   ]
  },
  {
   "cell_type": "code",
   "execution_count": 99,
   "id": "8cdb9a84",
   "metadata": {},
   "outputs": [
    {
     "data": {
      "text/plain": [
       "<AxesSubplot:xlabel='gender', ylabel='retweet_count'>"
      ]
     },
     "execution_count": 99,
     "metadata": {},
     "output_type": "execute_result"
    },
    {
     "data": {
      "image/png": "[encoded data removed]",
      "text/plain": [
       "<Figure size 432x288 with 1 Axes>"
      ]
     },
     "metadata": {
      "needs_background": "light"
     },
     "output_type": "display_data"
    }
   ],
   "source": [
    "sns.barplot (x = 'gender', y = 'retweet_count',data = twitter_data, estimator=average)"
   ]
  },
  {
   "cell_type": "markdown",
   "id": "f1be2989",
   "metadata": {},
   "source": [
    "## 3.Data Preprocessing on twitter_data dataset "
   ]
  },
  {
   "cell_type": "code",
   "execution_count": 100,
   "id": "64dffa1b",
   "metadata": {},
   "outputs": [
    {
     "data": {
      "text/html": [
       "<div>\n",
       "<style scoped>\n",
       "    .dataframe tbody tr th:only-of-type {\n",
       "        vertical-align: middle;\n",
       "    }\n",
       "\n",
       "    .dataframe tbody tr th {\n",
       "        vertical-align: top;\n",
       "    }\n",
       "\n",
       "    .dataframe thead th {\n",
       "        text-align: right;\n",
       "    }\n",
       "</style>\n",
       "<table border=\"1\" class=\"dataframe\">\n",
       "  <thead>\n",
       "    <tr style=\"text-align: right;\">\n",
       "      <th></th>\n",
       "      <th>_unit_id</th>\n",
       "      <th>_trusted_judgments</th>\n",
       "      <th>gender:confidence</th>\n",
       "      <th>profile_yn:confidence</th>\n",
       "      <th>fav_number</th>\n",
       "      <th>retweet_count</th>\n",
       "      <th>tweet_count</th>\n",
       "      <th>tweet_id</th>\n",
       "    </tr>\n",
       "  </thead>\n",
       "  <tbody>\n",
       "    <tr>\n",
       "      <th>count</th>\n",
       "      <td>1.883600e+04</td>\n",
       "      <td>18836.000000</td>\n",
       "      <td>18836.000000</td>\n",
       "      <td>18836.000000</td>\n",
       "      <td>18836.000000</td>\n",
       "      <td>18836.000000</td>\n",
       "      <td>1.883600e+04</td>\n",
       "      <td>1.883600e+04</td>\n",
       "    </tr>\n",
       "    <tr>\n",
       "      <th>mean</th>\n",
       "      <td>8.157295e+08</td>\n",
       "      <td>3.655394</td>\n",
       "      <td>0.900997</td>\n",
       "      <td>0.994623</td>\n",
       "      <td>4413.461563</td>\n",
       "      <td>0.082502</td>\n",
       "      <td>3.913570e+04</td>\n",
       "      <td>6.587350e+17</td>\n",
       "    </tr>\n",
       "    <tr>\n",
       "      <th>std</th>\n",
       "      <td>6.010412e+03</td>\n",
       "      <td>12.722085</td>\n",
       "      <td>0.172980</td>\n",
       "      <td>0.042132</td>\n",
       "      <td>12468.532705</td>\n",
       "      <td>2.732317</td>\n",
       "      <td>1.191306e+05</td>\n",
       "      <td>5.000038e+12</td>\n",
       "    </tr>\n",
       "    <tr>\n",
       "      <th>min</th>\n",
       "      <td>8.157192e+08</td>\n",
       "      <td>3.000000</td>\n",
       "      <td>0.314000</td>\n",
       "      <td>0.627200</td>\n",
       "      <td>0.000000</td>\n",
       "      <td>0.000000</td>\n",
       "      <td>1.000000e+00</td>\n",
       "      <td>6.587300e+17</td>\n",
       "    </tr>\n",
       "    <tr>\n",
       "      <th>25%</th>\n",
       "      <td>8.157243e+08</td>\n",
       "      <td>3.000000</td>\n",
       "      <td>0.686475</td>\n",
       "      <td>1.000000</td>\n",
       "      <td>13.000000</td>\n",
       "      <td>0.000000</td>\n",
       "      <td>2.399750e+03</td>\n",
       "      <td>6.587300e+17</td>\n",
       "    </tr>\n",
       "    <tr>\n",
       "      <th>50%</th>\n",
       "      <td>8.157294e+08</td>\n",
       "      <td>3.000000</td>\n",
       "      <td>1.000000</td>\n",
       "      <td>1.000000</td>\n",
       "      <td>482.500000</td>\n",
       "      <td>0.000000</td>\n",
       "      <td>1.131250e+04</td>\n",
       "      <td>6.587400e+17</td>\n",
       "    </tr>\n",
       "    <tr>\n",
       "      <th>75%</th>\n",
       "      <td>8.157345e+08</td>\n",
       "      <td>3.000000</td>\n",
       "      <td>1.000000</td>\n",
       "      <td>1.000000</td>\n",
       "      <td>3375.500000</td>\n",
       "      <td>0.000000</td>\n",
       "      <td>3.979350e+04</td>\n",
       "      <td>6.587400e+17</td>\n",
       "    </tr>\n",
       "    <tr>\n",
       "      <th>max</th>\n",
       "      <td>8.157580e+08</td>\n",
       "      <td>274.000000</td>\n",
       "      <td>1.000000</td>\n",
       "      <td>1.000000</td>\n",
       "      <td>341621.000000</td>\n",
       "      <td>330.000000</td>\n",
       "      <td>2.680199e+06</td>\n",
       "      <td>6.587400e+17</td>\n",
       "    </tr>\n",
       "  </tbody>\n",
       "</table>\n",
       "</div>"
      ],
      "text/plain": [
       "           _unit_id  _trusted_judgments  gender:confidence  \\\n",
       "count  1.883600e+04        18836.000000       18836.000000   \n",
       "mean   8.157295e+08            3.655394           0.900997   \n",
       "std    6.010412e+03           12.722085           0.172980   \n",
       "min    8.157192e+08            3.000000           0.314000   \n",
       "25%    8.157243e+08            3.000000           0.686475   \n",
       "50%    8.157294e+08            3.000000           1.000000   \n",
       "75%    8.157345e+08            3.000000           1.000000   \n",
       "max    8.157580e+08          274.000000           1.000000   \n",
       "\n",
       "       profile_yn:confidence     fav_number  retweet_count   tweet_count  \\\n",
       "count           18836.000000   18836.000000   18836.000000  1.883600e+04   \n",
       "mean                0.994623    4413.461563       0.082502  3.913570e+04   \n",
       "std                 0.042132   12468.532705       2.732317  1.191306e+05   \n",
       "min                 0.627200       0.000000       0.000000  1.000000e+00   \n",
       "25%                 1.000000      13.000000       0.000000  2.399750e+03   \n",
       "50%                 1.000000     482.500000       0.000000  1.131250e+04   \n",
       "75%                 1.000000    3375.500000       0.000000  3.979350e+04   \n",
       "max                 1.000000  341621.000000     330.000000  2.680199e+06   \n",
       "\n",
       "           tweet_id  \n",
       "count  1.883600e+04  \n",
       "mean   6.587350e+17  \n",
       "std    5.000038e+12  \n",
       "min    6.587300e+17  \n",
       "25%    6.587300e+17  \n",
       "50%    6.587400e+17  \n",
       "75%    6.587400e+17  \n",
       "max    6.587400e+17  "
      ]
     },
     "execution_count": 100,
     "metadata": {},
     "output_type": "execute_result"
    }
   ],
   "source": [
    "## Calculating the statistical data of the numerical values of the twitter data set\n",
    "twitter_data.describe()"
   ]
  },
  {
   "cell_type": "markdown",
   "id": "5a86ef69",
   "metadata": {},
   "source": [
    "The describe() method is used to get a summary of numeric values in the twitter dataset. It calculates the mean, standard deviation, minimum value, maximum value, 1st percentile, 2nd percentile, 3rd percentile of the columns with numeric values. It also counts the number of variables in the dataset."
   ]
  },
  {
   "cell_type": "code",
   "execution_count": 101,
   "id": "cceae258",
   "metadata": {},
   "outputs": [
    {
     "data": {
      "text/plain": [
       "_unit_id                 18836\n",
       "_golden                      2\n",
       "_unit_state                  2\n",
       "_trusted_judgments          32\n",
       "_last_judgment_at          283\n",
       "gender                       3\n",
       "gender:confidence          892\n",
       "profile_yn                   1\n",
       "profile_yn:confidence      221\n",
       "created                  17619\n",
       "description              14445\n",
       "fav_number                6551\n",
       "gender_gold                  6\n",
       "link_color                2882\n",
       "name                     17704\n",
       "profile_yn_gold              1\n",
       "profileimage             16355\n",
       "retweet_count               22\n",
       "sidebar_color              545\n",
       "text                     17446\n",
       "tweet_coord                144\n",
       "tweet_count              13605\n",
       "tweet_created                5\n",
       "tweet_id                     2\n",
       "tweet_location            7538\n",
       "user_timezone              153\n",
       "dtype: int64"
      ]
     },
     "execution_count": 101,
     "metadata": {},
     "output_type": "execute_result"
    }
   ],
   "source": [
    "## nunique() method will print the counts of unique numbers in each column\n",
    "twitter_data.nunique()"
   ]
  },
  {
   "cell_type": "code",
   "execution_count": 102,
   "id": "2e0f540f",
   "metadata": {},
   "outputs": [
    {
     "data": {
      "text/html": [
       "<div>\n",
       "<style scoped>\n",
       "    .dataframe tbody tr th:only-of-type {\n",
       "        vertical-align: middle;\n",
       "    }\n",
       "\n",
       "    .dataframe tbody tr th {\n",
       "        vertical-align: top;\n",
       "    }\n",
       "\n",
       "    .dataframe thead th {\n",
       "        text-align: right;\n",
       "    }\n",
       "</style>\n",
       "<table border=\"1\" class=\"dataframe\">\n",
       "  <thead>\n",
       "    <tr style=\"text-align: right;\">\n",
       "      <th></th>\n",
       "      <th>_unit_id</th>\n",
       "      <th>_golden</th>\n",
       "      <th>_trusted_judgments</th>\n",
       "      <th>gender:confidence</th>\n",
       "      <th>profile_yn:confidence</th>\n",
       "      <th>fav_number</th>\n",
       "      <th>retweet_count</th>\n",
       "      <th>tweet_count</th>\n",
       "      <th>tweet_id</th>\n",
       "    </tr>\n",
       "  </thead>\n",
       "  <tbody>\n",
       "    <tr>\n",
       "      <th>_unit_id</th>\n",
       "      <td>1.000000</td>\n",
       "      <td>0.214188</td>\n",
       "      <td>0.213772</td>\n",
       "      <td>0.003128</td>\n",
       "      <td>0.011457</td>\n",
       "      <td>0.022674</td>\n",
       "      <td>-0.004410</td>\n",
       "      <td>-0.027918</td>\n",
       "      <td>0.843929</td>\n",
       "    </tr>\n",
       "    <tr>\n",
       "      <th>_golden</th>\n",
       "      <td>0.214188</td>\n",
       "      <td>1.000000</td>\n",
       "      <td>0.998591</td>\n",
       "      <td>0.004620</td>\n",
       "      <td>0.004743</td>\n",
       "      <td>0.003802</td>\n",
       "      <td>-0.000803</td>\n",
       "      <td>-0.009876</td>\n",
       "      <td>-0.006509</td>\n",
       "    </tr>\n",
       "    <tr>\n",
       "      <th>_trusted_judgments</th>\n",
       "      <td>0.213772</td>\n",
       "      <td>0.998591</td>\n",
       "      <td>1.000000</td>\n",
       "      <td>0.005463</td>\n",
       "      <td>0.004689</td>\n",
       "      <td>0.003861</td>\n",
       "      <td>-0.000824</td>\n",
       "      <td>-0.009910</td>\n",
       "      <td>-0.006298</td>\n",
       "    </tr>\n",
       "    <tr>\n",
       "      <th>gender:confidence</th>\n",
       "      <td>0.003128</td>\n",
       "      <td>0.004620</td>\n",
       "      <td>0.005463</td>\n",
       "      <td>1.000000</td>\n",
       "      <td>0.242457</td>\n",
       "      <td>-0.033110</td>\n",
       "      <td>-0.006949</td>\n",
       "      <td>-0.016993</td>\n",
       "      <td>0.021295</td>\n",
       "    </tr>\n",
       "    <tr>\n",
       "      <th>profile_yn:confidence</th>\n",
       "      <td>0.011457</td>\n",
       "      <td>0.004743</td>\n",
       "      <td>0.004689</td>\n",
       "      <td>0.242457</td>\n",
       "      <td>1.000000</td>\n",
       "      <td>0.002157</td>\n",
       "      <td>0.002459</td>\n",
       "      <td>-0.015807</td>\n",
       "      <td>0.015084</td>\n",
       "    </tr>\n",
       "    <tr>\n",
       "      <th>fav_number</th>\n",
       "      <td>0.022674</td>\n",
       "      <td>0.003802</td>\n",
       "      <td>0.003861</td>\n",
       "      <td>-0.033110</td>\n",
       "      <td>0.002157</td>\n",
       "      <td>1.000000</td>\n",
       "      <td>0.008499</td>\n",
       "      <td>0.063615</td>\n",
       "      <td>0.037551</td>\n",
       "    </tr>\n",
       "    <tr>\n",
       "      <th>retweet_count</th>\n",
       "      <td>-0.004410</td>\n",
       "      <td>-0.000803</td>\n",
       "      <td>-0.000824</td>\n",
       "      <td>-0.006949</td>\n",
       "      <td>0.002459</td>\n",
       "      <td>0.008499</td>\n",
       "      <td>1.000000</td>\n",
       "      <td>-0.001222</td>\n",
       "      <td>-0.006715</td>\n",
       "    </tr>\n",
       "    <tr>\n",
       "      <th>tweet_count</th>\n",
       "      <td>-0.027918</td>\n",
       "      <td>-0.009876</td>\n",
       "      <td>-0.009910</td>\n",
       "      <td>-0.016993</td>\n",
       "      <td>-0.015807</td>\n",
       "      <td>0.063615</td>\n",
       "      <td>-0.001222</td>\n",
       "      <td>1.000000</td>\n",
       "      <td>-0.040411</td>\n",
       "    </tr>\n",
       "    <tr>\n",
       "      <th>tweet_id</th>\n",
       "      <td>0.843929</td>\n",
       "      <td>-0.006509</td>\n",
       "      <td>-0.006298</td>\n",
       "      <td>0.021295</td>\n",
       "      <td>0.015084</td>\n",
       "      <td>0.037551</td>\n",
       "      <td>-0.006715</td>\n",
       "      <td>-0.040411</td>\n",
       "      <td>1.000000</td>\n",
       "    </tr>\n",
       "  </tbody>\n",
       "</table>\n",
       "</div>"
      ],
      "text/plain": [
       "                       _unit_id   _golden  _trusted_judgments  \\\n",
       "_unit_id               1.000000  0.214188            0.213772   \n",
       "_golden                0.214188  1.000000            0.998591   \n",
       "_trusted_judgments     0.213772  0.998591            1.000000   \n",
       "gender:confidence      0.003128  0.004620            0.005463   \n",
       "profile_yn:confidence  0.011457  0.004743            0.004689   \n",
       "fav_number             0.022674  0.003802            0.003861   \n",
       "retweet_count         -0.004410 -0.000803           -0.000824   \n",
       "tweet_count           -0.027918 -0.009876           -0.009910   \n",
       "tweet_id               0.843929 -0.006509           -0.006298   \n",
       "\n",
       "                       gender:confidence  profile_yn:confidence  fav_number  \\\n",
       "_unit_id                        0.003128               0.011457    0.022674   \n",
       "_golden                         0.004620               0.004743    0.003802   \n",
       "_trusted_judgments              0.005463               0.004689    0.003861   \n",
       "gender:confidence               1.000000               0.242457   -0.033110   \n",
       "profile_yn:confidence           0.242457               1.000000    0.002157   \n",
       "fav_number                     -0.033110               0.002157    1.000000   \n",
       "retweet_count                  -0.006949               0.002459    0.008499   \n",
       "tweet_count                    -0.016993              -0.015807    0.063615   \n",
       "tweet_id                        0.021295               0.015084    0.037551   \n",
       "\n",
       "                       retweet_count  tweet_count  tweet_id  \n",
       "_unit_id                   -0.004410    -0.027918  0.843929  \n",
       "_golden                    -0.000803    -0.009876 -0.006509  \n",
       "_trusted_judgments         -0.000824    -0.009910 -0.006298  \n",
       "gender:confidence          -0.006949    -0.016993  0.021295  \n",
       "profile_yn:confidence       0.002459    -0.015807  0.015084  \n",
       "fav_number                  0.008499     0.063615  0.037551  \n",
       "retweet_count               1.000000    -0.001222 -0.006715  \n",
       "tweet_count                -0.001222     1.000000 -0.040411  \n",
       "tweet_id                   -0.006715    -0.040411  1.000000  "
      ]
     },
     "execution_count": 102,
     "metadata": {},
     "output_type": "execute_result"
    }
   ],
   "source": [
    "##Create the correlation matrix\n",
    "twitter_data.corr()"
   ]
  },
  {
   "cell_type": "code",
   "execution_count": 103,
   "id": "cffdf556",
   "metadata": {},
   "outputs": [
    {
     "data": {
      "text/plain": [
       "<AxesSubplot:>"
      ]
     },
     "execution_count": 103,
     "metadata": {},
     "output_type": "execute_result"
    },
    {
     "data": {
      "image/png": "[encoded data removed]",
      "text/plain": [
       "<Figure size 720x720 with 2 Axes>"
      ]
     },
     "metadata": {
      "needs_background": "light"
     },
     "output_type": "display_data"
    }
   ],
   "source": [
    "# Replotting the Co-relation matrix. \n",
    "corrmatrix=twitter_data.corr()\n",
    "plt.subplots(figsize=(10,10))\n",
    "sns.heatmap(corrmatrix,annot=True,linewidth=0.2,cmap='PiYG')"
   ]
  },
  {
   "cell_type": "markdown",
   "id": "e44f96ed",
   "metadata": {},
   "source": [
    "We can see a high positive correlation btw the features : _trusted_judgments/_golden columns and _unit_id."
   ]
  },
  {
   "cell_type": "code",
   "execution_count": 104,
   "id": "11fdcb61",
   "metadata": {},
   "outputs": [],
   "source": [
    "def missing_values_table(df):\n",
    "        # Total missing values\n",
    "        mis_val = df.isnull().sum()\n",
    "        \n",
    "        # Percentage of missing values\n",
    "        mis_val_percent = 100 * df.isnull().sum() / len(df)\n",
    "        \n",
    "        # Make a table with the results\n",
    "        mis_val_table = pd.concat([mis_val, mis_val_percent], axis=1)\n",
    "        \n",
    "        # Rename the columns\n",
    "        mis_val_table_ren_columns = mis_val_table.rename(columns = {0 : 'Missing Values', 1 : '% of Total Values'})\n",
    "        \n",
    "        # Sort the table by percentage of missing descending\n",
    "        mis_val_table_ren_columns = mis_val_table_ren_columns[mis_val_table_ren_columns.iloc[:,1] != 0].sort_values('% of Total Values', ascending=False).round(1)\n",
    "        # Print some summary information\n",
    "        print (\"Your selected dataframe has \" + str(df.shape[1]) + \" columns.\\n\"\"There are \" + str(mis_val_table_ren_columns.shape[0]) +\" columns that have missing values.\")\n",
    "        \n",
    "        # Return the dataframe with missing information\n",
    "        return mis_val_table_ren_columns"
   ]
  },
  {
   "cell_type": "code",
   "execution_count": 105,
   "id": "54d17aa6",
   "metadata": {},
   "outputs": [
    {
     "name": "stdout",
     "output_type": "stream",
     "text": [
      "Your selected dataframe has 26 columns.\n",
      "There are 7 columns that have missing values.\n"
     ]
    },
    {
     "data": {
      "text/html": [
       "<div>\n",
       "<style scoped>\n",
       "    .dataframe tbody tr th:only-of-type {\n",
       "        vertical-align: middle;\n",
       "    }\n",
       "\n",
       "    .dataframe tbody tr th {\n",
       "        vertical-align: top;\n",
       "    }\n",
       "\n",
       "    .dataframe thead th {\n",
       "        text-align: right;\n",
       "    }\n",
       "</style>\n",
       "<table border=\"1\" class=\"dataframe\">\n",
       "  <thead>\n",
       "    <tr style=\"text-align: right;\">\n",
       "      <th></th>\n",
       "      <th>Missing Values</th>\n",
       "      <th>% of Total Values</th>\n",
       "    </tr>\n",
       "  </thead>\n",
       "  <tbody>\n",
       "    <tr>\n",
       "      <th>gender_gold</th>\n",
       "      <td>18786</td>\n",
       "      <td>99.7</td>\n",
       "    </tr>\n",
       "    <tr>\n",
       "      <th>profile_yn_gold</th>\n",
       "      <td>18786</td>\n",
       "      <td>99.7</td>\n",
       "    </tr>\n",
       "    <tr>\n",
       "      <th>tweet_coord</th>\n",
       "      <td>18679</td>\n",
       "      <td>99.2</td>\n",
       "    </tr>\n",
       "    <tr>\n",
       "      <th>user_timezone</th>\n",
       "      <td>7183</td>\n",
       "      <td>38.1</td>\n",
       "    </tr>\n",
       "    <tr>\n",
       "      <th>tweet_location</th>\n",
       "      <td>6841</td>\n",
       "      <td>36.3</td>\n",
       "    </tr>\n",
       "    <tr>\n",
       "      <th>description</th>\n",
       "      <td>3314</td>\n",
       "      <td>17.6</td>\n",
       "    </tr>\n",
       "    <tr>\n",
       "      <th>_last_judgment_at</th>\n",
       "      <td>50</td>\n",
       "      <td>0.3</td>\n",
       "    </tr>\n",
       "  </tbody>\n",
       "</table>\n",
       "</div>"
      ],
      "text/plain": [
       "                   Missing Values  % of Total Values\n",
       "gender_gold                 18786               99.7\n",
       "profile_yn_gold             18786               99.7\n",
       "tweet_coord                 18679               99.2\n",
       "user_timezone                7183               38.1\n",
       "tweet_location               6841               36.3\n",
       "description                  3314               17.6\n",
       "_last_judgment_at              50                0.3"
      ]
     },
     "execution_count": 105,
     "metadata": {},
     "output_type": "execute_result"
    }
   ],
   "source": [
    "data_missing= missing_values_table(twitter_data) \n",
    "data_missing"
   ]
  },
  {
   "cell_type": "markdown",
   "id": "1f730fb7",
   "metadata": {},
   "source": [
    "In our twitter dataset \"_last_judgment_at\" column has 50 missing values,\"description\" -3314,\"tweet_location\"- 6841,\"user_timezone\"- 7183,tweet_coord - 18679, profile_yn_gold - 18786, gender_gold - 18786. In gender_gold, profile_yn_gold and tweet_coord columns more than 99% of the data is missing so we can drop those columns. We can use Median and Mode for handling rest of the columns with missing values"
   ]
  },
  {
   "cell_type": "code",
   "execution_count": null,
   "id": "02e2ee47",
   "metadata": {},
   "outputs": [],
   "source": [
    "pip install missingno"
   ]
  },
  {
   "cell_type": "markdown",
   "id": "03d43acd",
   "metadata": {},
   "source": [
    "To graphically analyse the missingness of the data, let's use a library called Missingno It is a package for graphical analysis of missing values."
   ]
  },
  {
   "cell_type": "code",
   "execution_count": 27,
   "id": "f786182d",
   "metadata": {},
   "outputs": [
    {
     "data": {
      "text/plain": [
       "<AxesSubplot:>"
      ]
     },
     "execution_count": 27,
     "metadata": {},
     "output_type": "execute_result"
    },
    {
     "data": {
      "image/png": "[encoded data removed]",
      "text/plain": [
       "<Figure size 1800x720 with 3 Axes>"
      ]
     },
     "metadata": {
      "needs_background": "light"
     },
     "output_type": "display_data"
    }
   ],
   "source": [
    "import missingno as msno\n",
    "msno.bar(twitter_data)"
   ]
  },
  {
   "cell_type": "markdown",
   "id": "0b3cfa04",
   "metadata": {},
   "source": [
    "The bar chart gives you an overall idea of the number of missing values in each column."
   ]
  },
  {
   "cell_type": "code",
   "execution_count": 106,
   "id": "056d4e7b",
   "metadata": {},
   "outputs": [],
   "source": [
    "## Above 99% of the \"gender_gold\",\"profile_yn_gold\",\"tweet_coord\" ,'columns is null so  We can drop those columns\n",
    "twitter_data=twitter_data.drop(labels = [\"gender_gold\"], axis=1)\n",
    "twitter_data=twitter_data.drop(labels = [\"profile_yn_gold\"], axis=1)\n",
    "twitter_data=twitter_data.drop(labels = [\"tweet_coord\"], axis=1)"
   ]
  },
  {
   "cell_type": "code",
   "execution_count": 107,
   "id": "b1a7b8f9",
   "metadata": {},
   "outputs": [],
   "source": [
    "cateogry_columns=twitter_data.select_dtypes(include=['object']).columns.tolist()\n",
    "integer_columns=twitter_data.select_dtypes(include=['int64','float64']).columns.tolist()\n",
    "\n",
    "for column in twitter_data:\n",
    "    if twitter_data[column].isnull().any():\n",
    "        if(column in cateogry_columns):\n",
    "            twitter_data[column]=twitter_data[column].fillna(twitter_data[column].mode()[0])\n",
    "        else:\n",
    "            twitter_data[column]=twitter_data[column].fillna(twitter_data[column].median())"
   ]
  },
  {
   "cell_type": "markdown",
   "id": "b34f8fee",
   "metadata": {},
   "source": [
    "Here we use Basic Imputation Technique\n",
    "Imputation using the statistics (mean, median or most frequent) of each column in which the missing values are located"
   ]
  },
  {
   "cell_type": "code",
   "execution_count": 108,
   "id": "4ac6c6a0",
   "metadata": {},
   "outputs": [
    {
     "data": {
      "text/plain": [
       "_unit_id                 0\n",
       "_golden                  0\n",
       "_unit_state              0\n",
       "_trusted_judgments       0\n",
       "_last_judgment_at        0\n",
       "gender                   0\n",
       "gender:confidence        0\n",
       "profile_yn               0\n",
       "profile_yn:confidence    0\n",
       "created                  0\n",
       "description              0\n",
       "fav_number               0\n",
       "link_color               0\n",
       "name                     0\n",
       "profileimage             0\n",
       "retweet_count            0\n",
       "sidebar_color            0\n",
       "text                     0\n",
       "tweet_count              0\n",
       "tweet_created            0\n",
       "tweet_id                 0\n",
       "tweet_location           0\n",
       "user_timezone            0\n",
       "dtype: int64"
      ]
     },
     "execution_count": 108,
     "metadata": {},
     "output_type": "execute_result"
    }
   ],
   "source": [
    "## Check null values if any\n",
    "twitter_data.isnull().sum()"
   ]
  },
  {
   "cell_type": "code",
   "execution_count": 31,
   "id": "b41118fb",
   "metadata": {},
   "outputs": [
    {
     "data": {
      "text/plain": [
       "(18836, 23)"
      ]
     },
     "execution_count": 31,
     "metadata": {},
     "output_type": "execute_result"
    }
   ],
   "source": [
    "## Display the shape - total number of rows and columns in the twitter dataset\n",
    "twitter_data.shape"
   ]
  },
  {
   "cell_type": "markdown",
   "id": "6d1b3507",
   "metadata": {},
   "source": [
    "Advanced Imputation Techniques\n",
    "\n",
    "Advanced imputation techniques uses machine learning algorithms to impute the missing values in a dataset unlike the previous techniques where we used other column values to predict the missing values. We shall look at the following two techniques in this notebook:\n",
    "\n",
    "Nearest neighbors imputation\n",
    "\n",
    "Multivariate feature imputation"
   ]
  },
  {
   "cell_type": "markdown",
   "id": "61dfe678",
   "metadata": {},
   "source": [
    "### 3.1. Check and handle outliers in the twitter dataset"
   ]
  },
  {
   "cell_type": "code",
   "execution_count": 109,
   "id": "6a3dd3ee",
   "metadata": {},
   "outputs": [
    {
     "data": {
      "text/plain": [
       "<AxesSubplot:>"
      ]
     },
     "execution_count": 109,
     "metadata": {},
     "output_type": "execute_result"
    },
    {
     "data": {
      "image/png": "[encoded data removed]",
      "text/plain": [
       "<Figure size 1080x720 with 1 Axes>"
      ]
     },
     "metadata": {
      "needs_background": "light"
     },
     "output_type": "display_data"
    }
   ],
   "source": [
    "##outlier Analysis\n",
    "plt.figure(figsize=(15,10))\n",
    "twitter_data.boxplot()\n",
    "## This will form a Box-plot for the skewed feature of specified columns"
   ]
  },
  {
   "cell_type": "markdown",
   "id": "202cfb15",
   "metadata": {},
   "source": [
    "No outliers found in this dataset"
   ]
  },
  {
   "cell_type": "markdown",
   "id": "193e9189",
   "metadata": {},
   "source": [
    "### 3.3. One Hot Encoding For converting the categorical variables"
   ]
  },
  {
   "cell_type": "code",
   "execution_count": 110,
   "id": "3cd9232a",
   "metadata": {},
   "outputs": [
    {
     "name": "stdout",
     "output_type": "stream",
     "text": [
      "<class 'pandas.core.frame.DataFrame'>\n",
      "Int64Index: 18836 entries, 0 to 20049\n",
      "Data columns (total 23 columns):\n",
      " #   Column                 Non-Null Count  Dtype  \n",
      "---  ------                 --------------  -----  \n",
      " 0   _unit_id               18836 non-null  int64  \n",
      " 1   _golden                18836 non-null  bool   \n",
      " 2   _unit_state            18836 non-null  object \n",
      " 3   _trusted_judgments     18836 non-null  int64  \n",
      " 4   _last_judgment_at      18836 non-null  object \n",
      " 5   gender                 18836 non-null  object \n",
      " 6   gender:confidence      18836 non-null  float64\n",
      " 7   profile_yn             18836 non-null  object \n",
      " 8   profile_yn:confidence  18836 non-null  float64\n",
      " 9   created                18836 non-null  object \n",
      " 10  description            18836 non-null  object \n",
      " 11  fav_number             18836 non-null  int64  \n",
      " 12  link_color             18836 non-null  object \n",
      " 13  name                   18836 non-null  object \n",
      " 14  profileimage           18836 non-null  object \n",
      " 15  retweet_count          18836 non-null  int64  \n",
      " 16  sidebar_color          18836 non-null  object \n",
      " 17  text                   18836 non-null  object \n",
      " 18  tweet_count            18836 non-null  int64  \n",
      " 19  tweet_created          18836 non-null  object \n",
      " 20  tweet_id               18836 non-null  float64\n",
      " 21  tweet_location         18836 non-null  object \n",
      " 22  user_timezone          18836 non-null  object \n",
      "dtypes: bool(1), float64(3), int64(5), object(14)\n",
      "memory usage: 3.3+ MB\n"
     ]
    }
   ],
   "source": [
    "twitter_data.info()"
   ]
  },
  {
   "cell_type": "markdown",
   "id": "6670e625",
   "metadata": {},
   "source": [
    "In our twitter dataset some attributes like  golden,_unit_state, profile_yn, profile_yn_gold, tweet_created,tweet_id etc have 1 or 2 unique values. So it doesn't contribute anything to our model. \n",
    "Some other columns tweet_location, user_timezone, created, description, name,text etc are insignificant for us. So we are trying to select most significant features for medling."
   ]
  },
  {
   "cell_type": "code",
   "execution_count": 111,
   "id": "7c13f823",
   "metadata": {},
   "outputs": [
    {
     "data": {
      "text/html": [
       "<div>\n",
       "<style scoped>\n",
       "    .dataframe tbody tr th:only-of-type {\n",
       "        vertical-align: middle;\n",
       "    }\n",
       "\n",
       "    .dataframe tbody tr th {\n",
       "        vertical-align: top;\n",
       "    }\n",
       "\n",
       "    .dataframe thead th {\n",
       "        text-align: right;\n",
       "    }\n",
       "</style>\n",
       "<table border=\"1\" class=\"dataframe\">\n",
       "  <thead>\n",
       "    <tr style=\"text-align: right;\">\n",
       "      <th></th>\n",
       "      <th>gender</th>\n",
       "      <th>fav_number</th>\n",
       "      <th>link_color</th>\n",
       "      <th>retweet_count</th>\n",
       "      <th>sidebar_color</th>\n",
       "      <th>tweet_count</th>\n",
       "    </tr>\n",
       "  </thead>\n",
       "  <tbody>\n",
       "    <tr>\n",
       "      <th>0</th>\n",
       "      <td>male</td>\n",
       "      <td>0</td>\n",
       "      <td>08C2C2</td>\n",
       "      <td>0</td>\n",
       "      <td>FFFFFF</td>\n",
       "      <td>110964</td>\n",
       "    </tr>\n",
       "    <tr>\n",
       "      <th>1</th>\n",
       "      <td>male</td>\n",
       "      <td>68</td>\n",
       "      <td>0084B4</td>\n",
       "      <td>0</td>\n",
       "      <td>C0DEED</td>\n",
       "      <td>7471</td>\n",
       "    </tr>\n",
       "    <tr>\n",
       "      <th>2</th>\n",
       "      <td>male</td>\n",
       "      <td>7696</td>\n",
       "      <td>ABB8C2</td>\n",
       "      <td>1</td>\n",
       "      <td>C0DEED</td>\n",
       "      <td>5617</td>\n",
       "    </tr>\n",
       "    <tr>\n",
       "      <th>3</th>\n",
       "      <td>male</td>\n",
       "      <td>202</td>\n",
       "      <td>0084B4</td>\n",
       "      <td>0</td>\n",
       "      <td>C0DEED</td>\n",
       "      <td>1693</td>\n",
       "    </tr>\n",
       "    <tr>\n",
       "      <th>4</th>\n",
       "      <td>female</td>\n",
       "      <td>37318</td>\n",
       "      <td>3B94D9</td>\n",
       "      <td>0</td>\n",
       "      <td>0</td>\n",
       "      <td>31462</td>\n",
       "    </tr>\n",
       "  </tbody>\n",
       "</table>\n",
       "</div>"
      ],
      "text/plain": [
       "   gender  fav_number link_color  retweet_count sidebar_color  tweet_count\n",
       "0    male           0     08C2C2              0        FFFFFF       110964\n",
       "1    male          68     0084B4              0        C0DEED         7471\n",
       "2    male        7696     ABB8C2              1        C0DEED         5617\n",
       "3    male         202     0084B4              0        C0DEED         1693\n",
       "4  female       37318     3B94D9              0             0        31462"
      ]
     },
     "execution_count": 111,
     "metadata": {},
     "output_type": "execute_result"
    }
   ],
   "source": [
    "twitter= twitter_data.iloc[:,[5,11,12,15,16,18]]\n",
    "twitter.head()"
   ]
  },
  {
   "cell_type": "markdown",
   "id": "065e1eeb",
   "metadata": {},
   "source": [
    " In our feature set we observe that Users have chosen 2882 unique link colours and 545 unique sidebar colours which will pose a challenge to create a best performing model. A better approach would be to pick top 5 most preferred colour choices for both link_color and sidebar_color."
   ]
  },
  {
   "cell_type": "code",
   "execution_count": 112,
   "id": "73cecd35",
   "metadata": {},
   "outputs": [
    {
     "data": {
      "text/plain": [
       "sidebar_color\n",
       "0         3789\n",
       "00090A       1\n",
       "001B5E       1\n",
       "002D7A       1\n",
       "003E6A       1\n",
       "          ... \n",
       "FFDE00       1\n",
       "FFF1E8       1\n",
       "FFF8AD      69\n",
       "FFFAFA       1\n",
       "FFFFFF    3630\n",
       "Length: 545, dtype: int64"
      ]
     },
     "execution_count": 112,
     "metadata": {},
     "output_type": "execute_result"
    }
   ],
   "source": [
    "allusers_side = twitter.pivot_table(index = ['sidebar_color'], aggfunc ='size')\n",
    "allusers_side"
   ]
  },
  {
   "cell_type": "code",
   "execution_count": 113,
   "id": "ad1b4720",
   "metadata": {},
   "outputs": [],
   "source": [
    "sidebar=allusers_side.sort_values(ascending = False)"
   ]
  },
  {
   "cell_type": "code",
   "execution_count": 114,
   "id": "655cc3c2",
   "metadata": {},
   "outputs": [],
   "source": [
    "sidebar_list=['C0DEED','0','FFFFFF','EEEEEE','181A1E']\n",
    "twitter.loc[(~twitter.sidebar_color.isin(sidebar_list)),'sidebar_color']='others'"
   ]
  },
  {
   "cell_type": "code",
   "execution_count": 115,
   "id": "20186305",
   "metadata": {},
   "outputs": [
    {
     "data": {
      "text/html": [
       "<div>\n",
       "<style scoped>\n",
       "    .dataframe tbody tr th:only-of-type {\n",
       "        vertical-align: middle;\n",
       "    }\n",
       "\n",
       "    .dataframe tbody tr th {\n",
       "        vertical-align: top;\n",
       "    }\n",
       "\n",
       "    .dataframe thead th {\n",
       "        text-align: right;\n",
       "    }\n",
       "</style>\n",
       "<table border=\"1\" class=\"dataframe\">\n",
       "  <thead>\n",
       "    <tr style=\"text-align: right;\">\n",
       "      <th></th>\n",
       "      <th>gender</th>\n",
       "      <th>fav_number</th>\n",
       "      <th>link_color</th>\n",
       "      <th>retweet_count</th>\n",
       "      <th>sidebar_color</th>\n",
       "      <th>tweet_count</th>\n",
       "    </tr>\n",
       "  </thead>\n",
       "  <tbody>\n",
       "    <tr>\n",
       "      <th>0</th>\n",
       "      <td>male</td>\n",
       "      <td>0</td>\n",
       "      <td>08C2C2</td>\n",
       "      <td>0</td>\n",
       "      <td>FFFFFF</td>\n",
       "      <td>110964</td>\n",
       "    </tr>\n",
       "    <tr>\n",
       "      <th>1</th>\n",
       "      <td>male</td>\n",
       "      <td>68</td>\n",
       "      <td>0084B4</td>\n",
       "      <td>0</td>\n",
       "      <td>C0DEED</td>\n",
       "      <td>7471</td>\n",
       "    </tr>\n",
       "    <tr>\n",
       "      <th>2</th>\n",
       "      <td>male</td>\n",
       "      <td>7696</td>\n",
       "      <td>ABB8C2</td>\n",
       "      <td>1</td>\n",
       "      <td>C0DEED</td>\n",
       "      <td>5617</td>\n",
       "    </tr>\n",
       "    <tr>\n",
       "      <th>3</th>\n",
       "      <td>male</td>\n",
       "      <td>202</td>\n",
       "      <td>0084B4</td>\n",
       "      <td>0</td>\n",
       "      <td>C0DEED</td>\n",
       "      <td>1693</td>\n",
       "    </tr>\n",
       "    <tr>\n",
       "      <th>4</th>\n",
       "      <td>female</td>\n",
       "      <td>37318</td>\n",
       "      <td>3B94D9</td>\n",
       "      <td>0</td>\n",
       "      <td>0</td>\n",
       "      <td>31462</td>\n",
       "    </tr>\n",
       "    <tr>\n",
       "      <th>...</th>\n",
       "      <td>...</td>\n",
       "      <td>...</td>\n",
       "      <td>...</td>\n",
       "      <td>...</td>\n",
       "      <td>...</td>\n",
       "      <td>...</td>\n",
       "    </tr>\n",
       "    <tr>\n",
       "      <th>20045</th>\n",
       "      <td>female</td>\n",
       "      <td>302</td>\n",
       "      <td>0084B4</td>\n",
       "      <td>0</td>\n",
       "      <td>C0DEED</td>\n",
       "      <td>783</td>\n",
       "    </tr>\n",
       "    <tr>\n",
       "      <th>20046</th>\n",
       "      <td>male</td>\n",
       "      <td>2513</td>\n",
       "      <td>CFB929</td>\n",
       "      <td>0</td>\n",
       "      <td>0</td>\n",
       "      <td>13523</td>\n",
       "    </tr>\n",
       "    <tr>\n",
       "      <th>20047</th>\n",
       "      <td>male</td>\n",
       "      <td>50</td>\n",
       "      <td>0084B4</td>\n",
       "      <td>0</td>\n",
       "      <td>C0DEED</td>\n",
       "      <td>26419</td>\n",
       "    </tr>\n",
       "    <tr>\n",
       "      <th>20048</th>\n",
       "      <td>female</td>\n",
       "      <td>70804</td>\n",
       "      <td>9266CC</td>\n",
       "      <td>0</td>\n",
       "      <td>0</td>\n",
       "      <td>56073</td>\n",
       "    </tr>\n",
       "    <tr>\n",
       "      <th>20049</th>\n",
       "      <td>female</td>\n",
       "      <td>3348</td>\n",
       "      <td>0084B4</td>\n",
       "      <td>0</td>\n",
       "      <td>C0DEED</td>\n",
       "      <td>2922</td>\n",
       "    </tr>\n",
       "  </tbody>\n",
       "</table>\n",
       "<p>18836 rows × 6 columns</p>\n",
       "</div>"
      ],
      "text/plain": [
       "       gender  fav_number link_color  retweet_count sidebar_color  tweet_count\n",
       "0        male           0     08C2C2              0        FFFFFF       110964\n",
       "1        male          68     0084B4              0        C0DEED         7471\n",
       "2        male        7696     ABB8C2              1        C0DEED         5617\n",
       "3        male         202     0084B4              0        C0DEED         1693\n",
       "4      female       37318     3B94D9              0             0        31462\n",
       "...       ...         ...        ...            ...           ...          ...\n",
       "20045  female         302     0084B4              0        C0DEED          783\n",
       "20046    male        2513     CFB929              0             0        13523\n",
       "20047    male          50     0084B4              0        C0DEED        26419\n",
       "20048  female       70804     9266CC              0             0        56073\n",
       "20049  female        3348     0084B4              0        C0DEED         2922\n",
       "\n",
       "[18836 rows x 6 columns]"
      ]
     },
     "execution_count": 115,
     "metadata": {},
     "output_type": "execute_result"
    }
   ],
   "source": [
    "\n",
    "twitter"
   ]
  },
  {
   "cell_type": "code",
   "execution_count": 116,
   "id": "70b7d973",
   "metadata": {},
   "outputs": [
    {
     "data": {
      "text/plain": [
       "array(['FFFFFF', 'C0DEED', '0', '181A1E', 'EEEEEE', 'others'],\n",
       "      dtype=object)"
      ]
     },
     "execution_count": 116,
     "metadata": {},
     "output_type": "execute_result"
    }
   ],
   "source": [
    "twitter.sidebar_color.unique()"
   ]
  },
  {
   "cell_type": "code",
   "execution_count": 117,
   "id": "715f8fcc",
   "metadata": {},
   "outputs": [],
   "source": [
    "allusers_link = twitter.pivot_table(index = ['link_color'], aggfunc ='size')\n",
    "link=allusers_link.sort_values(ascending = False)\n",
    "link_list=['0084B4','3B94D9','9999','DD2E44','9266CC']\n",
    "twitter.loc[(~twitter.link_color.isin(link_list)),'link_color']='others'"
   ]
  },
  {
   "cell_type": "code",
   "execution_count": 118,
   "id": "bcb152f7",
   "metadata": {},
   "outputs": [
    {
     "data": {
      "text/plain": [
       "array(['others', '0084B4', '3B94D9', '9266CC', 'DD2E44', '9999'],\n",
       "      dtype=object)"
      ]
     },
     "execution_count": 118,
     "metadata": {},
     "output_type": "execute_result"
    }
   ],
   "source": [
    "twitter.link_color.unique()"
   ]
  },
  {
   "cell_type": "code",
   "execution_count": 119,
   "id": "1a12aed5",
   "metadata": {},
   "outputs": [
    {
     "data": {
      "text/html": [
       "<div>\n",
       "<style scoped>\n",
       "    .dataframe tbody tr th:only-of-type {\n",
       "        vertical-align: middle;\n",
       "    }\n",
       "\n",
       "    .dataframe tbody tr th {\n",
       "        vertical-align: top;\n",
       "    }\n",
       "\n",
       "    .dataframe thead th {\n",
       "        text-align: right;\n",
       "    }\n",
       "</style>\n",
       "<table border=\"1\" class=\"dataframe\">\n",
       "  <thead>\n",
       "    <tr style=\"text-align: right;\">\n",
       "      <th></th>\n",
       "      <th>gender</th>\n",
       "      <th>fav_number</th>\n",
       "      <th>link_color</th>\n",
       "      <th>retweet_count</th>\n",
       "      <th>sidebar_color</th>\n",
       "      <th>tweet_count</th>\n",
       "    </tr>\n",
       "  </thead>\n",
       "  <tbody>\n",
       "    <tr>\n",
       "      <th>0</th>\n",
       "      <td>male</td>\n",
       "      <td>0</td>\n",
       "      <td>others</td>\n",
       "      <td>0</td>\n",
       "      <td>FFFFFF</td>\n",
       "      <td>110964</td>\n",
       "    </tr>\n",
       "    <tr>\n",
       "      <th>1</th>\n",
       "      <td>male</td>\n",
       "      <td>68</td>\n",
       "      <td>0084B4</td>\n",
       "      <td>0</td>\n",
       "      <td>C0DEED</td>\n",
       "      <td>7471</td>\n",
       "    </tr>\n",
       "    <tr>\n",
       "      <th>2</th>\n",
       "      <td>male</td>\n",
       "      <td>7696</td>\n",
       "      <td>others</td>\n",
       "      <td>1</td>\n",
       "      <td>C0DEED</td>\n",
       "      <td>5617</td>\n",
       "    </tr>\n",
       "    <tr>\n",
       "      <th>3</th>\n",
       "      <td>male</td>\n",
       "      <td>202</td>\n",
       "      <td>0084B4</td>\n",
       "      <td>0</td>\n",
       "      <td>C0DEED</td>\n",
       "      <td>1693</td>\n",
       "    </tr>\n",
       "    <tr>\n",
       "      <th>4</th>\n",
       "      <td>female</td>\n",
       "      <td>37318</td>\n",
       "      <td>3B94D9</td>\n",
       "      <td>0</td>\n",
       "      <td>0</td>\n",
       "      <td>31462</td>\n",
       "    </tr>\n",
       "    <tr>\n",
       "      <th>...</th>\n",
       "      <td>...</td>\n",
       "      <td>...</td>\n",
       "      <td>...</td>\n",
       "      <td>...</td>\n",
       "      <td>...</td>\n",
       "      <td>...</td>\n",
       "    </tr>\n",
       "    <tr>\n",
       "      <th>20045</th>\n",
       "      <td>female</td>\n",
       "      <td>302</td>\n",
       "      <td>0084B4</td>\n",
       "      <td>0</td>\n",
       "      <td>C0DEED</td>\n",
       "      <td>783</td>\n",
       "    </tr>\n",
       "    <tr>\n",
       "      <th>20046</th>\n",
       "      <td>male</td>\n",
       "      <td>2513</td>\n",
       "      <td>others</td>\n",
       "      <td>0</td>\n",
       "      <td>0</td>\n",
       "      <td>13523</td>\n",
       "    </tr>\n",
       "    <tr>\n",
       "      <th>20047</th>\n",
       "      <td>male</td>\n",
       "      <td>50</td>\n",
       "      <td>0084B4</td>\n",
       "      <td>0</td>\n",
       "      <td>C0DEED</td>\n",
       "      <td>26419</td>\n",
       "    </tr>\n",
       "    <tr>\n",
       "      <th>20048</th>\n",
       "      <td>female</td>\n",
       "      <td>70804</td>\n",
       "      <td>9266CC</td>\n",
       "      <td>0</td>\n",
       "      <td>0</td>\n",
       "      <td>56073</td>\n",
       "    </tr>\n",
       "    <tr>\n",
       "      <th>20049</th>\n",
       "      <td>female</td>\n",
       "      <td>3348</td>\n",
       "      <td>0084B4</td>\n",
       "      <td>0</td>\n",
       "      <td>C0DEED</td>\n",
       "      <td>2922</td>\n",
       "    </tr>\n",
       "  </tbody>\n",
       "</table>\n",
       "<p>18836 rows × 6 columns</p>\n",
       "</div>"
      ],
      "text/plain": [
       "       gender  fav_number link_color  retweet_count sidebar_color  tweet_count\n",
       "0        male           0     others              0        FFFFFF       110964\n",
       "1        male          68     0084B4              0        C0DEED         7471\n",
       "2        male        7696     others              1        C0DEED         5617\n",
       "3        male         202     0084B4              0        C0DEED         1693\n",
       "4      female       37318     3B94D9              0             0        31462\n",
       "...       ...         ...        ...            ...           ...          ...\n",
       "20045  female         302     0084B4              0        C0DEED          783\n",
       "20046    male        2513     others              0             0        13523\n",
       "20047    male          50     0084B4              0        C0DEED        26419\n",
       "20048  female       70804     9266CC              0             0        56073\n",
       "20049  female        3348     0084B4              0        C0DEED         2922\n",
       "\n",
       "[18836 rows x 6 columns]"
      ]
     },
     "execution_count": 119,
     "metadata": {},
     "output_type": "execute_result"
    }
   ],
   "source": [
    "twitterdata=twitter\n",
    "twitterdata"
   ]
  },
  {
   "cell_type": "code",
   "execution_count": 120,
   "id": "c5082169",
   "metadata": {},
   "outputs": [
    {
     "data": {
      "text/plain": [
       "(18836, 5)"
      ]
     },
     "execution_count": 120,
     "metadata": {},
     "output_type": "execute_result"
    }
   ],
   "source": [
    "from sklearn.preprocessing import MinMaxScaler\n",
    "features= twitter.iloc[:,[1,2,3,4,5]]\n",
    "## 18836 samples (rows) with 5 features/variables (columns)\n",
    "features.shape"
   ]
  },
  {
   "cell_type": "code",
   "execution_count": 121,
   "id": "02365a95",
   "metadata": {},
   "outputs": [
    {
     "data": {
      "text/plain": [
       "(18836, 1)"
      ]
     },
     "execution_count": 121,
     "metadata": {},
     "output_type": "execute_result"
    }
   ],
   "source": [
    "target=twitter.iloc[:,[0]].values\n",
    "target.shape\n",
    "## the target has only 2 values 0 and 1"
   ]
  },
  {
   "cell_type": "code",
   "execution_count": 122,
   "id": "81d3bfc0",
   "metadata": {},
   "outputs": [
    {
     "data": {
      "text/html": [
       "<div>\n",
       "<style scoped>\n",
       "    .dataframe tbody tr th:only-of-type {\n",
       "        vertical-align: middle;\n",
       "    }\n",
       "\n",
       "    .dataframe tbody tr th {\n",
       "        vertical-align: top;\n",
       "    }\n",
       "\n",
       "    .dataframe thead th {\n",
       "        text-align: right;\n",
       "    }\n",
       "</style>\n",
       "<table border=\"1\" class=\"dataframe\">\n",
       "  <thead>\n",
       "    <tr style=\"text-align: right;\">\n",
       "      <th></th>\n",
       "      <th>fav_number</th>\n",
       "      <th>link_color</th>\n",
       "      <th>retweet_count</th>\n",
       "      <th>sidebar_color</th>\n",
       "      <th>tweet_count</th>\n",
       "    </tr>\n",
       "  </thead>\n",
       "  <tbody>\n",
       "    <tr>\n",
       "      <th>0</th>\n",
       "      <td>0.000000</td>\n",
       "      <td>others</td>\n",
       "      <td>0.00000</td>\n",
       "      <td>FFFFFF</td>\n",
       "      <td>0.041401</td>\n",
       "    </tr>\n",
       "    <tr>\n",
       "      <th>1</th>\n",
       "      <td>0.000199</td>\n",
       "      <td>0084B4</td>\n",
       "      <td>0.00000</td>\n",
       "      <td>C0DEED</td>\n",
       "      <td>0.002787</td>\n",
       "    </tr>\n",
       "    <tr>\n",
       "      <th>2</th>\n",
       "      <td>0.022528</td>\n",
       "      <td>others</td>\n",
       "      <td>0.00303</td>\n",
       "      <td>C0DEED</td>\n",
       "      <td>0.002095</td>\n",
       "    </tr>\n",
       "    <tr>\n",
       "      <th>3</th>\n",
       "      <td>0.000591</td>\n",
       "      <td>0084B4</td>\n",
       "      <td>0.00000</td>\n",
       "      <td>C0DEED</td>\n",
       "      <td>0.000631</td>\n",
       "    </tr>\n",
       "    <tr>\n",
       "      <th>4</th>\n",
       "      <td>0.109238</td>\n",
       "      <td>3B94D9</td>\n",
       "      <td>0.00000</td>\n",
       "      <td>0</td>\n",
       "      <td>0.011738</td>\n",
       "    </tr>\n",
       "    <tr>\n",
       "      <th>...</th>\n",
       "      <td>...</td>\n",
       "      <td>...</td>\n",
       "      <td>...</td>\n",
       "      <td>...</td>\n",
       "      <td>...</td>\n",
       "    </tr>\n",
       "    <tr>\n",
       "      <th>20045</th>\n",
       "      <td>0.000884</td>\n",
       "      <td>0084B4</td>\n",
       "      <td>0.00000</td>\n",
       "      <td>C0DEED</td>\n",
       "      <td>0.000292</td>\n",
       "    </tr>\n",
       "    <tr>\n",
       "      <th>20046</th>\n",
       "      <td>0.007356</td>\n",
       "      <td>others</td>\n",
       "      <td>0.00000</td>\n",
       "      <td>0</td>\n",
       "      <td>0.005045</td>\n",
       "    </tr>\n",
       "    <tr>\n",
       "      <th>20047</th>\n",
       "      <td>0.000146</td>\n",
       "      <td>0084B4</td>\n",
       "      <td>0.00000</td>\n",
       "      <td>C0DEED</td>\n",
       "      <td>0.009857</td>\n",
       "    </tr>\n",
       "    <tr>\n",
       "      <th>20048</th>\n",
       "      <td>0.207259</td>\n",
       "      <td>9266CC</td>\n",
       "      <td>0.00000</td>\n",
       "      <td>0</td>\n",
       "      <td>0.020921</td>\n",
       "    </tr>\n",
       "    <tr>\n",
       "      <th>20049</th>\n",
       "      <td>0.009800</td>\n",
       "      <td>0084B4</td>\n",
       "      <td>0.00000</td>\n",
       "      <td>C0DEED</td>\n",
       "      <td>0.001090</td>\n",
       "    </tr>\n",
       "  </tbody>\n",
       "</table>\n",
       "<p>18836 rows × 5 columns</p>\n",
       "</div>"
      ],
      "text/plain": [
       "       fav_number link_color  retweet_count sidebar_color  tweet_count\n",
       "0        0.000000     others        0.00000        FFFFFF     0.041401\n",
       "1        0.000199     0084B4        0.00000        C0DEED     0.002787\n",
       "2        0.022528     others        0.00303        C0DEED     0.002095\n",
       "3        0.000591     0084B4        0.00000        C0DEED     0.000631\n",
       "4        0.109238     3B94D9        0.00000             0     0.011738\n",
       "...           ...        ...            ...           ...          ...\n",
       "20045    0.000884     0084B4        0.00000        C0DEED     0.000292\n",
       "20046    0.007356     others        0.00000             0     0.005045\n",
       "20047    0.000146     0084B4        0.00000        C0DEED     0.009857\n",
       "20048    0.207259     9266CC        0.00000             0     0.020921\n",
       "20049    0.009800     0084B4        0.00000        C0DEED     0.001090\n",
       "\n",
       "[18836 rows x 5 columns]"
      ]
     },
     "execution_count": 122,
     "metadata": {},
     "output_type": "execute_result"
    }
   ],
   "source": [
    "import warnings\n",
    "warnings.filterwarnings('ignore')\n",
    "mmscaler = MinMaxScaler()\n",
    "cols = ['fav_number','retweet_count','tweet_count']\n",
    "features[cols] = mmscaler.fit_transform(features[cols])\n",
    "features"
   ]
  },
  {
   "cell_type": "code",
   "execution_count": 123,
   "id": "bc254660",
   "metadata": {},
   "outputs": [
    {
     "data": {
      "text/html": [
       "<div>\n",
       "<style scoped>\n",
       "    .dataframe tbody tr th:only-of-type {\n",
       "        vertical-align: middle;\n",
       "    }\n",
       "\n",
       "    .dataframe tbody tr th {\n",
       "        vertical-align: top;\n",
       "    }\n",
       "\n",
       "    .dataframe thead th {\n",
       "        text-align: right;\n",
       "    }\n",
       "</style>\n",
       "<table border=\"1\" class=\"dataframe\">\n",
       "  <thead>\n",
       "    <tr style=\"text-align: right;\">\n",
       "      <th></th>\n",
       "      <th>fav_number</th>\n",
       "      <th>retweet_count</th>\n",
       "      <th>tweet_count</th>\n",
       "      <th>link_color_3B94D9</th>\n",
       "      <th>link_color_9266CC</th>\n",
       "      <th>link_color_9999</th>\n",
       "      <th>link_color_DD2E44</th>\n",
       "      <th>link_color_others</th>\n",
       "      <th>sidebar_color_181A1E</th>\n",
       "      <th>sidebar_color_C0DEED</th>\n",
       "      <th>sidebar_color_EEEEEE</th>\n",
       "      <th>sidebar_color_FFFFFF</th>\n",
       "      <th>sidebar_color_others</th>\n",
       "    </tr>\n",
       "  </thead>\n",
       "  <tbody>\n",
       "    <tr>\n",
       "      <th>0</th>\n",
       "      <td>0.000000</td>\n",
       "      <td>0.00000</td>\n",
       "      <td>0.041401</td>\n",
       "      <td>0</td>\n",
       "      <td>0</td>\n",
       "      <td>0</td>\n",
       "      <td>0</td>\n",
       "      <td>1</td>\n",
       "      <td>0</td>\n",
       "      <td>0</td>\n",
       "      <td>0</td>\n",
       "      <td>1</td>\n",
       "      <td>0</td>\n",
       "    </tr>\n",
       "    <tr>\n",
       "      <th>1</th>\n",
       "      <td>0.000199</td>\n",
       "      <td>0.00000</td>\n",
       "      <td>0.002787</td>\n",
       "      <td>0</td>\n",
       "      <td>0</td>\n",
       "      <td>0</td>\n",
       "      <td>0</td>\n",
       "      <td>0</td>\n",
       "      <td>0</td>\n",
       "      <td>1</td>\n",
       "      <td>0</td>\n",
       "      <td>0</td>\n",
       "      <td>0</td>\n",
       "    </tr>\n",
       "    <tr>\n",
       "      <th>2</th>\n",
       "      <td>0.022528</td>\n",
       "      <td>0.00303</td>\n",
       "      <td>0.002095</td>\n",
       "      <td>0</td>\n",
       "      <td>0</td>\n",
       "      <td>0</td>\n",
       "      <td>0</td>\n",
       "      <td>1</td>\n",
       "      <td>0</td>\n",
       "      <td>1</td>\n",
       "      <td>0</td>\n",
       "      <td>0</td>\n",
       "      <td>0</td>\n",
       "    </tr>\n",
       "    <tr>\n",
       "      <th>3</th>\n",
       "      <td>0.000591</td>\n",
       "      <td>0.00000</td>\n",
       "      <td>0.000631</td>\n",
       "      <td>0</td>\n",
       "      <td>0</td>\n",
       "      <td>0</td>\n",
       "      <td>0</td>\n",
       "      <td>0</td>\n",
       "      <td>0</td>\n",
       "      <td>1</td>\n",
       "      <td>0</td>\n",
       "      <td>0</td>\n",
       "      <td>0</td>\n",
       "    </tr>\n",
       "    <tr>\n",
       "      <th>4</th>\n",
       "      <td>0.109238</td>\n",
       "      <td>0.00000</td>\n",
       "      <td>0.011738</td>\n",
       "      <td>1</td>\n",
       "      <td>0</td>\n",
       "      <td>0</td>\n",
       "      <td>0</td>\n",
       "      <td>0</td>\n",
       "      <td>0</td>\n",
       "      <td>0</td>\n",
       "      <td>0</td>\n",
       "      <td>0</td>\n",
       "      <td>0</td>\n",
       "    </tr>\n",
       "    <tr>\n",
       "      <th>...</th>\n",
       "      <td>...</td>\n",
       "      <td>...</td>\n",
       "      <td>...</td>\n",
       "      <td>...</td>\n",
       "      <td>...</td>\n",
       "      <td>...</td>\n",
       "      <td>...</td>\n",
       "      <td>...</td>\n",
       "      <td>...</td>\n",
       "      <td>...</td>\n",
       "      <td>...</td>\n",
       "      <td>...</td>\n",
       "      <td>...</td>\n",
       "    </tr>\n",
       "    <tr>\n",
       "      <th>20045</th>\n",
       "      <td>0.000884</td>\n",
       "      <td>0.00000</td>\n",
       "      <td>0.000292</td>\n",
       "      <td>0</td>\n",
       "      <td>0</td>\n",
       "      <td>0</td>\n",
       "      <td>0</td>\n",
       "      <td>0</td>\n",
       "      <td>0</td>\n",
       "      <td>1</td>\n",
       "      <td>0</td>\n",
       "      <td>0</td>\n",
       "      <td>0</td>\n",
       "    </tr>\n",
       "    <tr>\n",
       "      <th>20046</th>\n",
       "      <td>0.007356</td>\n",
       "      <td>0.00000</td>\n",
       "      <td>0.005045</td>\n",
       "      <td>0</td>\n",
       "      <td>0</td>\n",
       "      <td>0</td>\n",
       "      <td>0</td>\n",
       "      <td>1</td>\n",
       "      <td>0</td>\n",
       "      <td>0</td>\n",
       "      <td>0</td>\n",
       "      <td>0</td>\n",
       "      <td>0</td>\n",
       "    </tr>\n",
       "    <tr>\n",
       "      <th>20047</th>\n",
       "      <td>0.000146</td>\n",
       "      <td>0.00000</td>\n",
       "      <td>0.009857</td>\n",
       "      <td>0</td>\n",
       "      <td>0</td>\n",
       "      <td>0</td>\n",
       "      <td>0</td>\n",
       "      <td>0</td>\n",
       "      <td>0</td>\n",
       "      <td>1</td>\n",
       "      <td>0</td>\n",
       "      <td>0</td>\n",
       "      <td>0</td>\n",
       "    </tr>\n",
       "    <tr>\n",
       "      <th>20048</th>\n",
       "      <td>0.207259</td>\n",
       "      <td>0.00000</td>\n",
       "      <td>0.020921</td>\n",
       "      <td>0</td>\n",
       "      <td>1</td>\n",
       "      <td>0</td>\n",
       "      <td>0</td>\n",
       "      <td>0</td>\n",
       "      <td>0</td>\n",
       "      <td>0</td>\n",
       "      <td>0</td>\n",
       "      <td>0</td>\n",
       "      <td>0</td>\n",
       "    </tr>\n",
       "    <tr>\n",
       "      <th>20049</th>\n",
       "      <td>0.009800</td>\n",
       "      <td>0.00000</td>\n",
       "      <td>0.001090</td>\n",
       "      <td>0</td>\n",
       "      <td>0</td>\n",
       "      <td>0</td>\n",
       "      <td>0</td>\n",
       "      <td>0</td>\n",
       "      <td>0</td>\n",
       "      <td>1</td>\n",
       "      <td>0</td>\n",
       "      <td>0</td>\n",
       "      <td>0</td>\n",
       "    </tr>\n",
       "  </tbody>\n",
       "</table>\n",
       "<p>18836 rows × 13 columns</p>\n",
       "</div>"
      ],
      "text/plain": [
       "       fav_number  retweet_count  tweet_count  link_color_3B94D9  \\\n",
       "0        0.000000        0.00000     0.041401                  0   \n",
       "1        0.000199        0.00000     0.002787                  0   \n",
       "2        0.022528        0.00303     0.002095                  0   \n",
       "3        0.000591        0.00000     0.000631                  0   \n",
       "4        0.109238        0.00000     0.011738                  1   \n",
       "...           ...            ...          ...                ...   \n",
       "20045    0.000884        0.00000     0.000292                  0   \n",
       "20046    0.007356        0.00000     0.005045                  0   \n",
       "20047    0.000146        0.00000     0.009857                  0   \n",
       "20048    0.207259        0.00000     0.020921                  0   \n",
       "20049    0.009800        0.00000     0.001090                  0   \n",
       "\n",
       "       link_color_9266CC  link_color_9999  link_color_DD2E44  \\\n",
       "0                      0                0                  0   \n",
       "1                      0                0                  0   \n",
       "2                      0                0                  0   \n",
       "3                      0                0                  0   \n",
       "4                      0                0                  0   \n",
       "...                  ...              ...                ...   \n",
       "20045                  0                0                  0   \n",
       "20046                  0                0                  0   \n",
       "20047                  0                0                  0   \n",
       "20048                  1                0                  0   \n",
       "20049                  0                0                  0   \n",
       "\n",
       "       link_color_others  sidebar_color_181A1E  sidebar_color_C0DEED  \\\n",
       "0                      1                     0                     0   \n",
       "1                      0                     0                     1   \n",
       "2                      1                     0                     1   \n",
       "3                      0                     0                     1   \n",
       "4                      0                     0                     0   \n",
       "...                  ...                   ...                   ...   \n",
       "20045                  0                     0                     1   \n",
       "20046                  1                     0                     0   \n",
       "20047                  0                     0                     1   \n",
       "20048                  0                     0                     0   \n",
       "20049                  0                     0                     1   \n",
       "\n",
       "       sidebar_color_EEEEEE  sidebar_color_FFFFFF  sidebar_color_others  \n",
       "0                         0                     1                     0  \n",
       "1                         0                     0                     0  \n",
       "2                         0                     0                     0  \n",
       "3                         0                     0                     0  \n",
       "4                         0                     0                     0  \n",
       "...                     ...                   ...                   ...  \n",
       "20045                     0                     0                     0  \n",
       "20046                     0                     0                     0  \n",
       "20047                     0                     0                     0  \n",
       "20048                     0                     0                     0  \n",
       "20049                     0                     0                     0  \n",
       "\n",
       "[18836 rows x 13 columns]"
      ]
     },
     "execution_count": 123,
     "metadata": {},
     "output_type": "execute_result"
    }
   ],
   "source": [
    "dummies = pd.get_dummies(features[['link_color', 'sidebar_color']], drop_first=True)\n",
    "features = pd.concat([features.drop(['link_color', 'sidebar_color'],axis=1), dummies],axis=1)\n",
    "features"
   ]
  },
  {
   "cell_type": "markdown",
   "id": "af0f8a50",
   "metadata": {},
   "source": [
    "### 3.4. Feature Scaling on Twitter Data "
   ]
  },
  {
   "cell_type": "code",
   "execution_count": 124,
   "id": "6fe8defe",
   "metadata": {},
   "outputs": [
    {
     "data": {
      "text/html": [
       "<div>\n",
       "<style scoped>\n",
       "    .dataframe tbody tr th:only-of-type {\n",
       "        vertical-align: middle;\n",
       "    }\n",
       "\n",
       "    .dataframe tbody tr th {\n",
       "        vertical-align: top;\n",
       "    }\n",
       "\n",
       "    .dataframe thead th {\n",
       "        text-align: right;\n",
       "    }\n",
       "</style>\n",
       "<table border=\"1\" class=\"dataframe\">\n",
       "  <thead>\n",
       "    <tr style=\"text-align: right;\">\n",
       "      <th></th>\n",
       "      <th>fav_number</th>\n",
       "      <th>retweet_count</th>\n",
       "      <th>tweet_count</th>\n",
       "      <th>link_color_3B94D9</th>\n",
       "      <th>link_color_9266CC</th>\n",
       "      <th>link_color_9999</th>\n",
       "      <th>link_color_DD2E44</th>\n",
       "      <th>link_color_others</th>\n",
       "      <th>sidebar_color_181A1E</th>\n",
       "      <th>sidebar_color_C0DEED</th>\n",
       "      <th>sidebar_color_EEEEEE</th>\n",
       "      <th>sidebar_color_FFFFFF</th>\n",
       "      <th>sidebar_color_others</th>\n",
       "    </tr>\n",
       "  </thead>\n",
       "  <tbody>\n",
       "    <tr>\n",
       "      <th>count</th>\n",
       "      <td>1.883600e+04</td>\n",
       "      <td>1.883600e+04</td>\n",
       "      <td>1.883600e+04</td>\n",
       "      <td>1.883600e+04</td>\n",
       "      <td>1.883600e+04</td>\n",
       "      <td>1.883600e+04</td>\n",
       "      <td>1.883600e+04</td>\n",
       "      <td>1.883600e+04</td>\n",
       "      <td>1.883600e+04</td>\n",
       "      <td>1.883600e+04</td>\n",
       "      <td>1.883600e+04</td>\n",
       "      <td>1.883600e+04</td>\n",
       "      <td>1.883600e+04</td>\n",
       "    </tr>\n",
       "    <tr>\n",
       "      <th>mean</th>\n",
       "      <td>7.239503e-16</td>\n",
       "      <td>-3.736721e-16</td>\n",
       "      <td>-2.812367e-16</td>\n",
       "      <td>6.393478e-16</td>\n",
       "      <td>-1.360565e-15</td>\n",
       "      <td>-9.219284e-16</td>\n",
       "      <td>-5.046163e-16</td>\n",
       "      <td>-6.390089e-15</td>\n",
       "      <td>1.408323e-15</td>\n",
       "      <td>-3.937225e-15</td>\n",
       "      <td>-5.143800e-16</td>\n",
       "      <td>3.356503e-15</td>\n",
       "      <td>3.234064e-16</td>\n",
       "    </tr>\n",
       "    <tr>\n",
       "      <th>std</th>\n",
       "      <td>1.000027e+00</td>\n",
       "      <td>1.000027e+00</td>\n",
       "      <td>1.000027e+00</td>\n",
       "      <td>1.000027e+00</td>\n",
       "      <td>1.000027e+00</td>\n",
       "      <td>1.000027e+00</td>\n",
       "      <td>1.000027e+00</td>\n",
       "      <td>1.000027e+00</td>\n",
       "      <td>1.000027e+00</td>\n",
       "      <td>1.000027e+00</td>\n",
       "      <td>1.000027e+00</td>\n",
       "      <td>1.000027e+00</td>\n",
       "      <td>1.000027e+00</td>\n",
       "    </tr>\n",
       "    <tr>\n",
       "      <th>min</th>\n",
       "      <td>-3.539774e-01</td>\n",
       "      <td>-3.019553e-02</td>\n",
       "      <td>-3.285111e-01</td>\n",
       "      <td>-1.830994e-01</td>\n",
       "      <td>-1.569788e-01</td>\n",
       "      <td>-1.774482e-01</td>\n",
       "      <td>-1.611887e-01</td>\n",
       "      <td>-8.167314e-01</td>\n",
       "      <td>-1.254844e-01</td>\n",
       "      <td>-8.980334e-01</td>\n",
       "      <td>-1.932328e-01</td>\n",
       "      <td>-4.885914e-01</td>\n",
       "      <td>-3.483159e-01</td>\n",
       "    </tr>\n",
       "    <tr>\n",
       "      <th>25%</th>\n",
       "      <td>-3.529347e-01</td>\n",
       "      <td>-3.019553e-02</td>\n",
       "      <td>-3.083751e-01</td>\n",
       "      <td>-1.830994e-01</td>\n",
       "      <td>-1.569788e-01</td>\n",
       "      <td>-1.774482e-01</td>\n",
       "      <td>-1.611887e-01</td>\n",
       "      <td>-8.167314e-01</td>\n",
       "      <td>-1.254844e-01</td>\n",
       "      <td>-8.980334e-01</td>\n",
       "      <td>-1.932328e-01</td>\n",
       "      <td>-4.885914e-01</td>\n",
       "      <td>-3.483159e-01</td>\n",
       "    </tr>\n",
       "    <tr>\n",
       "      <th>50%</th>\n",
       "      <td>-3.152790e-01</td>\n",
       "      <td>-3.019553e-02</td>\n",
       "      <td>-2.335582e-01</td>\n",
       "      <td>-1.830994e-01</td>\n",
       "      <td>-1.569788e-01</td>\n",
       "      <td>-1.774482e-01</td>\n",
       "      <td>-1.611887e-01</td>\n",
       "      <td>-8.167314e-01</td>\n",
       "      <td>-1.254844e-01</td>\n",
       "      <td>-8.980334e-01</td>\n",
       "      <td>-1.932328e-01</td>\n",
       "      <td>-4.885914e-01</td>\n",
       "      <td>-3.483159e-01</td>\n",
       "    </tr>\n",
       "    <tr>\n",
       "      <th>75%</th>\n",
       "      <td>-8.324870e-02</td>\n",
       "      <td>-3.019553e-02</td>\n",
       "      <td>5.521810e-03</td>\n",
       "      <td>-1.830994e-01</td>\n",
       "      <td>-1.569788e-01</td>\n",
       "      <td>-1.774482e-01</td>\n",
       "      <td>-1.611887e-01</td>\n",
       "      <td>1.224393e+00</td>\n",
       "      <td>-1.254844e-01</td>\n",
       "      <td>1.113544e+00</td>\n",
       "      <td>-1.932328e-01</td>\n",
       "      <td>-4.885914e-01</td>\n",
       "      <td>-3.483159e-01</td>\n",
       "    </tr>\n",
       "    <tr>\n",
       "      <th>max</th>\n",
       "      <td>2.704540e+01</td>\n",
       "      <td>1.207496e+02</td>\n",
       "      <td>2.217006e+01</td>\n",
       "      <td>5.461515e+00</td>\n",
       "      <td>6.370288e+00</td>\n",
       "      <td>5.635447e+00</td>\n",
       "      <td>6.203908e+00</td>\n",
       "      <td>1.224393e+00</td>\n",
       "      <td>7.969118e+00</td>\n",
       "      <td>1.113544e+00</td>\n",
       "      <td>5.175105e+00</td>\n",
       "      <td>2.046700e+00</td>\n",
       "      <td>2.870957e+00</td>\n",
       "    </tr>\n",
       "  </tbody>\n",
       "</table>\n",
       "</div>"
      ],
      "text/plain": [
       "         fav_number  retweet_count   tweet_count  link_color_3B94D9  \\\n",
       "count  1.883600e+04   1.883600e+04  1.883600e+04       1.883600e+04   \n",
       "mean   7.239503e-16  -3.736721e-16 -2.812367e-16       6.393478e-16   \n",
       "std    1.000027e+00   1.000027e+00  1.000027e+00       1.000027e+00   \n",
       "min   -3.539774e-01  -3.019553e-02 -3.285111e-01      -1.830994e-01   \n",
       "25%   -3.529347e-01  -3.019553e-02 -3.083751e-01      -1.830994e-01   \n",
       "50%   -3.152790e-01  -3.019553e-02 -2.335582e-01      -1.830994e-01   \n",
       "75%   -8.324870e-02  -3.019553e-02  5.521810e-03      -1.830994e-01   \n",
       "max    2.704540e+01   1.207496e+02  2.217006e+01       5.461515e+00   \n",
       "\n",
       "       link_color_9266CC  link_color_9999  link_color_DD2E44  \\\n",
       "count       1.883600e+04     1.883600e+04       1.883600e+04   \n",
       "mean       -1.360565e-15    -9.219284e-16      -5.046163e-16   \n",
       "std         1.000027e+00     1.000027e+00       1.000027e+00   \n",
       "min        -1.569788e-01    -1.774482e-01      -1.611887e-01   \n",
       "25%        -1.569788e-01    -1.774482e-01      -1.611887e-01   \n",
       "50%        -1.569788e-01    -1.774482e-01      -1.611887e-01   \n",
       "75%        -1.569788e-01    -1.774482e-01      -1.611887e-01   \n",
       "max         6.370288e+00     5.635447e+00       6.203908e+00   \n",
       "\n",
       "       link_color_others  sidebar_color_181A1E  sidebar_color_C0DEED  \\\n",
       "count       1.883600e+04          1.883600e+04          1.883600e+04   \n",
       "mean       -6.390089e-15          1.408323e-15         -3.937225e-15   \n",
       "std         1.000027e+00          1.000027e+00          1.000027e+00   \n",
       "min        -8.167314e-01         -1.254844e-01         -8.980334e-01   \n",
       "25%        -8.167314e-01         -1.254844e-01         -8.980334e-01   \n",
       "50%        -8.167314e-01         -1.254844e-01         -8.980334e-01   \n",
       "75%         1.224393e+00         -1.254844e-01          1.113544e+00   \n",
       "max         1.224393e+00          7.969118e+00          1.113544e+00   \n",
       "\n",
       "       sidebar_color_EEEEEE  sidebar_color_FFFFFF  sidebar_color_others  \n",
       "count          1.883600e+04          1.883600e+04          1.883600e+04  \n",
       "mean          -5.143800e-16          3.356503e-15          3.234064e-16  \n",
       "std            1.000027e+00          1.000027e+00          1.000027e+00  \n",
       "min           -1.932328e-01         -4.885914e-01         -3.483159e-01  \n",
       "25%           -1.932328e-01         -4.885914e-01         -3.483159e-01  \n",
       "50%           -1.932328e-01         -4.885914e-01         -3.483159e-01  \n",
       "75%           -1.932328e-01         -4.885914e-01         -3.483159e-01  \n",
       "max            5.175105e+00          2.046700e+00          2.870957e+00  "
      ]
     },
     "execution_count": 124,
     "metadata": {},
     "output_type": "execute_result"
    }
   ],
   "source": [
    "# scaling the data\n",
    "from sklearn.preprocessing import StandardScaler\n",
    "scalar = StandardScaler()\n",
    "scaled_data = scalar.fit_transform(features)\n",
    "scaled_data = pd.DataFrame(scaled_data, columns = features.columns)\n",
    "scaled_data.describe()"
   ]
  },
  {
   "cell_type": "code",
   "execution_count": 125,
   "id": "23c5acc3",
   "metadata": {},
   "outputs": [
    {
     "data": {
      "text/html": [
       "<div>\n",
       "<style scoped>\n",
       "    .dataframe tbody tr th:only-of-type {\n",
       "        vertical-align: middle;\n",
       "    }\n",
       "\n",
       "    .dataframe tbody tr th {\n",
       "        vertical-align: top;\n",
       "    }\n",
       "\n",
       "    .dataframe thead th {\n",
       "        text-align: right;\n",
       "    }\n",
       "</style>\n",
       "<table border=\"1\" class=\"dataframe\">\n",
       "  <thead>\n",
       "    <tr style=\"text-align: right;\">\n",
       "      <th></th>\n",
       "      <th>fav_number</th>\n",
       "      <th>retweet_count</th>\n",
       "      <th>tweet_count</th>\n",
       "      <th>link_color_3B94D9</th>\n",
       "      <th>link_color_9266CC</th>\n",
       "      <th>link_color_9999</th>\n",
       "      <th>link_color_DD2E44</th>\n",
       "      <th>link_color_others</th>\n",
       "      <th>sidebar_color_181A1E</th>\n",
       "      <th>sidebar_color_C0DEED</th>\n",
       "      <th>sidebar_color_EEEEEE</th>\n",
       "      <th>sidebar_color_FFFFFF</th>\n",
       "      <th>sidebar_color_others</th>\n",
       "    </tr>\n",
       "  </thead>\n",
       "  <tbody>\n",
       "    <tr>\n",
       "      <th>0</th>\n",
       "      <td>-0.353977</td>\n",
       "      <td>-0.030196</td>\n",
       "      <td>0.602953</td>\n",
       "      <td>-0.183099</td>\n",
       "      <td>-0.156979</td>\n",
       "      <td>-0.177448</td>\n",
       "      <td>-0.161189</td>\n",
       "      <td>1.224393</td>\n",
       "      <td>-0.125484</td>\n",
       "      <td>-0.898033</td>\n",
       "      <td>-0.193233</td>\n",
       "      <td>2.046700</td>\n",
       "      <td>-0.348316</td>\n",
       "    </tr>\n",
       "    <tr>\n",
       "      <th>1</th>\n",
       "      <td>-0.348524</td>\n",
       "      <td>-0.030196</td>\n",
       "      <td>-0.265805</td>\n",
       "      <td>-0.183099</td>\n",
       "      <td>-0.156979</td>\n",
       "      <td>-0.177448</td>\n",
       "      <td>-0.161189</td>\n",
       "      <td>-0.816731</td>\n",
       "      <td>-0.125484</td>\n",
       "      <td>1.113544</td>\n",
       "      <td>-0.193233</td>\n",
       "      <td>-0.488591</td>\n",
       "      <td>-0.348316</td>\n",
       "    </tr>\n",
       "    <tr>\n",
       "      <th>2</th>\n",
       "      <td>0.263273</td>\n",
       "      <td>0.335804</td>\n",
       "      <td>-0.281368</td>\n",
       "      <td>-0.183099</td>\n",
       "      <td>-0.156979</td>\n",
       "      <td>-0.177448</td>\n",
       "      <td>-0.161189</td>\n",
       "      <td>1.224393</td>\n",
       "      <td>-0.125484</td>\n",
       "      <td>1.113544</td>\n",
       "      <td>-0.193233</td>\n",
       "      <td>-0.488591</td>\n",
       "      <td>-0.348316</td>\n",
       "    </tr>\n",
       "    <tr>\n",
       "      <th>3</th>\n",
       "      <td>-0.337776</td>\n",
       "      <td>-0.030196</td>\n",
       "      <td>-0.314308</td>\n",
       "      <td>-0.183099</td>\n",
       "      <td>-0.156979</td>\n",
       "      <td>-0.177448</td>\n",
       "      <td>-0.161189</td>\n",
       "      <td>-0.816731</td>\n",
       "      <td>-0.125484</td>\n",
       "      <td>1.113544</td>\n",
       "      <td>-0.193233</td>\n",
       "      <td>-0.488591</td>\n",
       "      <td>-0.348316</td>\n",
       "    </tr>\n",
       "    <tr>\n",
       "      <th>4</th>\n",
       "      <td>2.639077</td>\n",
       "      <td>-0.030196</td>\n",
       "      <td>-0.064416</td>\n",
       "      <td>5.461515</td>\n",
       "      <td>-0.156979</td>\n",
       "      <td>-0.177448</td>\n",
       "      <td>-0.161189</td>\n",
       "      <td>-0.816731</td>\n",
       "      <td>-0.125484</td>\n",
       "      <td>-0.898033</td>\n",
       "      <td>-0.193233</td>\n",
       "      <td>-0.488591</td>\n",
       "      <td>-0.348316</td>\n",
       "    </tr>\n",
       "    <tr>\n",
       "      <th>...</th>\n",
       "      <td>...</td>\n",
       "      <td>...</td>\n",
       "      <td>...</td>\n",
       "      <td>...</td>\n",
       "      <td>...</td>\n",
       "      <td>...</td>\n",
       "      <td>...</td>\n",
       "      <td>...</td>\n",
       "      <td>...</td>\n",
       "      <td>...</td>\n",
       "      <td>...</td>\n",
       "      <td>...</td>\n",
       "      <td>...</td>\n",
       "    </tr>\n",
       "    <tr>\n",
       "      <th>18831</th>\n",
       "      <td>-0.329756</td>\n",
       "      <td>-0.030196</td>\n",
       "      <td>-0.321947</td>\n",
       "      <td>-0.183099</td>\n",
       "      <td>-0.156979</td>\n",
       "      <td>-0.177448</td>\n",
       "      <td>-0.161189</td>\n",
       "      <td>-0.816731</td>\n",
       "      <td>-0.125484</td>\n",
       "      <td>1.113544</td>\n",
       "      <td>-0.193233</td>\n",
       "      <td>-0.488591</td>\n",
       "      <td>-0.348316</td>\n",
       "    </tr>\n",
       "    <tr>\n",
       "      <th>18832</th>\n",
       "      <td>-0.152425</td>\n",
       "      <td>-0.030196</td>\n",
       "      <td>-0.215002</td>\n",
       "      <td>-0.183099</td>\n",
       "      <td>-0.156979</td>\n",
       "      <td>-0.177448</td>\n",
       "      <td>-0.161189</td>\n",
       "      <td>1.224393</td>\n",
       "      <td>-0.125484</td>\n",
       "      <td>-0.898033</td>\n",
       "      <td>-0.193233</td>\n",
       "      <td>-0.488591</td>\n",
       "      <td>-0.348316</td>\n",
       "    </tr>\n",
       "    <tr>\n",
       "      <th>18833</th>\n",
       "      <td>-0.349967</td>\n",
       "      <td>-0.030196</td>\n",
       "      <td>-0.106749</td>\n",
       "      <td>-0.183099</td>\n",
       "      <td>-0.156979</td>\n",
       "      <td>-0.177448</td>\n",
       "      <td>-0.161189</td>\n",
       "      <td>-0.816731</td>\n",
       "      <td>-0.125484</td>\n",
       "      <td>1.113544</td>\n",
       "      <td>-0.193233</td>\n",
       "      <td>-0.488591</td>\n",
       "      <td>-0.348316</td>\n",
       "    </tr>\n",
       "    <tr>\n",
       "      <th>18834</th>\n",
       "      <td>5.324789</td>\n",
       "      <td>-0.030196</td>\n",
       "      <td>0.142178</td>\n",
       "      <td>-0.183099</td>\n",
       "      <td>6.370288</td>\n",
       "      <td>-0.177448</td>\n",
       "      <td>-0.161189</td>\n",
       "      <td>-0.816731</td>\n",
       "      <td>-0.125484</td>\n",
       "      <td>-0.898033</td>\n",
       "      <td>-0.193233</td>\n",
       "      <td>-0.488591</td>\n",
       "      <td>-0.348316</td>\n",
       "    </tr>\n",
       "    <tr>\n",
       "      <th>18835</th>\n",
       "      <td>-0.085454</td>\n",
       "      <td>-0.030196</td>\n",
       "      <td>-0.303991</td>\n",
       "      <td>-0.183099</td>\n",
       "      <td>-0.156979</td>\n",
       "      <td>-0.177448</td>\n",
       "      <td>-0.161189</td>\n",
       "      <td>-0.816731</td>\n",
       "      <td>-0.125484</td>\n",
       "      <td>1.113544</td>\n",
       "      <td>-0.193233</td>\n",
       "      <td>-0.488591</td>\n",
       "      <td>-0.348316</td>\n",
       "    </tr>\n",
       "  </tbody>\n",
       "</table>\n",
       "<p>18836 rows × 13 columns</p>\n",
       "</div>"
      ],
      "text/plain": [
       "       fav_number  retweet_count  tweet_count  link_color_3B94D9  \\\n",
       "0       -0.353977      -0.030196     0.602953          -0.183099   \n",
       "1       -0.348524      -0.030196    -0.265805          -0.183099   \n",
       "2        0.263273       0.335804    -0.281368          -0.183099   \n",
       "3       -0.337776      -0.030196    -0.314308          -0.183099   \n",
       "4        2.639077      -0.030196    -0.064416           5.461515   \n",
       "...           ...            ...          ...                ...   \n",
       "18831   -0.329756      -0.030196    -0.321947          -0.183099   \n",
       "18832   -0.152425      -0.030196    -0.215002          -0.183099   \n",
       "18833   -0.349967      -0.030196    -0.106749          -0.183099   \n",
       "18834    5.324789      -0.030196     0.142178          -0.183099   \n",
       "18835   -0.085454      -0.030196    -0.303991          -0.183099   \n",
       "\n",
       "       link_color_9266CC  link_color_9999  link_color_DD2E44  \\\n",
       "0              -0.156979        -0.177448          -0.161189   \n",
       "1              -0.156979        -0.177448          -0.161189   \n",
       "2              -0.156979        -0.177448          -0.161189   \n",
       "3              -0.156979        -0.177448          -0.161189   \n",
       "4              -0.156979        -0.177448          -0.161189   \n",
       "...                  ...              ...                ...   \n",
       "18831          -0.156979        -0.177448          -0.161189   \n",
       "18832          -0.156979        -0.177448          -0.161189   \n",
       "18833          -0.156979        -0.177448          -0.161189   \n",
       "18834           6.370288        -0.177448          -0.161189   \n",
       "18835          -0.156979        -0.177448          -0.161189   \n",
       "\n",
       "       link_color_others  sidebar_color_181A1E  sidebar_color_C0DEED  \\\n",
       "0               1.224393             -0.125484             -0.898033   \n",
       "1              -0.816731             -0.125484              1.113544   \n",
       "2               1.224393             -0.125484              1.113544   \n",
       "3              -0.816731             -0.125484              1.113544   \n",
       "4              -0.816731             -0.125484             -0.898033   \n",
       "...                  ...                   ...                   ...   \n",
       "18831          -0.816731             -0.125484              1.113544   \n",
       "18832           1.224393             -0.125484             -0.898033   \n",
       "18833          -0.816731             -0.125484              1.113544   \n",
       "18834          -0.816731             -0.125484             -0.898033   \n",
       "18835          -0.816731             -0.125484              1.113544   \n",
       "\n",
       "       sidebar_color_EEEEEE  sidebar_color_FFFFFF  sidebar_color_others  \n",
       "0                 -0.193233              2.046700             -0.348316  \n",
       "1                 -0.193233             -0.488591             -0.348316  \n",
       "2                 -0.193233             -0.488591             -0.348316  \n",
       "3                 -0.193233             -0.488591             -0.348316  \n",
       "4                 -0.193233             -0.488591             -0.348316  \n",
       "...                     ...                   ...                   ...  \n",
       "18831             -0.193233             -0.488591             -0.348316  \n",
       "18832             -0.193233             -0.488591             -0.348316  \n",
       "18833             -0.193233             -0.488591             -0.348316  \n",
       "18834             -0.193233             -0.488591             -0.348316  \n",
       "18835             -0.193233             -0.488591             -0.348316  \n",
       "\n",
       "[18836 rows x 13 columns]"
      ]
     },
     "execution_count": 125,
     "metadata": {},
     "output_type": "execute_result"
    }
   ],
   "source": [
    "scaled_data"
   ]
  },
  {
   "cell_type": "code",
   "execution_count": 126,
   "id": "60223bca",
   "metadata": {},
   "outputs": [
    {
     "data": {
      "text/plain": [
       "array([2, 1, 0])"
      ]
     },
     "execution_count": 126,
     "metadata": {},
     "output_type": "execute_result"
    }
   ],
   "source": [
    "# Import label encoder\n",
    "\n",
    "from sklearn import preprocessing\n",
    " \n",
    "# label_encoder object knows how to understand word labels.\n",
    "label_encoder = preprocessing.LabelEncoder()\n",
    " \n",
    "# Encode labels in column 'gender'.\n",
    "twitter['gender']= label_encoder.fit_transform(twitter['gender'])\n",
    " \n",
    "twitter['gender'].unique()"
   ]
  },
  {
   "cell_type": "markdown",
   "id": "34cdd9dc",
   "metadata": {},
   "source": [
    "## 4. Find out which classification model gives the best result to predict Gender "
   ]
  },
  {
   "cell_type": "markdown",
   "id": "c63599d2",
   "metadata": {},
   "source": [
    "Preparing the Data\n",
    "Setting X and y-axis and splitting the data into train and test respectively.\n",
    "\n",
    "Since we want to predict the gender based on given data whether the user is Male or Female or A Brand"
   ]
  },
  {
   "cell_type": "code",
   "execution_count": 127,
   "id": "b9325034",
   "metadata": {},
   "outputs": [],
   "source": [
    "from sklearn.model_selection import train_test_split\n",
    "from sklearn.metrics import classification_report\n",
    "X = scaled_data\n",
    "y = twitter['gender']\n",
    "X_train, X_test, y_train, y_test = train_test_split(X, y, random_state=42, test_size=0.2)"
   ]
  },
  {
   "cell_type": "code",
   "execution_count": 128,
   "id": "954ff301",
   "metadata": {},
   "outputs": [
    {
     "name": "stdout",
     "output_type": "stream",
     "text": [
      "Shape of X - Features: (18836, 13)\n",
      "Shape of y - Response: (18836,)\n"
     ]
    }
   ],
   "source": [
    "print(\"Shape of X - Features:\",X.shape)\n",
    "print(\"Shape of y - Response:\",y.shape)"
   ]
  },
  {
   "cell_type": "markdown",
   "id": "574b1028",
   "metadata": {},
   "source": [
    "### a). Logistic Regression "
   ]
  },
  {
   "cell_type": "code",
   "execution_count": 129,
   "id": "bc4daf64",
   "metadata": {},
   "outputs": [
    {
     "name": "stdout",
     "output_type": "stream",
     "text": [
      "Train data accuracy: 0.45055747279001856\n",
      "Test data accuracy: 0.4455944798301486\n"
     ]
    }
   ],
   "source": [
    "# import the class LogisticRegression from sklearn linear_model\n",
    "from sklearn.linear_model import LogisticRegression\n",
    "from sklearn import metrics\n",
    "from sklearn.metrics import accuracy_score\n",
    "# train the model on the training set\n",
    "# create an instance of the LogisticRegression class using the default parameters\n",
    "logreg = LogisticRegression()\n",
    "# fit the model with data\n",
    "logreg.fit(X_train, y_train)\n",
    "# make predictions on the testing set\n",
    "y_pred = logreg.predict(X_test)\n",
    "# compare actual response values (y_test) with predicted response values (y_pred)\n",
    "print(\"Train data accuracy:\",accuracy_score(y_true = y_train, y_pred=logreg.predict(X_train)))\n",
    "print(\"Test data accuracy:\",accuracy_score(y_true = y_test, y_pred=y_pred))"
   ]
  },
  {
   "cell_type": "markdown",
   "id": "1c9d586e",
   "metadata": {},
   "source": [
    "Based on the performance metrics score , the Linear Regression model seems to be poor performance for this model."
   ]
  },
  {
   "cell_type": "markdown",
   "id": "4b05a801",
   "metadata": {},
   "source": [
    "### b). k nearest Neighbours Model "
   ]
  },
  {
   "cell_type": "code",
   "execution_count": 51,
   "id": "4f168fb5",
   "metadata": {},
   "outputs": [
    {
     "data": {
      "text/plain": [
       "[0.47770700636942676,\n",
       " 0.4923036093418259,\n",
       " 0.4923036093418259,\n",
       " 0.49920382165605093,\n",
       " 0.5119426751592356,\n",
       " 0.5023885350318471,\n",
       " 0.5050424628450106,\n",
       " 0.5023885350318471,\n",
       " 0.5063694267515924,\n",
       " 0.5124734607218684,\n",
       " 0.5153927813163482,\n",
       " 0.5180467091295117]"
      ]
     },
     "execution_count": 51,
     "metadata": {},
     "output_type": "execute_result"
    }
   ],
   "source": [
    "import warnings\n",
    "warnings.filterwarnings('ignore')\n",
    "from sklearn.neighbors import KNeighborsClassifier\n",
    "from sklearn.metrics import accuracy_score\n",
    "acc_values=[]\n",
    "neighbors=np.arange(3,15)\n",
    "for k in neighbors:\n",
    "    classifier=KNeighborsClassifier(n_neighbors=k,metric='minkowski')\n",
    "    classifier.fit(X_train,y_train)\n",
    "    y_pred=classifier.predict(X_test)\n",
    "    acc=accuracy_score(y_test,y_pred)\n",
    "    acc_values.append(acc)\n",
    "acc_values"
   ]
  },
  {
   "cell_type": "code",
   "execution_count": 56,
   "id": "e734772c",
   "metadata": {},
   "outputs": [
    {
     "data": {
      "text/plain": [
       "Text(0, 0.5, 'accuracy')"
      ]
     },
     "execution_count": 56,
     "metadata": {},
     "output_type": "execute_result"
    },
    {
     "data": {
      "image/png": "[encoded data removed]",
      "text/plain": [
       "<Figure size 432x288 with 1 Axes>"
      ]
     },
     "metadata": {
      "needs_background": "light"
     },
     "output_type": "display_data"
    }
   ],
   "source": [
    "plt.plot(neighbors,acc_values,'o-')\n",
    "plt.xlabel('k values')\n",
    "plt.ylabel('accuracy')"
   ]
  },
  {
   "cell_type": "code",
   "execution_count": 57,
   "id": "3c200bc0",
   "metadata": {},
   "outputs": [
    {
     "name": "stdout",
     "output_type": "stream",
     "text": [
      "Train data accuracy: 0.5852136979028405\n",
      "Test data accuracy: 0.5180467091295117\n"
     ]
    }
   ],
   "source": [
    "## Creating an instance of KNeighborsClassifier with neighbours as 14\n",
    "knn_model = KNeighborsClassifier(n_neighbors=14)\n",
    "knn_model.fit(X_train, y_train)\n",
    "knn_y_pred = knn_model.predict(X_test)\n",
    "print(\"Train data accuracy:\",accuracy_score(y_true = y_train, y_pred=knn_model.predict(X_train)))\n",
    "print(\"Test data accuracy:\",accuracy_score(y_true = y_test, y_pred=knn_y_pred))"
   ]
  },
  {
   "cell_type": "markdown",
   "id": "112b1d9f",
   "metadata": {},
   "source": [
    "Based on the performance metrics score , the k nearest Neighbours model shows more accuracy than Linear Regression model but it seems to be poor performace for this model."
   ]
  },
  {
   "cell_type": "markdown",
   "id": "231fd247",
   "metadata": {},
   "source": [
    "### c). Decision Tree Classifier "
   ]
  },
  {
   "cell_type": "code",
   "execution_count": 58,
   "id": "f9a4998e",
   "metadata": {},
   "outputs": [
    {
     "name": "stdout",
     "output_type": "stream",
     "text": [
      "Training data count:13185\n",
      "Test data count:5651\n"
     ]
    }
   ],
   "source": [
    "# Test_size=0.3 30% of observations to test set. 70% of observations to training set. data is randomly assigned unless you use random_state hyperparameter.\n",
    "# If you use random_state=100. Your data will be split exactly the same way.\n",
    "X_train,X_test,y_train,y_test=train_test_split(X,y,train_size=0.7,test_size=0.3,random_state=100)\n",
    "print('Training data count:{}'.format(X_train.shape[0]))\n",
    "print('Test data count:{}'.format(X_test.shape[0]))"
   ]
  },
  {
   "cell_type": "code",
   "execution_count": 59,
   "id": "028a4a09",
   "metadata": {},
   "outputs": [
    {
     "name": "stdout",
     "output_type": "stream",
     "text": [
      "Train data accuracy: 0.9921880925293894\n",
      "Test data accuracy: 0.48540081401521856\n"
     ]
    }
   ],
   "source": [
    "# Creating Decision Tree Classifier\n",
    "from sklearn.tree import DecisionTreeClassifier\n",
    "from sklearn.metrics import accuracy_score\n",
    "dtc = DecisionTreeClassifier()\n",
    "dtc.fit(X_train,y_train)\n",
    "\n",
    "# Predict Accuracy Score\n",
    "dtc_y_pred = dtc.predict(X_test)\n",
    "print(\"Train data accuracy:\",accuracy_score(y_true = y_train, y_pred=dtc.predict(X_train)))\n",
    "print(\"Test data accuracy:\",accuracy_score(y_true = y_test, y_pred=dtc_y_pred))"
   ]
  },
  {
   "cell_type": "markdown",
   "id": "3c78ee62",
   "metadata": {},
   "source": [
    "Based on the performance metrics score , the Decision Tree Classifier model shows more accuracy than Linear Regression model and shows almost same accuracy of knn but it seems to be poor performace for this model."
   ]
  },
  {
   "cell_type": "markdown",
   "id": "9ac7624e",
   "metadata": {},
   "source": [
    "### d). Random Forest Classification "
   ]
  },
  {
   "cell_type": "code",
   "execution_count": 60,
   "id": "eff62037",
   "metadata": {},
   "outputs": [
    {
     "name": "stdout",
     "output_type": "stream",
     "text": [
      "Train data accuracy: 0.9921880925293894\n",
      "Test data accuracy: 0.5181383825871527\n"
     ]
    }
   ],
   "source": [
    "from sklearn.ensemble import RandomForestClassifier\n",
    "\n",
    "#Create an instance of  RandomForestClassifier\n",
    "rf=RandomForestClassifier(n_estimators=100)\n",
    "\n",
    "#Train the model using the training sets y_pred=clf.predict(X_test)\n",
    "rf.fit(X_train,y_train)\n",
    "\n",
    "# prediction on test set\n",
    "rf_y_pred=rf.predict(X_test)\n",
    "\n",
    "# Model Accuracy, how often is the classifier correct?\n",
    "print(\"Train data accuracy:\",accuracy_score(y_true = y_train, y_pred=rf.predict(X_train)))\n",
    "print(\"Test data accuracy:\",accuracy_score(y_true = y_test, y_pred=rf_y_pred))"
   ]
  },
  {
   "cell_type": "markdown",
   "id": "ca7ad405",
   "metadata": {},
   "source": [
    "Based on the performance metrics score , the Random Forest Classification model shows more accuracy than Linear Regression model, k nearest Neighbours and Decision Tree Classification model but it seems to be poor performace for this model."
   ]
  },
  {
   "cell_type": "markdown",
   "id": "2a46a7e1",
   "metadata": {},
   "source": [
    "### e).  SVM Classification model "
   ]
  },
  {
   "cell_type": "markdown",
   "id": "996faf21",
   "metadata": {},
   "source": [
    "#### e.1) SVM model with linear kernal "
   ]
  },
  {
   "cell_type": "code",
   "execution_count": 61,
   "id": "c847ffb1",
   "metadata": {},
   "outputs": [
    {
     "data": {
      "text/plain": [
       "SVC(kernel='linear')"
      ]
     },
     "execution_count": 61,
     "metadata": {},
     "output_type": "execute_result"
    }
   ],
   "source": [
    "## import the SVM Classification Class and fit the training set to our model. \n",
    "from sklearn.svm import SVC\n",
    "## The kernel used here is the “rbf” kernel which stands for Radial Basis Function.\n",
    "classifier = SVC(kernel = 'linear')\n",
    "classifier.fit(X_train, y_train)"
   ]
  },
  {
   "cell_type": "code",
   "execution_count": 62,
   "id": "3a84d87e",
   "metadata": {},
   "outputs": [
    {
     "data": {
      "text/plain": [
       "array([1, 0, 0, ..., 1, 1, 0])"
      ]
     },
     "execution_count": 62,
     "metadata": {},
     "output_type": "execute_result"
    }
   ],
   "source": [
    "## predict the values for the Test set and the values are stored to the variable y_pred.\n",
    "y_pred = classifier.predict(X_test) \n",
    "y_pred"
   ]
  },
  {
   "cell_type": "code",
   "execution_count": 63,
   "id": "565dd5e6",
   "metadata": {},
   "outputs": [
    {
     "data": {
      "text/plain": [
       "array([[ 960,  584,  243],\n",
       "       [ 655, 1085,  265],\n",
       "       [ 761,  709,  389]], dtype=int64)"
      ]
     },
     "execution_count": 63,
     "metadata": {},
     "output_type": "execute_result"
    }
   ],
   "source": [
    "from sklearn.metrics import confusion_matrix\n",
    "cm = confusion_matrix(y_test, y_pred)\n",
    "cm"
   ]
  },
  {
   "cell_type": "code",
   "execution_count": 64,
   "id": "a15b0631",
   "metadata": {},
   "outputs": [
    {
     "name": "stdout",
     "output_type": "stream",
     "text": [
      "Train data accuracy: 0.43511566173682215\n",
      "Test data accuracy: 0.43072022650858255\n"
     ]
    }
   ],
   "source": [
    "print(\"Train data accuracy:\",accuracy_score(y_true = y_train, y_pred=classifier.predict(X_train)))\n",
    "print(\"Test data accuracy:\",accuracy_score(y_true = y_test, y_pred=y_pred))"
   ]
  },
  {
   "cell_type": "markdown",
   "id": "e5b2f170",
   "metadata": {},
   "source": [
    "#### e.2)  SVM model with rbf kernal/Gaussian kernel"
   ]
  },
  {
   "cell_type": "code",
   "execution_count": 65,
   "id": "d2bd9efa",
   "metadata": {},
   "outputs": [
    {
     "data": {
      "text/plain": [
       "array([[ 680,  535,  572],\n",
       "       [ 179, 1075,  751],\n",
       "       [ 180,  695,  984]], dtype=int64)"
      ]
     },
     "execution_count": 65,
     "metadata": {},
     "output_type": "execute_result"
    }
   ],
   "source": [
    "from sklearn.svm import SVC\n",
    "classifier = SVC(kernel='rbf', random_state = 1)\n",
    "classifier.fit(X_train,y_train)\n",
    "Y_pred = classifier.predict(X_test)\n",
    "from sklearn.metrics import confusion_matrix\n",
    "cm = confusion_matrix(y_test, Y_pred)\n",
    "cm"
   ]
  },
  {
   "cell_type": "code",
   "execution_count": 66,
   "id": "ea062ba8",
   "metadata": {},
   "outputs": [
    {
     "name": "stdout",
     "output_type": "stream",
     "text": [
      "Train data accuracy: 0.49207432688661357\n",
      "Test data accuracy: 0.4846929746947443\n"
     ]
    }
   ],
   "source": [
    "print(\"Train data accuracy:\",accuracy_score(y_true = y_train, y_pred=classifier.predict(X_train)))\n",
    "print(\"Test data accuracy:\",accuracy_score(y_true = y_test, y_pred=Y_pred))"
   ]
  },
  {
   "cell_type": "markdown",
   "id": "50f298f1",
   "metadata": {},
   "source": [
    "#### e.3) SVM model with polinomial kernal "
   ]
  },
  {
   "cell_type": "markdown",
   "id": "ab7d46c7",
   "metadata": {},
   "source": [
    "In the case of polynomial kernel, you also have to pass a value for the degree parameter of the SVC class. This basically is the degree of the polynomial."
   ]
  },
  {
   "cell_type": "code",
   "execution_count": 67,
   "id": "662c8676",
   "metadata": {},
   "outputs": [
    {
     "data": {
      "text/plain": [
       "array([[1334,  326,  127],\n",
       "       [1126,  750,  129],\n",
       "       [1163,  447,  249]], dtype=int64)"
      ]
     },
     "execution_count": 67,
     "metadata": {},
     "output_type": "execute_result"
    }
   ],
   "source": [
    "from sklearn.svm import SVC\n",
    "svclassifier = SVC(kernel='poly', degree=8)\n",
    "svclassifier.fit(X_train, y_train)\n",
    "svcy_pred = svclassifier.predict(X_test)\n",
    "from sklearn.metrics import confusion_matrix\n",
    "cm = confusion_matrix(y_test, svcy_pred)\n",
    "cm"
   ]
  },
  {
   "cell_type": "code",
   "execution_count": 68,
   "id": "a5e19969",
   "metadata": {},
   "outputs": [
    {
     "name": "stdout",
     "output_type": "stream",
     "text": [
      "Train data accuracy: 0.428517254455821\n",
      "Test data accuracy: 0.41284728366660767\n"
     ]
    }
   ],
   "source": [
    "print(\"Train data accuracy:\",accuracy_score(y_true = y_train, y_pred=svclassifier.predict(X_train)))\n",
    "print(\"Test data accuracy:\",accuracy_score(y_true = y_test, y_pred=svcy_pred))"
   ]
  },
  {
   "cell_type": "markdown",
   "id": "71e0492d",
   "metadata": {},
   "source": [
    "#### e.4) SVM model with Sigmoid Kernel "
   ]
  },
  {
   "cell_type": "code",
   "execution_count": 69,
   "id": "019ef24d",
   "metadata": {},
   "outputs": [
    {
     "data": {
      "text/plain": [
       "array([[1252,  294,  241],\n",
       "       [ 931,  783,  291],\n",
       "       [1005,  553,  301]], dtype=int64)"
      ]
     },
     "execution_count": 69,
     "metadata": {},
     "output_type": "execute_result"
    }
   ],
   "source": [
    "from sklearn.svm import SVC\n",
    "svcclassifier = SVC(kernel='sigmoid')\n",
    "svcclassifier.fit(X_train, y_train)\n",
    "svcy_pred = svcclassifier.predict(X_test)\n",
    "from sklearn.metrics import confusion_matrix\n",
    "cm = confusion_matrix(y_test, svcy_pred)\n",
    "cm"
   ]
  },
  {
   "cell_type": "code",
   "execution_count": 70,
   "id": "5614f116",
   "metadata": {},
   "outputs": [
    {
     "name": "stdout",
     "output_type": "stream",
     "text": [
      "Train data accuracy: 0.40546075085324235\n",
      "Test data accuracy: 0.41337816315696335\n"
     ]
    }
   ],
   "source": [
    "print(\"Train data accuracy:\",accuracy_score(y_true = y_train, y_pred=svcclassifier.predict(X_train)))\n",
    "print(\"Test data accuracy:\",accuracy_score(y_true = y_test, y_pred=svcy_pred))"
   ]
  },
  {
   "cell_type": "markdown",
   "id": "bb7256de",
   "metadata": {},
   "source": [
    "If we compare the performance of the different types of kernels we can clearly see that the sigmoid kernel performs the worst. This is due to the reason that sigmoid function returns two values, 0 and 1, therefore it is more suitable for binary classification problems. However, in our case we had three output classes. That is Male, Female and Brand.\n",
    "The Gaussian kernel gives us the best test data accuracy among all other SVM kernals."
   ]
  },
  {
   "cell_type": "markdown",
   "id": "11deddfa",
   "metadata": {},
   "source": [
    "### f).  Gradient Boosting Model"
   ]
  },
  {
   "cell_type": "code",
   "execution_count": 71,
   "id": "5faf8aa8",
   "metadata": {},
   "outputs": [],
   "source": [
    "from sklearn.ensemble import GradientBoostingRegressor\n",
    "gb = GradientBoostingRegressor()\n",
    "gb.fit(X_train,y_train)\n",
    "gb_pred = gb.predict(X_test)"
   ]
  },
  {
   "cell_type": "code",
   "execution_count": 72,
   "id": "fdf334d8",
   "metadata": {},
   "outputs": [
    {
     "data": {
      "text/plain": [
       "array([0.48790504, 0.68918835, 1.31130468, ..., 1.13425399, 0.45721156,\n",
       "       0.14871017])"
      ]
     },
     "execution_count": 72,
     "metadata": {},
     "output_type": "execute_result"
    }
   ],
   "source": [
    "gb_pred"
   ]
  },
  {
   "cell_type": "markdown",
   "id": "2dfbb228",
   "metadata": {},
   "source": [
    "### g). Extreme gradient boosting Model"
   ]
  },
  {
   "cell_type": "code",
   "execution_count": null,
   "id": "f8399e1f",
   "metadata": {},
   "outputs": [],
   "source": [
    "!pip3 install xgboost"
   ]
  },
  {
   "cell_type": "code",
   "execution_count": 130,
   "id": "19b5addc",
   "metadata": {},
   "outputs": [
    {
     "name": "stdout",
     "output_type": "stream",
     "text": [
      "[11:44:15] WARNING: C:/Users/Administrator/workspace/xgboost-win64_release_1.5.1/src/learner.cc:1115: Starting in XGBoost 1.3.0, the default evaluation metric used with the objective 'multi:softprob' was changed from 'merror' to 'mlogloss'. Explicitly set eval_metric if you'd like to restore the old behavior.\n"
     ]
    },
    {
     "data": {
      "text/plain": [
       "XGBClassifier(base_score=0.5, booster='gbtree', colsample_bylevel=1,\n",
       "              colsample_bynode=1, colsample_bytree=1, enable_categorical=False,\n",
       "              gamma=0, gpu_id=-1, importance_type=None,\n",
       "              interaction_constraints='', learning_rate=0.300000012,\n",
       "              max_delta_step=0, max_depth=6, min_child_weight=1, missing=nan,\n",
       "              monotone_constraints='()', n_estimators=100, n_jobs=4,\n",
       "              num_parallel_tree=1, objective='multi:softprob', predictor='auto',\n",
       "              random_state=0, reg_alpha=0, reg_lambda=1, scale_pos_weight=None,\n",
       "              subsample=1, tree_method='exact', validate_parameters=1,\n",
       "              verbosity=None)"
      ]
     },
     "execution_count": 130,
     "metadata": {},
     "output_type": "execute_result"
    }
   ],
   "source": [
    "from xgboost import XGBClassifier\n",
    "# fit model no training data\n",
    "model = XGBClassifier()\n",
    "model.fit(X_train, y_train)"
   ]
  },
  {
   "cell_type": "code",
   "execution_count": 131,
   "id": "815d0892",
   "metadata": {},
   "outputs": [
    {
     "name": "stdout",
     "output_type": "stream",
     "text": [
      "XGBClassifier(base_score=0.5, booster='gbtree', colsample_bylevel=1,\n",
      "              colsample_bynode=1, colsample_bytree=1, enable_categorical=False,\n",
      "              gamma=0, gpu_id=-1, importance_type=None,\n",
      "              interaction_constraints='', learning_rate=0.300000012,\n",
      "              max_delta_step=0, max_depth=6, min_child_weight=1, missing=nan,\n",
      "              monotone_constraints='()', n_estimators=100, n_jobs=4,\n",
      "              num_parallel_tree=1, objective='multi:softprob', predictor='auto',\n",
      "              random_state=0, reg_alpha=0, reg_lambda=1, scale_pos_weight=None,\n",
      "              subsample=1, tree_method='exact', validate_parameters=1,\n",
      "              verbosity=None)\n"
     ]
    }
   ],
   "source": [
    "print(model)"
   ]
  },
  {
   "cell_type": "code",
   "execution_count": 132,
   "id": "69aeec4f",
   "metadata": {},
   "outputs": [],
   "source": [
    "# make predictions for test data\n",
    "xgby_pred = model.predict(X_test)\n",
    "##predictions = [round(value) for value in y_pred]"
   ]
  },
  {
   "cell_type": "code",
   "execution_count": 133,
   "id": "265e1e3f",
   "metadata": {},
   "outputs": [
    {
     "name": "stdout",
     "output_type": "stream",
     "text": [
      "Train data accuracy: 0.696840987523228\n",
      "Test data accuracy: 0.535828025477707\n"
     ]
    }
   ],
   "source": [
    "# evaluate predictions\n",
    "accuracy = accuracy_score(y_test, xgby_pred)\n",
    "print(\"Train data accuracy:\",accuracy_score(y_true = y_train, y_pred=model.predict(X_train)))\n",
    "print(\"Test data accuracy:\",accuracy_score(y_true = y_test, y_pred=xgby_pred))\n",
    "#print(\"Accuracy: %.2f%%\" % (accuracy * 100.0))"
   ]
  },
  {
   "cell_type": "markdown",
   "id": "a41788af",
   "metadata": {},
   "source": [
    "Based on the performance metrics score , the Extreame Gradient Boosting model shows more accuracy than any other models and it seems to be apt for this model."
   ]
  },
  {
   "cell_type": "markdown",
   "id": "de2f7587",
   "metadata": {},
   "source": [
    "## 5. Model Fine Tuning"
   ]
  },
  {
   "cell_type": "code",
   "execution_count": 77,
   "id": "aa98c87d",
   "metadata": {},
   "outputs": [
    {
     "data": {
      "text/html": [
       "<div>\n",
       "<style scoped>\n",
       "    .dataframe tbody tr th:only-of-type {\n",
       "        vertical-align: middle;\n",
       "    }\n",
       "\n",
       "    .dataframe tbody tr th {\n",
       "        vertical-align: top;\n",
       "    }\n",
       "\n",
       "    .dataframe thead th {\n",
       "        text-align: right;\n",
       "    }\n",
       "</style>\n",
       "<table border=\"1\" class=\"dataframe\">\n",
       "  <thead>\n",
       "    <tr style=\"text-align: right;\">\n",
       "      <th></th>\n",
       "      <th>fav_number</th>\n",
       "      <th>retweet_count</th>\n",
       "      <th>tweet_count</th>\n",
       "      <th>link_color_3B94D9</th>\n",
       "      <th>link_color_9266CC</th>\n",
       "      <th>link_color_9999</th>\n",
       "      <th>link_color_DD2E44</th>\n",
       "      <th>link_color_others</th>\n",
       "      <th>sidebar_color_181A1E</th>\n",
       "      <th>sidebar_color_C0DEED</th>\n",
       "      <th>sidebar_color_EEEEEE</th>\n",
       "      <th>sidebar_color_FFFFFF</th>\n",
       "      <th>sidebar_color_others</th>\n",
       "    </tr>\n",
       "  </thead>\n",
       "  <tbody>\n",
       "    <tr>\n",
       "      <th>0</th>\n",
       "      <td>-0.353977</td>\n",
       "      <td>-0.030196</td>\n",
       "      <td>0.602953</td>\n",
       "      <td>-0.183099</td>\n",
       "      <td>-0.156979</td>\n",
       "      <td>-0.177448</td>\n",
       "      <td>-0.161189</td>\n",
       "      <td>1.224393</td>\n",
       "      <td>-0.125484</td>\n",
       "      <td>-0.898033</td>\n",
       "      <td>-0.193233</td>\n",
       "      <td>2.046700</td>\n",
       "      <td>-0.348316</td>\n",
       "    </tr>\n",
       "    <tr>\n",
       "      <th>1</th>\n",
       "      <td>-0.348524</td>\n",
       "      <td>-0.030196</td>\n",
       "      <td>-0.265805</td>\n",
       "      <td>-0.183099</td>\n",
       "      <td>-0.156979</td>\n",
       "      <td>-0.177448</td>\n",
       "      <td>-0.161189</td>\n",
       "      <td>-0.816731</td>\n",
       "      <td>-0.125484</td>\n",
       "      <td>1.113544</td>\n",
       "      <td>-0.193233</td>\n",
       "      <td>-0.488591</td>\n",
       "      <td>-0.348316</td>\n",
       "    </tr>\n",
       "    <tr>\n",
       "      <th>2</th>\n",
       "      <td>0.263273</td>\n",
       "      <td>0.335804</td>\n",
       "      <td>-0.281368</td>\n",
       "      <td>-0.183099</td>\n",
       "      <td>-0.156979</td>\n",
       "      <td>-0.177448</td>\n",
       "      <td>-0.161189</td>\n",
       "      <td>1.224393</td>\n",
       "      <td>-0.125484</td>\n",
       "      <td>1.113544</td>\n",
       "      <td>-0.193233</td>\n",
       "      <td>-0.488591</td>\n",
       "      <td>-0.348316</td>\n",
       "    </tr>\n",
       "    <tr>\n",
       "      <th>3</th>\n",
       "      <td>-0.337776</td>\n",
       "      <td>-0.030196</td>\n",
       "      <td>-0.314308</td>\n",
       "      <td>-0.183099</td>\n",
       "      <td>-0.156979</td>\n",
       "      <td>-0.177448</td>\n",
       "      <td>-0.161189</td>\n",
       "      <td>-0.816731</td>\n",
       "      <td>-0.125484</td>\n",
       "      <td>1.113544</td>\n",
       "      <td>-0.193233</td>\n",
       "      <td>-0.488591</td>\n",
       "      <td>-0.348316</td>\n",
       "    </tr>\n",
       "    <tr>\n",
       "      <th>4</th>\n",
       "      <td>2.639077</td>\n",
       "      <td>-0.030196</td>\n",
       "      <td>-0.064416</td>\n",
       "      <td>5.461515</td>\n",
       "      <td>-0.156979</td>\n",
       "      <td>-0.177448</td>\n",
       "      <td>-0.161189</td>\n",
       "      <td>-0.816731</td>\n",
       "      <td>-0.125484</td>\n",
       "      <td>-0.898033</td>\n",
       "      <td>-0.193233</td>\n",
       "      <td>-0.488591</td>\n",
       "      <td>-0.348316</td>\n",
       "    </tr>\n",
       "    <tr>\n",
       "      <th>...</th>\n",
       "      <td>...</td>\n",
       "      <td>...</td>\n",
       "      <td>...</td>\n",
       "      <td>...</td>\n",
       "      <td>...</td>\n",
       "      <td>...</td>\n",
       "      <td>...</td>\n",
       "      <td>...</td>\n",
       "      <td>...</td>\n",
       "      <td>...</td>\n",
       "      <td>...</td>\n",
       "      <td>...</td>\n",
       "      <td>...</td>\n",
       "    </tr>\n",
       "    <tr>\n",
       "      <th>18831</th>\n",
       "      <td>-0.329756</td>\n",
       "      <td>-0.030196</td>\n",
       "      <td>-0.321947</td>\n",
       "      <td>-0.183099</td>\n",
       "      <td>-0.156979</td>\n",
       "      <td>-0.177448</td>\n",
       "      <td>-0.161189</td>\n",
       "      <td>-0.816731</td>\n",
       "      <td>-0.125484</td>\n",
       "      <td>1.113544</td>\n",
       "      <td>-0.193233</td>\n",
       "      <td>-0.488591</td>\n",
       "      <td>-0.348316</td>\n",
       "    </tr>\n",
       "    <tr>\n",
       "      <th>18832</th>\n",
       "      <td>-0.152425</td>\n",
       "      <td>-0.030196</td>\n",
       "      <td>-0.215002</td>\n",
       "      <td>-0.183099</td>\n",
       "      <td>-0.156979</td>\n",
       "      <td>-0.177448</td>\n",
       "      <td>-0.161189</td>\n",
       "      <td>1.224393</td>\n",
       "      <td>-0.125484</td>\n",
       "      <td>-0.898033</td>\n",
       "      <td>-0.193233</td>\n",
       "      <td>-0.488591</td>\n",
       "      <td>-0.348316</td>\n",
       "    </tr>\n",
       "    <tr>\n",
       "      <th>18833</th>\n",
       "      <td>-0.349967</td>\n",
       "      <td>-0.030196</td>\n",
       "      <td>-0.106749</td>\n",
       "      <td>-0.183099</td>\n",
       "      <td>-0.156979</td>\n",
       "      <td>-0.177448</td>\n",
       "      <td>-0.161189</td>\n",
       "      <td>-0.816731</td>\n",
       "      <td>-0.125484</td>\n",
       "      <td>1.113544</td>\n",
       "      <td>-0.193233</td>\n",
       "      <td>-0.488591</td>\n",
       "      <td>-0.348316</td>\n",
       "    </tr>\n",
       "    <tr>\n",
       "      <th>18834</th>\n",
       "      <td>5.324789</td>\n",
       "      <td>-0.030196</td>\n",
       "      <td>0.142178</td>\n",
       "      <td>-0.183099</td>\n",
       "      <td>6.370288</td>\n",
       "      <td>-0.177448</td>\n",
       "      <td>-0.161189</td>\n",
       "      <td>-0.816731</td>\n",
       "      <td>-0.125484</td>\n",
       "      <td>-0.898033</td>\n",
       "      <td>-0.193233</td>\n",
       "      <td>-0.488591</td>\n",
       "      <td>-0.348316</td>\n",
       "    </tr>\n",
       "    <tr>\n",
       "      <th>18835</th>\n",
       "      <td>-0.085454</td>\n",
       "      <td>-0.030196</td>\n",
       "      <td>-0.303991</td>\n",
       "      <td>-0.183099</td>\n",
       "      <td>-0.156979</td>\n",
       "      <td>-0.177448</td>\n",
       "      <td>-0.161189</td>\n",
       "      <td>-0.816731</td>\n",
       "      <td>-0.125484</td>\n",
       "      <td>1.113544</td>\n",
       "      <td>-0.193233</td>\n",
       "      <td>-0.488591</td>\n",
       "      <td>-0.348316</td>\n",
       "    </tr>\n",
       "  </tbody>\n",
       "</table>\n",
       "<p>18836 rows × 13 columns</p>\n",
       "</div>"
      ],
      "text/plain": [
       "       fav_number  retweet_count  tweet_count  link_color_3B94D9  \\\n",
       "0       -0.353977      -0.030196     0.602953          -0.183099   \n",
       "1       -0.348524      -0.030196    -0.265805          -0.183099   \n",
       "2        0.263273       0.335804    -0.281368          -0.183099   \n",
       "3       -0.337776      -0.030196    -0.314308          -0.183099   \n",
       "4        2.639077      -0.030196    -0.064416           5.461515   \n",
       "...           ...            ...          ...                ...   \n",
       "18831   -0.329756      -0.030196    -0.321947          -0.183099   \n",
       "18832   -0.152425      -0.030196    -0.215002          -0.183099   \n",
       "18833   -0.349967      -0.030196    -0.106749          -0.183099   \n",
       "18834    5.324789      -0.030196     0.142178          -0.183099   \n",
       "18835   -0.085454      -0.030196    -0.303991          -0.183099   \n",
       "\n",
       "       link_color_9266CC  link_color_9999  link_color_DD2E44  \\\n",
       "0              -0.156979        -0.177448          -0.161189   \n",
       "1              -0.156979        -0.177448          -0.161189   \n",
       "2              -0.156979        -0.177448          -0.161189   \n",
       "3              -0.156979        -0.177448          -0.161189   \n",
       "4              -0.156979        -0.177448          -0.161189   \n",
       "...                  ...              ...                ...   \n",
       "18831          -0.156979        -0.177448          -0.161189   \n",
       "18832          -0.156979        -0.177448          -0.161189   \n",
       "18833          -0.156979        -0.177448          -0.161189   \n",
       "18834           6.370288        -0.177448          -0.161189   \n",
       "18835          -0.156979        -0.177448          -0.161189   \n",
       "\n",
       "       link_color_others  sidebar_color_181A1E  sidebar_color_C0DEED  \\\n",
       "0               1.224393             -0.125484             -0.898033   \n",
       "1              -0.816731             -0.125484              1.113544   \n",
       "2               1.224393             -0.125484              1.113544   \n",
       "3              -0.816731             -0.125484              1.113544   \n",
       "4              -0.816731             -0.125484             -0.898033   \n",
       "...                  ...                   ...                   ...   \n",
       "18831          -0.816731             -0.125484              1.113544   \n",
       "18832           1.224393             -0.125484             -0.898033   \n",
       "18833          -0.816731             -0.125484              1.113544   \n",
       "18834          -0.816731             -0.125484             -0.898033   \n",
       "18835          -0.816731             -0.125484              1.113544   \n",
       "\n",
       "       sidebar_color_EEEEEE  sidebar_color_FFFFFF  sidebar_color_others  \n",
       "0                 -0.193233              2.046700             -0.348316  \n",
       "1                 -0.193233             -0.488591             -0.348316  \n",
       "2                 -0.193233             -0.488591             -0.348316  \n",
       "3                 -0.193233             -0.488591             -0.348316  \n",
       "4                 -0.193233             -0.488591             -0.348316  \n",
       "...                     ...                   ...                   ...  \n",
       "18831             -0.193233             -0.488591             -0.348316  \n",
       "18832             -0.193233             -0.488591             -0.348316  \n",
       "18833             -0.193233             -0.488591             -0.348316  \n",
       "18834             -0.193233             -0.488591             -0.348316  \n",
       "18835             -0.193233             -0.488591             -0.348316  \n",
       "\n",
       "[18836 rows x 13 columns]"
      ]
     },
     "execution_count": 77,
     "metadata": {},
     "output_type": "execute_result"
    }
   ],
   "source": [
    "scaled_data"
   ]
  },
  {
   "cell_type": "code",
   "execution_count": 78,
   "id": "55c04474",
   "metadata": {},
   "outputs": [
    {
     "name": "stdout",
     "output_type": "stream",
     "text": [
      "[18:44:24] WARNING: C:/Users/Administrator/workspace/xgboost-win64_release_1.5.1/src/learner.cc:1115: Starting in XGBoost 1.3.0, the default evaluation metric used with the objective 'multi:softprob' was changed from 'merror' to 'mlogloss'. Explicitly set eval_metric if you'd like to restore the old behavior.\n",
      "Feature Importances :  [0.12176798 0.05235859 0.06199941 0.05836435 0.151427   0.08723831\n",
      " 0.04752566 0.08740086 0.12620051 0.04947564 0.04893931 0.04520309\n",
      " 0.06209922]\n"
     ]
    },
    {
     "data": {
      "image/png": "[encoded data removed]",
      "text/plain": [
       "<Figure size 432x288 with 1 Axes>"
      ]
     },
     "metadata": {
      "needs_background": "light"
     },
     "output_type": "display_data"
    }
   ],
   "source": [
    "from xgboost import XGBClassifier\n",
    "from xgboost import plot_importance\n",
    "\n",
    "# fit model to training data\n",
    "xgb_model = XGBClassifier(random_state = 0 )\n",
    "xgb_model.fit(X_train, y_train)\n",
    "\n",
    "print(\"Feature Importances : \", xgb_model.feature_importances_)\n",
    "\n",
    "# plot feature importance\n",
    "plot_importance(xgb_model)\n",
    "plt.show()"
   ]
  },
  {
   "cell_type": "code",
   "execution_count": 79,
   "id": "f2dc9153",
   "metadata": {},
   "outputs": [],
   "source": [
    "# get importance\n",
    "importances = rf.feature_importances_\n",
    "# Sort the feature importance in descending order\n",
    "sorted_indices = np.argsort(importances)[::-1]"
   ]
  },
  {
   "cell_type": "code",
   "execution_count": 80,
   "id": "3b8d5e44",
   "metadata": {},
   "outputs": [
    {
     "data": {
      "image/png": "[encoded data removed]",
      "text/plain": [
       "<Figure size 720x360 with 1 Axes>"
      ]
     },
     "metadata": {
      "needs_background": "light"
     },
     "output_type": "display_data"
    }
   ],
   "source": [
    "plt.figure(figsize=(10,5))\n",
    "plt.title('Feature Importance')\n",
    "# summarize feature importance\n",
    "# plot feature importance\n",
    "plt.bar(range(X_train.shape[1]), importances[sorted_indices], align='center')\n",
    "plt.xticks(range(X_train.shape[1]), X_train.columns[sorted_indices], rotation=90)\n",
    "plt.tight_layout()\n",
    "plt.show()"
   ]
  },
  {
   "cell_type": "markdown",
   "id": "a25b673a",
   "metadata": {},
   "source": [
    "After analyzing the results from Random Forest and XGboost feature importance we have change the feature set with most importand features. Here we use top 5 features for training and testing"
   ]
  },
  {
   "cell_type": "code",
   "execution_count": 81,
   "id": "eb8d1230",
   "metadata": {},
   "outputs": [
    {
     "data": {
      "text/plain": [
       "Index(['fav_number', 'retweet_count', 'tweet_count', 'link_color_3B94D9',\n",
       "       'link_color_9266CC', 'link_color_9999', 'link_color_DD2E44',\n",
       "       'link_color_others', 'sidebar_color_181A1E', 'sidebar_color_C0DEED',\n",
       "       'sidebar_color_EEEEEE', 'sidebar_color_FFFFFF', 'sidebar_color_others'],\n",
       "      dtype='object')"
      ]
     },
     "execution_count": 81,
     "metadata": {},
     "output_type": "execute_result"
    }
   ],
   "source": [
    "scaled_data.columns"
   ]
  },
  {
   "cell_type": "code",
   "execution_count": 82,
   "id": "e2d2cc64",
   "metadata": {},
   "outputs": [],
   "source": [
    "from sklearn.model_selection import train_test_split\n",
    "from sklearn.metrics import classification_report\n",
    "X = scaled_data.iloc[:,[0,1,2]]\n",
    "y = twitter['gender']\n",
    "X_train, X_test, y_train, y_test = train_test_split(X, y, random_state=42, test_size=0.2)"
   ]
  },
  {
   "cell_type": "code",
   "execution_count": 83,
   "id": "2deaee1c",
   "metadata": {},
   "outputs": [
    {
     "name": "stdout",
     "output_type": "stream",
     "text": [
      "[18:44:54] WARNING: C:/Users/Administrator/workspace/xgboost-win64_release_1.5.1/src/learner.cc:1115: Starting in XGBoost 1.3.0, the default evaluation metric used with the objective 'multi:softprob' was changed from 'merror' to 'mlogloss'. Explicitly set eval_metric if you'd like to restore the old behavior.\n"
     ]
    },
    {
     "data": {
      "text/plain": [
       "XGBClassifier(base_score=0.5, booster='gbtree', colsample_bylevel=1,\n",
       "              colsample_bynode=1, colsample_bytree=1, enable_categorical=False,\n",
       "              gamma=0, gpu_id=-1, importance_type=None,\n",
       "              interaction_constraints='', learning_rate=0.300000012,\n",
       "              max_delta_step=0, max_depth=6, min_child_weight=1, missing=nan,\n",
       "              monotone_constraints='()', n_estimators=100, n_jobs=4,\n",
       "              num_parallel_tree=1, objective='multi:softprob', predictor='auto',\n",
       "              random_state=0, reg_alpha=0, reg_lambda=1, scale_pos_weight=None,\n",
       "              subsample=1, tree_method='exact', validate_parameters=1,\n",
       "              verbosity=None)"
      ]
     },
     "execution_count": 83,
     "metadata": {},
     "output_type": "execute_result"
    }
   ],
   "source": [
    "from xgboost import XGBClassifier\n",
    "# fit model no training data\n",
    "model = XGBClassifier()\n",
    "model.fit(X_train, y_train)"
   ]
  },
  {
   "cell_type": "code",
   "execution_count": 84,
   "id": "a6f12e2e",
   "metadata": {},
   "outputs": [
    {
     "name": "stdout",
     "output_type": "stream",
     "text": [
      "Accuracy: 50.53%\n"
     ]
    }
   ],
   "source": [
    "# make predictions for test data\n",
    "xgby_pred = model.predict(X_test)\n",
    "##predictions = [round(value) for value in y_pred]\n",
    "# evaluate predictions\n",
    "accuracy = accuracy_score(y_test, xgby_pred)\n",
    "print(\"Accuracy: %.2f%%\" % (accuracy * 100.0))"
   ]
  },
  {
   "cell_type": "code",
   "execution_count": 85,
   "id": "c3db680a",
   "metadata": {},
   "outputs": [],
   "source": [
    "from sklearn.model_selection import train_test_split\n",
    "from sklearn.metrics import classification_report\n",
    "X = scaled_data.iloc[:,[0,1,2]]\n",
    "y = twitter['gender']\n",
    "X_train, X_test, y_train, y_test = train_test_split(X, y, random_state=42, test_size=0.2)"
   ]
  },
  {
   "cell_type": "code",
   "execution_count": 86,
   "id": "e365f600",
   "metadata": {},
   "outputs": [
    {
     "name": "stdout",
     "output_type": "stream",
     "text": [
      "Train data accuracy: 0.9896469338996549\n",
      "Test data accuracy: 0.4726645435244161\n"
     ]
    }
   ],
   "source": [
    "from sklearn.ensemble import RandomForestClassifier\n",
    "\n",
    "#Create an instance of  RandomForestClassifier\n",
    "rf=RandomForestClassifier(n_estimators=100)\n",
    "\n",
    "#Train the model using the training sets y_pred=clf.predict(X_test)\n",
    "rf.fit(X_train,y_train)\n",
    "\n",
    "# prediction on test set\n",
    "rf_y_pred=rf.predict(X_test)\n",
    "\n",
    "# Model Accuracy, how often is the classifier correct?\n",
    "print(\"Train data accuracy:\",accuracy_score(y_true = y_train, y_pred=rf.predict(X_train)))\n",
    "print(\"Test data accuracy:\",accuracy_score(y_true = y_test, y_pred=rf_y_pred))"
   ]
  },
  {
   "cell_type": "markdown",
   "id": "6a62a7d1",
   "metadata": {},
   "source": [
    "#### Applying PCA with Principal Components for feature importance "
   ]
  },
  {
   "cell_type": "code",
   "execution_count": 87,
   "id": "4c81972c",
   "metadata": {},
   "outputs": [
    {
     "data": {
      "text/html": [
       "<div>\n",
       "<style scoped>\n",
       "    .dataframe tbody tr th:only-of-type {\n",
       "        vertical-align: middle;\n",
       "    }\n",
       "\n",
       "    .dataframe tbody tr th {\n",
       "        vertical-align: top;\n",
       "    }\n",
       "\n",
       "    .dataframe thead th {\n",
       "        text-align: right;\n",
       "    }\n",
       "</style>\n",
       "<table border=\"1\" class=\"dataframe\">\n",
       "  <thead>\n",
       "    <tr style=\"text-align: right;\">\n",
       "      <th></th>\n",
       "      <th>gender</th>\n",
       "      <th>fav_number</th>\n",
       "      <th>link_color</th>\n",
       "      <th>retweet_count</th>\n",
       "      <th>sidebar_color</th>\n",
       "      <th>tweet_count</th>\n",
       "    </tr>\n",
       "  </thead>\n",
       "  <tbody>\n",
       "    <tr>\n",
       "      <th>0</th>\n",
       "      <td>2</td>\n",
       "      <td>0</td>\n",
       "      <td>others</td>\n",
       "      <td>0</td>\n",
       "      <td>FFFFFF</td>\n",
       "      <td>110964</td>\n",
       "    </tr>\n",
       "    <tr>\n",
       "      <th>1</th>\n",
       "      <td>2</td>\n",
       "      <td>68</td>\n",
       "      <td>0084B4</td>\n",
       "      <td>0</td>\n",
       "      <td>C0DEED</td>\n",
       "      <td>7471</td>\n",
       "    </tr>\n",
       "    <tr>\n",
       "      <th>2</th>\n",
       "      <td>2</td>\n",
       "      <td>7696</td>\n",
       "      <td>others</td>\n",
       "      <td>1</td>\n",
       "      <td>C0DEED</td>\n",
       "      <td>5617</td>\n",
       "    </tr>\n",
       "    <tr>\n",
       "      <th>3</th>\n",
       "      <td>2</td>\n",
       "      <td>202</td>\n",
       "      <td>0084B4</td>\n",
       "      <td>0</td>\n",
       "      <td>C0DEED</td>\n",
       "      <td>1693</td>\n",
       "    </tr>\n",
       "    <tr>\n",
       "      <th>4</th>\n",
       "      <td>1</td>\n",
       "      <td>37318</td>\n",
       "      <td>3B94D9</td>\n",
       "      <td>0</td>\n",
       "      <td>0</td>\n",
       "      <td>31462</td>\n",
       "    </tr>\n",
       "    <tr>\n",
       "      <th>...</th>\n",
       "      <td>...</td>\n",
       "      <td>...</td>\n",
       "      <td>...</td>\n",
       "      <td>...</td>\n",
       "      <td>...</td>\n",
       "      <td>...</td>\n",
       "    </tr>\n",
       "    <tr>\n",
       "      <th>20045</th>\n",
       "      <td>1</td>\n",
       "      <td>302</td>\n",
       "      <td>0084B4</td>\n",
       "      <td>0</td>\n",
       "      <td>C0DEED</td>\n",
       "      <td>783</td>\n",
       "    </tr>\n",
       "    <tr>\n",
       "      <th>20046</th>\n",
       "      <td>2</td>\n",
       "      <td>2513</td>\n",
       "      <td>others</td>\n",
       "      <td>0</td>\n",
       "      <td>0</td>\n",
       "      <td>13523</td>\n",
       "    </tr>\n",
       "    <tr>\n",
       "      <th>20047</th>\n",
       "      <td>2</td>\n",
       "      <td>50</td>\n",
       "      <td>0084B4</td>\n",
       "      <td>0</td>\n",
       "      <td>C0DEED</td>\n",
       "      <td>26419</td>\n",
       "    </tr>\n",
       "    <tr>\n",
       "      <th>20048</th>\n",
       "      <td>1</td>\n",
       "      <td>70804</td>\n",
       "      <td>9266CC</td>\n",
       "      <td>0</td>\n",
       "      <td>0</td>\n",
       "      <td>56073</td>\n",
       "    </tr>\n",
       "    <tr>\n",
       "      <th>20049</th>\n",
       "      <td>1</td>\n",
       "      <td>3348</td>\n",
       "      <td>0084B4</td>\n",
       "      <td>0</td>\n",
       "      <td>C0DEED</td>\n",
       "      <td>2922</td>\n",
       "    </tr>\n",
       "  </tbody>\n",
       "</table>\n",
       "<p>18836 rows × 6 columns</p>\n",
       "</div>"
      ],
      "text/plain": [
       "       gender  fav_number link_color  retweet_count sidebar_color  tweet_count\n",
       "0           2           0     others              0        FFFFFF       110964\n",
       "1           2          68     0084B4              0        C0DEED         7471\n",
       "2           2        7696     others              1        C0DEED         5617\n",
       "3           2         202     0084B4              0        C0DEED         1693\n",
       "4           1       37318     3B94D9              0             0        31462\n",
       "...       ...         ...        ...            ...           ...          ...\n",
       "20045       1         302     0084B4              0        C0DEED          783\n",
       "20046       2        2513     others              0             0        13523\n",
       "20047       2          50     0084B4              0        C0DEED        26419\n",
       "20048       1       70804     9266CC              0             0        56073\n",
       "20049       1        3348     0084B4              0        C0DEED         2922\n",
       "\n",
       "[18836 rows x 6 columns]"
      ]
     },
     "execution_count": 87,
     "metadata": {},
     "output_type": "execute_result"
    }
   ],
   "source": [
    "twitterdata"
   ]
  },
  {
   "cell_type": "code",
   "execution_count": 88,
   "id": "f05977a4",
   "metadata": {},
   "outputs": [],
   "source": [
    "from sklearn.preprocessing import MinMaxScaler\n",
    "mmscaler = MinMaxScaler()\n",
    "cols = ['fav_number','retweet_count','tweet_count']\n",
    "twitterdata[cols] = mmscaler.fit_transform(twitterdata[cols])"
   ]
  },
  {
   "cell_type": "code",
   "execution_count": 89,
   "id": "61776dc8",
   "metadata": {},
   "outputs": [
    {
     "data": {
      "text/html": [
       "<div>\n",
       "<style scoped>\n",
       "    .dataframe tbody tr th:only-of-type {\n",
       "        vertical-align: middle;\n",
       "    }\n",
       "\n",
       "    .dataframe tbody tr th {\n",
       "        vertical-align: top;\n",
       "    }\n",
       "\n",
       "    .dataframe thead th {\n",
       "        text-align: right;\n",
       "    }\n",
       "</style>\n",
       "<table border=\"1\" class=\"dataframe\">\n",
       "  <thead>\n",
       "    <tr style=\"text-align: right;\">\n",
       "      <th></th>\n",
       "      <th>gender</th>\n",
       "      <th>fav_number</th>\n",
       "      <th>retweet_count</th>\n",
       "      <th>tweet_count</th>\n",
       "      <th>link_color_3B94D9</th>\n",
       "      <th>link_color_9266CC</th>\n",
       "      <th>link_color_9999</th>\n",
       "      <th>link_color_DD2E44</th>\n",
       "      <th>link_color_others</th>\n",
       "      <th>sidebar_color_181A1E</th>\n",
       "      <th>sidebar_color_C0DEED</th>\n",
       "      <th>sidebar_color_EEEEEE</th>\n",
       "      <th>sidebar_color_FFFFFF</th>\n",
       "      <th>sidebar_color_others</th>\n",
       "    </tr>\n",
       "  </thead>\n",
       "  <tbody>\n",
       "    <tr>\n",
       "      <th>0</th>\n",
       "      <td>2</td>\n",
       "      <td>0.000000</td>\n",
       "      <td>0.00000</td>\n",
       "      <td>0.041401</td>\n",
       "      <td>0</td>\n",
       "      <td>0</td>\n",
       "      <td>0</td>\n",
       "      <td>0</td>\n",
       "      <td>1</td>\n",
       "      <td>0</td>\n",
       "      <td>0</td>\n",
       "      <td>0</td>\n",
       "      <td>1</td>\n",
       "      <td>0</td>\n",
       "    </tr>\n",
       "    <tr>\n",
       "      <th>1</th>\n",
       "      <td>2</td>\n",
       "      <td>0.000199</td>\n",
       "      <td>0.00000</td>\n",
       "      <td>0.002787</td>\n",
       "      <td>0</td>\n",
       "      <td>0</td>\n",
       "      <td>0</td>\n",
       "      <td>0</td>\n",
       "      <td>0</td>\n",
       "      <td>0</td>\n",
       "      <td>1</td>\n",
       "      <td>0</td>\n",
       "      <td>0</td>\n",
       "      <td>0</td>\n",
       "    </tr>\n",
       "    <tr>\n",
       "      <th>2</th>\n",
       "      <td>2</td>\n",
       "      <td>0.022528</td>\n",
       "      <td>0.00303</td>\n",
       "      <td>0.002095</td>\n",
       "      <td>0</td>\n",
       "      <td>0</td>\n",
       "      <td>0</td>\n",
       "      <td>0</td>\n",
       "      <td>1</td>\n",
       "      <td>0</td>\n",
       "      <td>1</td>\n",
       "      <td>0</td>\n",
       "      <td>0</td>\n",
       "      <td>0</td>\n",
       "    </tr>\n",
       "    <tr>\n",
       "      <th>3</th>\n",
       "      <td>2</td>\n",
       "      <td>0.000591</td>\n",
       "      <td>0.00000</td>\n",
       "      <td>0.000631</td>\n",
       "      <td>0</td>\n",
       "      <td>0</td>\n",
       "      <td>0</td>\n",
       "      <td>0</td>\n",
       "      <td>0</td>\n",
       "      <td>0</td>\n",
       "      <td>1</td>\n",
       "      <td>0</td>\n",
       "      <td>0</td>\n",
       "      <td>0</td>\n",
       "    </tr>\n",
       "    <tr>\n",
       "      <th>4</th>\n",
       "      <td>1</td>\n",
       "      <td>0.109238</td>\n",
       "      <td>0.00000</td>\n",
       "      <td>0.011738</td>\n",
       "      <td>1</td>\n",
       "      <td>0</td>\n",
       "      <td>0</td>\n",
       "      <td>0</td>\n",
       "      <td>0</td>\n",
       "      <td>0</td>\n",
       "      <td>0</td>\n",
       "      <td>0</td>\n",
       "      <td>0</td>\n",
       "      <td>0</td>\n",
       "    </tr>\n",
       "    <tr>\n",
       "      <th>...</th>\n",
       "      <td>...</td>\n",
       "      <td>...</td>\n",
       "      <td>...</td>\n",
       "      <td>...</td>\n",
       "      <td>...</td>\n",
       "      <td>...</td>\n",
       "      <td>...</td>\n",
       "      <td>...</td>\n",
       "      <td>...</td>\n",
       "      <td>...</td>\n",
       "      <td>...</td>\n",
       "      <td>...</td>\n",
       "      <td>...</td>\n",
       "      <td>...</td>\n",
       "    </tr>\n",
       "    <tr>\n",
       "      <th>20045</th>\n",
       "      <td>1</td>\n",
       "      <td>0.000884</td>\n",
       "      <td>0.00000</td>\n",
       "      <td>0.000292</td>\n",
       "      <td>0</td>\n",
       "      <td>0</td>\n",
       "      <td>0</td>\n",
       "      <td>0</td>\n",
       "      <td>0</td>\n",
       "      <td>0</td>\n",
       "      <td>1</td>\n",
       "      <td>0</td>\n",
       "      <td>0</td>\n",
       "      <td>0</td>\n",
       "    </tr>\n",
       "    <tr>\n",
       "      <th>20046</th>\n",
       "      <td>2</td>\n",
       "      <td>0.007356</td>\n",
       "      <td>0.00000</td>\n",
       "      <td>0.005045</td>\n",
       "      <td>0</td>\n",
       "      <td>0</td>\n",
       "      <td>0</td>\n",
       "      <td>0</td>\n",
       "      <td>1</td>\n",
       "      <td>0</td>\n",
       "      <td>0</td>\n",
       "      <td>0</td>\n",
       "      <td>0</td>\n",
       "      <td>0</td>\n",
       "    </tr>\n",
       "    <tr>\n",
       "      <th>20047</th>\n",
       "      <td>2</td>\n",
       "      <td>0.000146</td>\n",
       "      <td>0.00000</td>\n",
       "      <td>0.009857</td>\n",
       "      <td>0</td>\n",
       "      <td>0</td>\n",
       "      <td>0</td>\n",
       "      <td>0</td>\n",
       "      <td>0</td>\n",
       "      <td>0</td>\n",
       "      <td>1</td>\n",
       "      <td>0</td>\n",
       "      <td>0</td>\n",
       "      <td>0</td>\n",
       "    </tr>\n",
       "    <tr>\n",
       "      <th>20048</th>\n",
       "      <td>1</td>\n",
       "      <td>0.207259</td>\n",
       "      <td>0.00000</td>\n",
       "      <td>0.020921</td>\n",
       "      <td>0</td>\n",
       "      <td>1</td>\n",
       "      <td>0</td>\n",
       "      <td>0</td>\n",
       "      <td>0</td>\n",
       "      <td>0</td>\n",
       "      <td>0</td>\n",
       "      <td>0</td>\n",
       "      <td>0</td>\n",
       "      <td>0</td>\n",
       "    </tr>\n",
       "    <tr>\n",
       "      <th>20049</th>\n",
       "      <td>1</td>\n",
       "      <td>0.009800</td>\n",
       "      <td>0.00000</td>\n",
       "      <td>0.001090</td>\n",
       "      <td>0</td>\n",
       "      <td>0</td>\n",
       "      <td>0</td>\n",
       "      <td>0</td>\n",
       "      <td>0</td>\n",
       "      <td>0</td>\n",
       "      <td>1</td>\n",
       "      <td>0</td>\n",
       "      <td>0</td>\n",
       "      <td>0</td>\n",
       "    </tr>\n",
       "  </tbody>\n",
       "</table>\n",
       "<p>18836 rows × 14 columns</p>\n",
       "</div>"
      ],
      "text/plain": [
       "       gender  fav_number  retweet_count  tweet_count  link_color_3B94D9  \\\n",
       "0           2    0.000000        0.00000     0.041401                  0   \n",
       "1           2    0.000199        0.00000     0.002787                  0   \n",
       "2           2    0.022528        0.00303     0.002095                  0   \n",
       "3           2    0.000591        0.00000     0.000631                  0   \n",
       "4           1    0.109238        0.00000     0.011738                  1   \n",
       "...       ...         ...            ...          ...                ...   \n",
       "20045       1    0.000884        0.00000     0.000292                  0   \n",
       "20046       2    0.007356        0.00000     0.005045                  0   \n",
       "20047       2    0.000146        0.00000     0.009857                  0   \n",
       "20048       1    0.207259        0.00000     0.020921                  0   \n",
       "20049       1    0.009800        0.00000     0.001090                  0   \n",
       "\n",
       "       link_color_9266CC  link_color_9999  link_color_DD2E44  \\\n",
       "0                      0                0                  0   \n",
       "1                      0                0                  0   \n",
       "2                      0                0                  0   \n",
       "3                      0                0                  0   \n",
       "4                      0                0                  0   \n",
       "...                  ...              ...                ...   \n",
       "20045                  0                0                  0   \n",
       "20046                  0                0                  0   \n",
       "20047                  0                0                  0   \n",
       "20048                  1                0                  0   \n",
       "20049                  0                0                  0   \n",
       "\n",
       "       link_color_others  sidebar_color_181A1E  sidebar_color_C0DEED  \\\n",
       "0                      1                     0                     0   \n",
       "1                      0                     0                     1   \n",
       "2                      1                     0                     1   \n",
       "3                      0                     0                     1   \n",
       "4                      0                     0                     0   \n",
       "...                  ...                   ...                   ...   \n",
       "20045                  0                     0                     1   \n",
       "20046                  1                     0                     0   \n",
       "20047                  0                     0                     1   \n",
       "20048                  0                     0                     0   \n",
       "20049                  0                     0                     1   \n",
       "\n",
       "       sidebar_color_EEEEEE  sidebar_color_FFFFFF  sidebar_color_others  \n",
       "0                         0                     1                     0  \n",
       "1                         0                     0                     0  \n",
       "2                         0                     0                     0  \n",
       "3                         0                     0                     0  \n",
       "4                         0                     0                     0  \n",
       "...                     ...                   ...                   ...  \n",
       "20045                     0                     0                     0  \n",
       "20046                     0                     0                     0  \n",
       "20047                     0                     0                     0  \n",
       "20048                     0                     0                     0  \n",
       "20049                     0                     0                     0  \n",
       "\n",
       "[18836 rows x 14 columns]"
      ]
     },
     "execution_count": 89,
     "metadata": {},
     "output_type": "execute_result"
    }
   ],
   "source": [
    "dummies = pd.get_dummies(twitterdata[['link_color', 'sidebar_color']], drop_first=True)\n",
    "twitterdata = pd.concat([twitterdata.drop(['link_color', 'sidebar_color'],axis=1), dummies],axis=1)\n",
    "twitterdata"
   ]
  },
  {
   "cell_type": "code",
   "execution_count": 90,
   "id": "0487ca38",
   "metadata": {},
   "outputs": [
    {
     "data": {
      "text/plain": [
       "array([2, 1, 0], dtype=int64)"
      ]
     },
     "execution_count": 90,
     "metadata": {},
     "output_type": "execute_result"
    }
   ],
   "source": [
    "# Import label encoder\n",
    "import warnings\n",
    "warnings.filterwarnings('ignore')\n",
    "from sklearn import preprocessing\n",
    " \n",
    "# label_encoder object knows how to understand word labels.\n",
    "label_encoder = preprocessing.LabelEncoder()\n",
    " \n",
    "# Encode labels in column 'gender'.\n",
    "twitterdata['gender']= label_encoder.fit_transform(twitterdata['gender'])\n",
    " \n",
    "twitterdata['gender'].unique()"
   ]
  },
  {
   "cell_type": "code",
   "execution_count": 91,
   "id": "16a4c6a1",
   "metadata": {},
   "outputs": [
    {
     "data": {
      "text/html": [
       "<div>\n",
       "<style scoped>\n",
       "    .dataframe tbody tr th:only-of-type {\n",
       "        vertical-align: middle;\n",
       "    }\n",
       "\n",
       "    .dataframe tbody tr th {\n",
       "        vertical-align: top;\n",
       "    }\n",
       "\n",
       "    .dataframe thead th {\n",
       "        text-align: right;\n",
       "    }\n",
       "</style>\n",
       "<table border=\"1\" class=\"dataframe\">\n",
       "  <thead>\n",
       "    <tr style=\"text-align: right;\">\n",
       "      <th></th>\n",
       "      <th>gender</th>\n",
       "      <th>fav_number</th>\n",
       "      <th>retweet_count</th>\n",
       "      <th>tweet_count</th>\n",
       "      <th>link_color_3B94D9</th>\n",
       "      <th>link_color_9266CC</th>\n",
       "      <th>link_color_9999</th>\n",
       "      <th>link_color_DD2E44</th>\n",
       "      <th>link_color_others</th>\n",
       "      <th>sidebar_color_181A1E</th>\n",
       "      <th>sidebar_color_C0DEED</th>\n",
       "      <th>sidebar_color_EEEEEE</th>\n",
       "      <th>sidebar_color_FFFFFF</th>\n",
       "      <th>sidebar_color_others</th>\n",
       "    </tr>\n",
       "  </thead>\n",
       "  <tbody>\n",
       "    <tr>\n",
       "      <th>count</th>\n",
       "      <td>1.883600e+04</td>\n",
       "      <td>1.883600e+04</td>\n",
       "      <td>1.883600e+04</td>\n",
       "      <td>1.883600e+04</td>\n",
       "      <td>1.883600e+04</td>\n",
       "      <td>1.883600e+04</td>\n",
       "      <td>1.883600e+04</td>\n",
       "      <td>1.883600e+04</td>\n",
       "      <td>1.883600e+04</td>\n",
       "      <td>1.883600e+04</td>\n",
       "      <td>1.883600e+04</td>\n",
       "      <td>1.883600e+04</td>\n",
       "      <td>1.883600e+04</td>\n",
       "      <td>1.883600e+04</td>\n",
       "    </tr>\n",
       "    <tr>\n",
       "      <th>mean</th>\n",
       "      <td>3.781195e-15</td>\n",
       "      <td>7.239503e-16</td>\n",
       "      <td>-3.736721e-16</td>\n",
       "      <td>-2.812367e-16</td>\n",
       "      <td>6.393478e-16</td>\n",
       "      <td>-1.360565e-15</td>\n",
       "      <td>-9.219284e-16</td>\n",
       "      <td>-5.046163e-16</td>\n",
       "      <td>-6.390089e-15</td>\n",
       "      <td>1.408323e-15</td>\n",
       "      <td>-3.937225e-15</td>\n",
       "      <td>-5.143800e-16</td>\n",
       "      <td>3.356503e-15</td>\n",
       "      <td>3.234064e-16</td>\n",
       "    </tr>\n",
       "    <tr>\n",
       "      <th>std</th>\n",
       "      <td>1.000027e+00</td>\n",
       "      <td>1.000027e+00</td>\n",
       "      <td>1.000027e+00</td>\n",
       "      <td>1.000027e+00</td>\n",
       "      <td>1.000027e+00</td>\n",
       "      <td>1.000027e+00</td>\n",
       "      <td>1.000027e+00</td>\n",
       "      <td>1.000027e+00</td>\n",
       "      <td>1.000027e+00</td>\n",
       "      <td>1.000027e+00</td>\n",
       "      <td>1.000027e+00</td>\n",
       "      <td>1.000027e+00</td>\n",
       "      <td>1.000027e+00</td>\n",
       "      <td>1.000027e+00</td>\n",
       "    </tr>\n",
       "    <tr>\n",
       "      <th>min</th>\n",
       "      <td>-1.262666e+00</td>\n",
       "      <td>-3.539774e-01</td>\n",
       "      <td>-3.019553e-02</td>\n",
       "      <td>-3.285111e-01</td>\n",
       "      <td>-1.830994e-01</td>\n",
       "      <td>-1.569788e-01</td>\n",
       "      <td>-1.774482e-01</td>\n",
       "      <td>-1.611887e-01</td>\n",
       "      <td>-8.167314e-01</td>\n",
       "      <td>-1.254844e-01</td>\n",
       "      <td>-8.980334e-01</td>\n",
       "      <td>-1.932328e-01</td>\n",
       "      <td>-4.885914e-01</td>\n",
       "      <td>-3.483159e-01</td>\n",
       "    </tr>\n",
       "    <tr>\n",
       "      <th>25%</th>\n",
       "      <td>-1.262666e+00</td>\n",
       "      <td>-3.529347e-01</td>\n",
       "      <td>-3.019553e-02</td>\n",
       "      <td>-3.083751e-01</td>\n",
       "      <td>-1.830994e-01</td>\n",
       "      <td>-1.569788e-01</td>\n",
       "      <td>-1.774482e-01</td>\n",
       "      <td>-1.611887e-01</td>\n",
       "      <td>-8.167314e-01</td>\n",
       "      <td>-1.254844e-01</td>\n",
       "      <td>-8.980334e-01</td>\n",
       "      <td>-1.932328e-01</td>\n",
       "      <td>-4.885914e-01</td>\n",
       "      <td>-3.483159e-01</td>\n",
       "    </tr>\n",
       "    <tr>\n",
       "      <th>50%</th>\n",
       "      <td>-1.666974e-02</td>\n",
       "      <td>-3.152790e-01</td>\n",
       "      <td>-3.019553e-02</td>\n",
       "      <td>-2.335582e-01</td>\n",
       "      <td>-1.830994e-01</td>\n",
       "      <td>-1.569788e-01</td>\n",
       "      <td>-1.774482e-01</td>\n",
       "      <td>-1.611887e-01</td>\n",
       "      <td>-8.167314e-01</td>\n",
       "      <td>-1.254844e-01</td>\n",
       "      <td>-8.980334e-01</td>\n",
       "      <td>-1.932328e-01</td>\n",
       "      <td>-4.885914e-01</td>\n",
       "      <td>-3.483159e-01</td>\n",
       "    </tr>\n",
       "    <tr>\n",
       "      <th>75%</th>\n",
       "      <td>1.229327e+00</td>\n",
       "      <td>-8.324870e-02</td>\n",
       "      <td>-3.019553e-02</td>\n",
       "      <td>5.521810e-03</td>\n",
       "      <td>-1.830994e-01</td>\n",
       "      <td>-1.569788e-01</td>\n",
       "      <td>-1.774482e-01</td>\n",
       "      <td>-1.611887e-01</td>\n",
       "      <td>1.224393e+00</td>\n",
       "      <td>-1.254844e-01</td>\n",
       "      <td>1.113544e+00</td>\n",
       "      <td>-1.932328e-01</td>\n",
       "      <td>-4.885914e-01</td>\n",
       "      <td>-3.483159e-01</td>\n",
       "    </tr>\n",
       "    <tr>\n",
       "      <th>max</th>\n",
       "      <td>1.229327e+00</td>\n",
       "      <td>2.704540e+01</td>\n",
       "      <td>1.207496e+02</td>\n",
       "      <td>2.217006e+01</td>\n",
       "      <td>5.461515e+00</td>\n",
       "      <td>6.370288e+00</td>\n",
       "      <td>5.635447e+00</td>\n",
       "      <td>6.203908e+00</td>\n",
       "      <td>1.224393e+00</td>\n",
       "      <td>7.969118e+00</td>\n",
       "      <td>1.113544e+00</td>\n",
       "      <td>5.175105e+00</td>\n",
       "      <td>2.046700e+00</td>\n",
       "      <td>2.870957e+00</td>\n",
       "    </tr>\n",
       "  </tbody>\n",
       "</table>\n",
       "</div>"
      ],
      "text/plain": [
       "             gender    fav_number  retweet_count   tweet_count  \\\n",
       "count  1.883600e+04  1.883600e+04   1.883600e+04  1.883600e+04   \n",
       "mean   3.781195e-15  7.239503e-16  -3.736721e-16 -2.812367e-16   \n",
       "std    1.000027e+00  1.000027e+00   1.000027e+00  1.000027e+00   \n",
       "min   -1.262666e+00 -3.539774e-01  -3.019553e-02 -3.285111e-01   \n",
       "25%   -1.262666e+00 -3.529347e-01  -3.019553e-02 -3.083751e-01   \n",
       "50%   -1.666974e-02 -3.152790e-01  -3.019553e-02 -2.335582e-01   \n",
       "75%    1.229327e+00 -8.324870e-02  -3.019553e-02  5.521810e-03   \n",
       "max    1.229327e+00  2.704540e+01   1.207496e+02  2.217006e+01   \n",
       "\n",
       "       link_color_3B94D9  link_color_9266CC  link_color_9999  \\\n",
       "count       1.883600e+04       1.883600e+04     1.883600e+04   \n",
       "mean        6.393478e-16      -1.360565e-15    -9.219284e-16   \n",
       "std         1.000027e+00       1.000027e+00     1.000027e+00   \n",
       "min        -1.830994e-01      -1.569788e-01    -1.774482e-01   \n",
       "25%        -1.830994e-01      -1.569788e-01    -1.774482e-01   \n",
       "50%        -1.830994e-01      -1.569788e-01    -1.774482e-01   \n",
       "75%        -1.830994e-01      -1.569788e-01    -1.774482e-01   \n",
       "max         5.461515e+00       6.370288e+00     5.635447e+00   \n",
       "\n",
       "       link_color_DD2E44  link_color_others  sidebar_color_181A1E  \\\n",
       "count       1.883600e+04       1.883600e+04          1.883600e+04   \n",
       "mean       -5.046163e-16      -6.390089e-15          1.408323e-15   \n",
       "std         1.000027e+00       1.000027e+00          1.000027e+00   \n",
       "min        -1.611887e-01      -8.167314e-01         -1.254844e-01   \n",
       "25%        -1.611887e-01      -8.167314e-01         -1.254844e-01   \n",
       "50%        -1.611887e-01      -8.167314e-01         -1.254844e-01   \n",
       "75%        -1.611887e-01       1.224393e+00         -1.254844e-01   \n",
       "max         6.203908e+00       1.224393e+00          7.969118e+00   \n",
       "\n",
       "       sidebar_color_C0DEED  sidebar_color_EEEEEE  sidebar_color_FFFFFF  \\\n",
       "count          1.883600e+04          1.883600e+04          1.883600e+04   \n",
       "mean          -3.937225e-15         -5.143800e-16          3.356503e-15   \n",
       "std            1.000027e+00          1.000027e+00          1.000027e+00   \n",
       "min           -8.980334e-01         -1.932328e-01         -4.885914e-01   \n",
       "25%           -8.980334e-01         -1.932328e-01         -4.885914e-01   \n",
       "50%           -8.980334e-01         -1.932328e-01         -4.885914e-01   \n",
       "75%            1.113544e+00         -1.932328e-01         -4.885914e-01   \n",
       "max            1.113544e+00          5.175105e+00          2.046700e+00   \n",
       "\n",
       "       sidebar_color_others  \n",
       "count          1.883600e+04  \n",
       "mean           3.234064e-16  \n",
       "std            1.000027e+00  \n",
       "min           -3.483159e-01  \n",
       "25%           -3.483159e-01  \n",
       "50%           -3.483159e-01  \n",
       "75%           -3.483159e-01  \n",
       "max            2.870957e+00  "
      ]
     },
     "execution_count": 91,
     "metadata": {},
     "output_type": "execute_result"
    }
   ],
   "source": [
    "# scaling the data\n",
    "from sklearn.preprocessing import StandardScaler\n",
    "scalar = StandardScaler()\n",
    "scaled_data1 = scalar.fit_transform(twitterdata)\n",
    "scaled_data1 = pd.DataFrame(scaled_data1, columns = twitterdata.columns)\n",
    "scaled_data1.describe()"
   ]
  },
  {
   "cell_type": "code",
   "execution_count": 92,
   "id": "dd46735e",
   "metadata": {},
   "outputs": [
    {
     "data": {
      "text/html": [
       "<div>\n",
       "<style scoped>\n",
       "    .dataframe tbody tr th:only-of-type {\n",
       "        vertical-align: middle;\n",
       "    }\n",
       "\n",
       "    .dataframe tbody tr th {\n",
       "        vertical-align: top;\n",
       "    }\n",
       "\n",
       "    .dataframe thead th {\n",
       "        text-align: right;\n",
       "    }\n",
       "</style>\n",
       "<table border=\"1\" class=\"dataframe\">\n",
       "  <thead>\n",
       "    <tr style=\"text-align: right;\">\n",
       "      <th></th>\n",
       "      <th>gender</th>\n",
       "      <th>fav_number</th>\n",
       "      <th>retweet_count</th>\n",
       "      <th>tweet_count</th>\n",
       "      <th>link_color_3B94D9</th>\n",
       "      <th>link_color_9266CC</th>\n",
       "      <th>link_color_9999</th>\n",
       "      <th>link_color_DD2E44</th>\n",
       "      <th>link_color_others</th>\n",
       "      <th>sidebar_color_181A1E</th>\n",
       "      <th>sidebar_color_C0DEED</th>\n",
       "      <th>sidebar_color_EEEEEE</th>\n",
       "      <th>sidebar_color_FFFFFF</th>\n",
       "      <th>sidebar_color_others</th>\n",
       "    </tr>\n",
       "  </thead>\n",
       "  <tbody>\n",
       "    <tr>\n",
       "      <th>0</th>\n",
       "      <td>1.229327</td>\n",
       "      <td>-0.353977</td>\n",
       "      <td>-0.030196</td>\n",
       "      <td>0.602953</td>\n",
       "      <td>-0.183099</td>\n",
       "      <td>-0.156979</td>\n",
       "      <td>-0.177448</td>\n",
       "      <td>-0.161189</td>\n",
       "      <td>1.224393</td>\n",
       "      <td>-0.125484</td>\n",
       "      <td>-0.898033</td>\n",
       "      <td>-0.193233</td>\n",
       "      <td>2.046700</td>\n",
       "      <td>-0.348316</td>\n",
       "    </tr>\n",
       "    <tr>\n",
       "      <th>1</th>\n",
       "      <td>1.229327</td>\n",
       "      <td>-0.348524</td>\n",
       "      <td>-0.030196</td>\n",
       "      <td>-0.265805</td>\n",
       "      <td>-0.183099</td>\n",
       "      <td>-0.156979</td>\n",
       "      <td>-0.177448</td>\n",
       "      <td>-0.161189</td>\n",
       "      <td>-0.816731</td>\n",
       "      <td>-0.125484</td>\n",
       "      <td>1.113544</td>\n",
       "      <td>-0.193233</td>\n",
       "      <td>-0.488591</td>\n",
       "      <td>-0.348316</td>\n",
       "    </tr>\n",
       "    <tr>\n",
       "      <th>2</th>\n",
       "      <td>1.229327</td>\n",
       "      <td>0.263273</td>\n",
       "      <td>0.335804</td>\n",
       "      <td>-0.281368</td>\n",
       "      <td>-0.183099</td>\n",
       "      <td>-0.156979</td>\n",
       "      <td>-0.177448</td>\n",
       "      <td>-0.161189</td>\n",
       "      <td>1.224393</td>\n",
       "      <td>-0.125484</td>\n",
       "      <td>1.113544</td>\n",
       "      <td>-0.193233</td>\n",
       "      <td>-0.488591</td>\n",
       "      <td>-0.348316</td>\n",
       "    </tr>\n",
       "    <tr>\n",
       "      <th>3</th>\n",
       "      <td>1.229327</td>\n",
       "      <td>-0.337776</td>\n",
       "      <td>-0.030196</td>\n",
       "      <td>-0.314308</td>\n",
       "      <td>-0.183099</td>\n",
       "      <td>-0.156979</td>\n",
       "      <td>-0.177448</td>\n",
       "      <td>-0.161189</td>\n",
       "      <td>-0.816731</td>\n",
       "      <td>-0.125484</td>\n",
       "      <td>1.113544</td>\n",
       "      <td>-0.193233</td>\n",
       "      <td>-0.488591</td>\n",
       "      <td>-0.348316</td>\n",
       "    </tr>\n",
       "    <tr>\n",
       "      <th>4</th>\n",
       "      <td>-0.016670</td>\n",
       "      <td>2.639077</td>\n",
       "      <td>-0.030196</td>\n",
       "      <td>-0.064416</td>\n",
       "      <td>5.461515</td>\n",
       "      <td>-0.156979</td>\n",
       "      <td>-0.177448</td>\n",
       "      <td>-0.161189</td>\n",
       "      <td>-0.816731</td>\n",
       "      <td>-0.125484</td>\n",
       "      <td>-0.898033</td>\n",
       "      <td>-0.193233</td>\n",
       "      <td>-0.488591</td>\n",
       "      <td>-0.348316</td>\n",
       "    </tr>\n",
       "    <tr>\n",
       "      <th>...</th>\n",
       "      <td>...</td>\n",
       "      <td>...</td>\n",
       "      <td>...</td>\n",
       "      <td>...</td>\n",
       "      <td>...</td>\n",
       "      <td>...</td>\n",
       "      <td>...</td>\n",
       "      <td>...</td>\n",
       "      <td>...</td>\n",
       "      <td>...</td>\n",
       "      <td>...</td>\n",
       "      <td>...</td>\n",
       "      <td>...</td>\n",
       "      <td>...</td>\n",
       "    </tr>\n",
       "    <tr>\n",
       "      <th>18831</th>\n",
       "      <td>-0.016670</td>\n",
       "      <td>-0.329756</td>\n",
       "      <td>-0.030196</td>\n",
       "      <td>-0.321947</td>\n",
       "      <td>-0.183099</td>\n",
       "      <td>-0.156979</td>\n",
       "      <td>-0.177448</td>\n",
       "      <td>-0.161189</td>\n",
       "      <td>-0.816731</td>\n",
       "      <td>-0.125484</td>\n",
       "      <td>1.113544</td>\n",
       "      <td>-0.193233</td>\n",
       "      <td>-0.488591</td>\n",
       "      <td>-0.348316</td>\n",
       "    </tr>\n",
       "    <tr>\n",
       "      <th>18832</th>\n",
       "      <td>1.229327</td>\n",
       "      <td>-0.152425</td>\n",
       "      <td>-0.030196</td>\n",
       "      <td>-0.215002</td>\n",
       "      <td>-0.183099</td>\n",
       "      <td>-0.156979</td>\n",
       "      <td>-0.177448</td>\n",
       "      <td>-0.161189</td>\n",
       "      <td>1.224393</td>\n",
       "      <td>-0.125484</td>\n",
       "      <td>-0.898033</td>\n",
       "      <td>-0.193233</td>\n",
       "      <td>-0.488591</td>\n",
       "      <td>-0.348316</td>\n",
       "    </tr>\n",
       "    <tr>\n",
       "      <th>18833</th>\n",
       "      <td>1.229327</td>\n",
       "      <td>-0.349967</td>\n",
       "      <td>-0.030196</td>\n",
       "      <td>-0.106749</td>\n",
       "      <td>-0.183099</td>\n",
       "      <td>-0.156979</td>\n",
       "      <td>-0.177448</td>\n",
       "      <td>-0.161189</td>\n",
       "      <td>-0.816731</td>\n",
       "      <td>-0.125484</td>\n",
       "      <td>1.113544</td>\n",
       "      <td>-0.193233</td>\n",
       "      <td>-0.488591</td>\n",
       "      <td>-0.348316</td>\n",
       "    </tr>\n",
       "    <tr>\n",
       "      <th>18834</th>\n",
       "      <td>-0.016670</td>\n",
       "      <td>5.324789</td>\n",
       "      <td>-0.030196</td>\n",
       "      <td>0.142178</td>\n",
       "      <td>-0.183099</td>\n",
       "      <td>6.370288</td>\n",
       "      <td>-0.177448</td>\n",
       "      <td>-0.161189</td>\n",
       "      <td>-0.816731</td>\n",
       "      <td>-0.125484</td>\n",
       "      <td>-0.898033</td>\n",
       "      <td>-0.193233</td>\n",
       "      <td>-0.488591</td>\n",
       "      <td>-0.348316</td>\n",
       "    </tr>\n",
       "    <tr>\n",
       "      <th>18835</th>\n",
       "      <td>-0.016670</td>\n",
       "      <td>-0.085454</td>\n",
       "      <td>-0.030196</td>\n",
       "      <td>-0.303991</td>\n",
       "      <td>-0.183099</td>\n",
       "      <td>-0.156979</td>\n",
       "      <td>-0.177448</td>\n",
       "      <td>-0.161189</td>\n",
       "      <td>-0.816731</td>\n",
       "      <td>-0.125484</td>\n",
       "      <td>1.113544</td>\n",
       "      <td>-0.193233</td>\n",
       "      <td>-0.488591</td>\n",
       "      <td>-0.348316</td>\n",
       "    </tr>\n",
       "  </tbody>\n",
       "</table>\n",
       "<p>18836 rows × 14 columns</p>\n",
       "</div>"
      ],
      "text/plain": [
       "         gender  fav_number  retweet_count  tweet_count  link_color_3B94D9  \\\n",
       "0      1.229327   -0.353977      -0.030196     0.602953          -0.183099   \n",
       "1      1.229327   -0.348524      -0.030196    -0.265805          -0.183099   \n",
       "2      1.229327    0.263273       0.335804    -0.281368          -0.183099   \n",
       "3      1.229327   -0.337776      -0.030196    -0.314308          -0.183099   \n",
       "4     -0.016670    2.639077      -0.030196    -0.064416           5.461515   \n",
       "...         ...         ...            ...          ...                ...   \n",
       "18831 -0.016670   -0.329756      -0.030196    -0.321947          -0.183099   \n",
       "18832  1.229327   -0.152425      -0.030196    -0.215002          -0.183099   \n",
       "18833  1.229327   -0.349967      -0.030196    -0.106749          -0.183099   \n",
       "18834 -0.016670    5.324789      -0.030196     0.142178          -0.183099   \n",
       "18835 -0.016670   -0.085454      -0.030196    -0.303991          -0.183099   \n",
       "\n",
       "       link_color_9266CC  link_color_9999  link_color_DD2E44  \\\n",
       "0              -0.156979        -0.177448          -0.161189   \n",
       "1              -0.156979        -0.177448          -0.161189   \n",
       "2              -0.156979        -0.177448          -0.161189   \n",
       "3              -0.156979        -0.177448          -0.161189   \n",
       "4              -0.156979        -0.177448          -0.161189   \n",
       "...                  ...              ...                ...   \n",
       "18831          -0.156979        -0.177448          -0.161189   \n",
       "18832          -0.156979        -0.177448          -0.161189   \n",
       "18833          -0.156979        -0.177448          -0.161189   \n",
       "18834           6.370288        -0.177448          -0.161189   \n",
       "18835          -0.156979        -0.177448          -0.161189   \n",
       "\n",
       "       link_color_others  sidebar_color_181A1E  sidebar_color_C0DEED  \\\n",
       "0               1.224393             -0.125484             -0.898033   \n",
       "1              -0.816731             -0.125484              1.113544   \n",
       "2               1.224393             -0.125484              1.113544   \n",
       "3              -0.816731             -0.125484              1.113544   \n",
       "4              -0.816731             -0.125484             -0.898033   \n",
       "...                  ...                   ...                   ...   \n",
       "18831          -0.816731             -0.125484              1.113544   \n",
       "18832           1.224393             -0.125484             -0.898033   \n",
       "18833          -0.816731             -0.125484              1.113544   \n",
       "18834          -0.816731             -0.125484             -0.898033   \n",
       "18835          -0.816731             -0.125484              1.113544   \n",
       "\n",
       "       sidebar_color_EEEEEE  sidebar_color_FFFFFF  sidebar_color_others  \n",
       "0                 -0.193233              2.046700             -0.348316  \n",
       "1                 -0.193233             -0.488591             -0.348316  \n",
       "2                 -0.193233             -0.488591             -0.348316  \n",
       "3                 -0.193233             -0.488591             -0.348316  \n",
       "4                 -0.193233             -0.488591             -0.348316  \n",
       "...                     ...                   ...                   ...  \n",
       "18831             -0.193233             -0.488591             -0.348316  \n",
       "18832             -0.193233             -0.488591             -0.348316  \n",
       "18833             -0.193233             -0.488591             -0.348316  \n",
       "18834             -0.193233             -0.488591             -0.348316  \n",
       "18835             -0.193233             -0.488591             -0.348316  \n",
       "\n",
       "[18836 rows x 14 columns]"
      ]
     },
     "execution_count": 92,
     "metadata": {},
     "output_type": "execute_result"
    }
   ],
   "source": [
    "scaled_data1"
   ]
  },
  {
   "cell_type": "code",
   "execution_count": null,
   "id": "ae060e5b",
   "metadata": {},
   "outputs": [],
   "source": [
    "#Applying PCA with Principal Components = 2\n",
    "#Now let us apply PCA to the entire dataset and reduce it into two components. We are using the PCA function of sklearn.decomposition module.\n",
    "#After applying PCA we concatenate the results back with the gender column for better understanding."
   ]
  },
  {
   "cell_type": "code",
   "execution_count": 93,
   "id": "6cd27c1b",
   "metadata": {},
   "outputs": [
    {
     "data": {
      "text/html": [
       "<div>\n",
       "<style scoped>\n",
       "    .dataframe tbody tr th:only-of-type {\n",
       "        vertical-align: middle;\n",
       "    }\n",
       "\n",
       "    .dataframe tbody tr th {\n",
       "        vertical-align: top;\n",
       "    }\n",
       "\n",
       "    .dataframe thead th {\n",
       "        text-align: right;\n",
       "    }\n",
       "</style>\n",
       "<table border=\"1\" class=\"dataframe\">\n",
       "  <thead>\n",
       "    <tr style=\"text-align: right;\">\n",
       "      <th></th>\n",
       "      <th>principal component 1</th>\n",
       "      <th>principal component 2</th>\n",
       "      <th>gender</th>\n",
       "    </tr>\n",
       "  </thead>\n",
       "  <tbody>\n",
       "    <tr>\n",
       "      <th>0</th>\n",
       "      <td>1.989369</td>\n",
       "      <td>-0.336324</td>\n",
       "      <td>2</td>\n",
       "    </tr>\n",
       "    <tr>\n",
       "      <th>1</th>\n",
       "      <td>-1.462729</td>\n",
       "      <td>-0.100732</td>\n",
       "      <td>2</td>\n",
       "    </tr>\n",
       "    <tr>\n",
       "      <th>2</th>\n",
       "      <td>-0.185280</td>\n",
       "      <td>-0.437976</td>\n",
       "      <td>2</td>\n",
       "    </tr>\n",
       "    <tr>\n",
       "      <th>3</th>\n",
       "      <td>-1.465746</td>\n",
       "      <td>-0.107464</td>\n",
       "      <td>2</td>\n",
       "    </tr>\n",
       "    <tr>\n",
       "      <th>4</th>\n",
       "      <td>0.170281</td>\n",
       "      <td>0.098070</td>\n",
       "      <td>1</td>\n",
       "    </tr>\n",
       "    <tr>\n",
       "      <th>...</th>\n",
       "      <td>...</td>\n",
       "      <td>...</td>\n",
       "      <td>...</td>\n",
       "    </tr>\n",
       "    <tr>\n",
       "      <th>18831</th>\n",
       "      <td>-1.570788</td>\n",
       "      <td>-0.146755</td>\n",
       "      <td>1</td>\n",
       "    </tr>\n",
       "    <tr>\n",
       "      <th>18832</th>\n",
       "      <td>1.015115</td>\n",
       "      <td>-0.307997</td>\n",
       "      <td>2</td>\n",
       "    </tr>\n",
       "    <tr>\n",
       "      <th>18833</th>\n",
       "      <td>-1.447386</td>\n",
       "      <td>-0.078379</td>\n",
       "      <td>2</td>\n",
       "    </tr>\n",
       "    <tr>\n",
       "      <th>18834</th>\n",
       "      <td>0.665602</td>\n",
       "      <td>0.070619</td>\n",
       "      <td>1</td>\n",
       "    </tr>\n",
       "    <tr>\n",
       "      <th>18835</th>\n",
       "      <td>-1.529629</td>\n",
       "      <td>-0.142235</td>\n",
       "      <td>1</td>\n",
       "    </tr>\n",
       "  </tbody>\n",
       "</table>\n",
       "<p>18836 rows × 3 columns</p>\n",
       "</div>"
      ],
      "text/plain": [
       "       principal component 1  principal component 2  gender\n",
       "0                   1.989369              -0.336324       2\n",
       "1                  -1.462729              -0.100732       2\n",
       "2                  -0.185280              -0.437976       2\n",
       "3                  -1.465746              -0.107464       2\n",
       "4                   0.170281               0.098070       1\n",
       "...                      ...                    ...     ...\n",
       "18831              -1.570788              -0.146755       1\n",
       "18832               1.015115              -0.307997       2\n",
       "18833              -1.447386              -0.078379       2\n",
       "18834               0.665602               0.070619       1\n",
       "18835              -1.529629              -0.142235       1\n",
       "\n",
       "[18836 rows x 3 columns]"
      ]
     },
     "execution_count": 93,
     "metadata": {},
     "output_type": "execute_result"
    }
   ],
   "source": [
    "from sklearn.decomposition import PCA\n",
    "pca2 = PCA(n_components=2)\n",
    "principalComponents = pca2.fit_transform(scaled_data1)\n",
    "\n",
    "principalDf = pd.DataFrame(data = principalComponents, columns = ['principal component 1', 'principal component 2'])\n",
    "principalDf.reset_index(drop=True, inplace=True)\n",
    "twitter.reset_index(drop=True, inplace=True)\n",
    "\n",
    "finalDf=pd.concat((principalDf, twitter['gender']), axis = 1)\n",
    "finalDf"
   ]
  },
  {
   "cell_type": "code",
   "execution_count": 94,
   "id": "ac704c29",
   "metadata": {},
   "outputs": [
    {
     "data": {
      "text/plain": [
       "Text(0, 0.5, 'pc2')"
      ]
     },
     "execution_count": 94,
     "metadata": {},
     "output_type": "execute_result"
    },
    {
     "data": {
      "image/png": "[encoded data removed]",
      "text/plain": [
       "<Figure size 504x504 with 1 Axes>"
      ]
     },
     "metadata": {
      "needs_background": "light"
     },
     "output_type": "display_data"
    }
   ],
   "source": [
    "#Visualizing Data in 2 Dimension Scatter Plot\n",
    "#Let us now visualize the dataset that has been reduced to two components with the help of a scatter plot.\n",
    "plt.figure(figsize=(7,7))\n",
    "plt.scatter(finalDf['principal component 1'],finalDf['principal component 2'],c=finalDf['gender'],cmap='prism', s =5)\n",
    "plt.xlabel('pc1')\n",
    "plt.ylabel('pc2')"
   ]
  },
  {
   "cell_type": "code",
   "execution_count": 95,
   "id": "e4de457d",
   "metadata": {},
   "outputs": [
    {
     "data": {
      "text/html": [
       "<div>\n",
       "<style scoped>\n",
       "    .dataframe tbody tr th:only-of-type {\n",
       "        vertical-align: middle;\n",
       "    }\n",
       "\n",
       "    .dataframe tbody tr th {\n",
       "        vertical-align: top;\n",
       "    }\n",
       "\n",
       "    .dataframe thead th {\n",
       "        text-align: right;\n",
       "    }\n",
       "</style>\n",
       "<table border=\"1\" class=\"dataframe\">\n",
       "  <thead>\n",
       "    <tr style=\"text-align: right;\">\n",
       "      <th></th>\n",
       "      <th>principal component 1</th>\n",
       "      <th>principal component 2</th>\n",
       "      <th>principal component 3</th>\n",
       "      <th>gender</th>\n",
       "    </tr>\n",
       "  </thead>\n",
       "  <tbody>\n",
       "    <tr>\n",
       "      <th>0</th>\n",
       "      <td>1.989486</td>\n",
       "      <td>-0.336556</td>\n",
       "      <td>1.018906</td>\n",
       "      <td>2</td>\n",
       "    </tr>\n",
       "    <tr>\n",
       "      <th>1</th>\n",
       "      <td>-1.462650</td>\n",
       "      <td>-0.100891</td>\n",
       "      <td>-0.039424</td>\n",
       "      <td>2</td>\n",
       "    </tr>\n",
       "    <tr>\n",
       "      <th>2</th>\n",
       "      <td>-0.185849</td>\n",
       "      <td>-0.436838</td>\n",
       "      <td>-0.226762</td>\n",
       "      <td>2</td>\n",
       "    </tr>\n",
       "    <tr>\n",
       "      <th>3</th>\n",
       "      <td>-1.465664</td>\n",
       "      <td>-0.107628</td>\n",
       "      <td>-0.035015</td>\n",
       "      <td>2</td>\n",
       "    </tr>\n",
       "    <tr>\n",
       "      <th>4</th>\n",
       "      <td>0.169920</td>\n",
       "      <td>0.098778</td>\n",
       "      <td>2.143618</td>\n",
       "      <td>1</td>\n",
       "    </tr>\n",
       "    <tr>\n",
       "      <th>...</th>\n",
       "      <td>...</td>\n",
       "      <td>...</td>\n",
       "      <td>...</td>\n",
       "      <td>...</td>\n",
       "    </tr>\n",
       "    <tr>\n",
       "      <th>18831</th>\n",
       "      <td>-1.570694</td>\n",
       "      <td>-0.146943</td>\n",
       "      <td>-0.152126</td>\n",
       "      <td>1</td>\n",
       "    </tr>\n",
       "    <tr>\n",
       "      <th>18832</th>\n",
       "      <td>1.014205</td>\n",
       "      <td>-0.306202</td>\n",
       "      <td>-0.263203</td>\n",
       "      <td>2</td>\n",
       "    </tr>\n",
       "    <tr>\n",
       "      <th>18833</th>\n",
       "      <td>-1.447315</td>\n",
       "      <td>-0.078524</td>\n",
       "      <td>-0.043330</td>\n",
       "      <td>2</td>\n",
       "    </tr>\n",
       "    <tr>\n",
       "      <th>18834</th>\n",
       "      <td>0.665265</td>\n",
       "      <td>0.071322</td>\n",
       "      <td>3.338504</td>\n",
       "      <td>1</td>\n",
       "    </tr>\n",
       "    <tr>\n",
       "      <th>18835</th>\n",
       "      <td>-1.529529</td>\n",
       "      <td>-0.142432</td>\n",
       "      <td>-0.076226</td>\n",
       "      <td>1</td>\n",
       "    </tr>\n",
       "  </tbody>\n",
       "</table>\n",
       "<p>18836 rows × 4 columns</p>\n",
       "</div>"
      ],
      "text/plain": [
       "       principal component 1  principal component 2  principal component 3  \\\n",
       "0                   1.989486              -0.336556               1.018906   \n",
       "1                  -1.462650              -0.100891              -0.039424   \n",
       "2                  -0.185849              -0.436838              -0.226762   \n",
       "3                  -1.465664              -0.107628              -0.035015   \n",
       "4                   0.169920               0.098778               2.143618   \n",
       "...                      ...                    ...                    ...   \n",
       "18831              -1.570694              -0.146943              -0.152126   \n",
       "18832               1.014205              -0.306202              -0.263203   \n",
       "18833              -1.447315              -0.078524              -0.043330   \n",
       "18834               0.665265               0.071322               3.338504   \n",
       "18835              -1.529529              -0.142432              -0.076226   \n",
       "\n",
       "       gender  \n",
       "0           2  \n",
       "1           2  \n",
       "2           2  \n",
       "3           2  \n",
       "4           1  \n",
       "...       ...  \n",
       "18831       1  \n",
       "18832       2  \n",
       "18833       2  \n",
       "18834       1  \n",
       "18835       1  \n",
       "\n",
       "[18836 rows x 4 columns]"
      ]
     },
     "execution_count": 95,
     "metadata": {},
     "output_type": "execute_result"
    }
   ],
   "source": [
    "#Applying PCA with Principal Components = 3\n",
    "#Just like earlier, let us again apply PCA to the entire dataset to produce 3 components.\n",
    "pca3 = PCA(n_components=3)\n",
    "principalComponents = pca3.fit_transform(scaled_data1)\n",
    "\n",
    "principalDf1 = pd.DataFrame(data = principalComponents, columns = ['principal component 1', 'principal component 2', 'principal component 3'])\n",
    "principalDf1.reset_index(drop=True, inplace=True)\n",
    "twitter.reset_index(drop=True, inplace=True)\n",
    "finalDf1=pd.concat((principalDf1, twitter['gender']), axis = 1)\n",
    "finalDf1"
   ]
  },
  {
   "cell_type": "code",
   "execution_count": 96,
   "id": "5c906441",
   "metadata": {},
   "outputs": [
    {
     "data": {
      "text/plain": [
       "<mpl_toolkits.mplot3d.art3d.Path3DCollection at 0x1e148eccf70>"
      ]
     },
     "execution_count": 96,
     "metadata": {},
     "output_type": "execute_result"
    },
    {
     "data": {
      "image/png": "[encoded data removed]",
      "text/plain": [
       "<Figure size 648x648 with 1 Axes>"
      ]
     },
     "metadata": {
      "needs_background": "light"
     },
     "output_type": "display_data"
    }
   ],
   "source": [
    "#Visualizing Data in 3 Dimension Scatter Plot\n",
    "#Let us visualize the three PCA components with the help of 3-D Scatter plot.\n",
    "from mpl_toolkits.mplot3d import Axes3D\n",
    "\n",
    "fig = plt.figure(figsize=(9,9))\n",
    "axes = Axes3D(fig)\n",
    "axes.set_title('PCA Representation', size=14)\n",
    "axes.set_xlabel('PC1')\n",
    "axes.set_ylabel('PC2')\n",
    "axes.set_zlabel('PC3')\n",
    "\n",
    "axes.scatter(finalDf1['principal component 1'],finalDf1['principal component 2'],finalDf1['principal component 3'],c=finalDf1['gender'], cmap = 'prism', s=10)"
   ]
  },
  {
   "cell_type": "code",
   "execution_count": 97,
   "id": "c3de21d3",
   "metadata": {},
   "outputs": [],
   "source": [
    "from sklearn.model_selection import train_test_split\n",
    "from sklearn.metrics import classification_report\n",
    "X = finalDf1.iloc[:,[0,1,2]].values\n",
    "y = finalDf1['gender']\n",
    "X_train, X_test, y_train, y_test = train_test_split(X, y, random_state=42, test_size=0.2)"
   ]
  },
  {
   "cell_type": "code",
   "execution_count": 98,
   "id": "9188afc6",
   "metadata": {},
   "outputs": [],
   "source": [
    "#Standardizing the Dataset\n",
    "#This time we apply standardization to both train and test datasets but separately.\n",
    "scaler = StandardScaler()\n",
    "\n",
    "# Fit on training set only.\n",
    "scaler.fit(X_train)\n",
    "\n",
    "# Apply transform to both the training set and the test set.\n",
    "X_train_pca = scaler.transform(X_train)\n",
    "X_test_pca = scaler.transform(X_test)"
   ]
  },
  {
   "cell_type": "markdown",
   "id": "b9ba5960",
   "metadata": {},
   "source": [
    "### 1) Linear Regression Model "
   ]
  },
  {
   "cell_type": "code",
   "execution_count": 99,
   "id": "4252e6db",
   "metadata": {},
   "outputs": [
    {
     "name": "stdout",
     "output_type": "stream",
     "text": [
      "Train data accuracy: 0.40197770108839925\n",
      "Test data accuracy: 0.3970276008492569\n"
     ]
    }
   ],
   "source": [
    "# import the class LogisticRegression from sklearn linear_model\n",
    "from sklearn.linear_model import LogisticRegression\n",
    "from sklearn import metrics\n",
    "from sklearn.metrics import accuracy_score\n",
    "# train the model on the training set\n",
    "# create an instance of the LogisticRegression class using the default parameters\n",
    "logreg = LogisticRegression()\n",
    "# fit the model with data\n",
    "logreg.fit(X_train_pca, y_train)\n",
    "# make predictions on the testing set\n",
    "y_pred = logreg.predict(X_test_pca)\n",
    "# compare actual response values (y_test) with predicted response values (y_pred)\n",
    "print(\"Train data accuracy:\",accuracy_score(y_true = y_train, y_pred=logreg.predict(X_train)))\n",
    "print(\"Test data accuracy:\",accuracy_score(y_true = y_test, y_pred=y_pred))"
   ]
  },
  {
   "cell_type": "markdown",
   "id": "72ce3239",
   "metadata": {},
   "source": [
    "###  2) KNN Model"
   ]
  },
  {
   "cell_type": "code",
   "execution_count": 100,
   "id": "5eca0778",
   "metadata": {},
   "outputs": [
    {
     "data": {
      "text/plain": [
       "[0.9331210191082803,\n",
       " 0.9317940552016986,\n",
       " 0.9333864118895966,\n",
       " 0.9294055201698513,\n",
       " 0.9286093418259024,\n",
       " 0.9267515923566879,\n",
       " 0.9251592356687898,\n",
       " 0.921443736730361,\n",
       " 0.9217091295116773,\n",
       " 0.921443736730361,\n",
       " 0.9227707006369427,\n",
       " 0.9206475583864119]"
      ]
     },
     "execution_count": 100,
     "metadata": {},
     "output_type": "execute_result"
    }
   ],
   "source": [
    "import warnings\n",
    "warnings.filterwarnings('ignore')\n",
    "from sklearn.neighbors import KNeighborsClassifier\n",
    "from sklearn.metrics import accuracy_score\n",
    "acc_values=[]\n",
    "neighbors=np.arange(3,15)\n",
    "for k in neighbors:\n",
    "    classifier=KNeighborsClassifier(n_neighbors=k,metric='minkowski')\n",
    "    classifier.fit(X_train_pca,y_train)\n",
    "    y_pred=classifier.predict(X_test_pca)\n",
    "    acc=accuracy_score(y_test,y_pred)\n",
    "    acc_values.append(acc)\n",
    "acc_values"
   ]
  },
  {
   "cell_type": "code",
   "execution_count": 67,
   "id": "bf3877f2",
   "metadata": {},
   "outputs": [
    {
     "data": {
      "text/plain": [
       "Text(0, 0.5, 'accuracy')"
      ]
     },
     "execution_count": 67,
     "metadata": {},
     "output_type": "execute_result"
    },
    {
     "data": {
      "image/png": "[encoded data removed]",
      "text/plain": [
       "<Figure size 432x288 with 1 Axes>"
      ]
     },
     "metadata": {
      "needs_background": "light"
     },
     "output_type": "display_data"
    }
   ],
   "source": [
    "plt.plot(neighbors,acc_values,'o-')\n",
    "plt.xlabel('k values')\n",
    "plt.ylabel('accuracy')"
   ]
  },
  {
   "cell_type": "code",
   "execution_count": 101,
   "id": "55cd04f0",
   "metadata": {},
   "outputs": [
    {
     "data": {
      "text/plain": [
       "array([1, 2, 0, ..., 1, 2, 1])"
      ]
     },
     "execution_count": 101,
     "metadata": {},
     "output_type": "execute_result"
    }
   ],
   "source": [
    "classifier=KNeighborsClassifier(n_neighbors=5,metric=\"minkowski\")\n",
    "classifier.fit(X_train_pca,y_train)\n",
    "y_pred=classifier.predict(X_test_pca)\n",
    "y_pred"
   ]
  },
  {
   "cell_type": "code",
   "execution_count": 102,
   "id": "28788ad4",
   "metadata": {},
   "outputs": [
    {
     "name": "stdout",
     "output_type": "stream",
     "text": [
      "Train data accuracy: 0.9485001327316167\n",
      "Test data accuracy: 0.9333864118895966\n"
     ]
    }
   ],
   "source": [
    "#print(\"Accuracy is:\",accuracy_score(y_test,y_pred))\n",
    "print(\"Train data accuracy:\",accuracy_score(y_true = y_train, y_pred=classifier.predict(X_train_pca)))\n",
    "print(\"Test data accuracy:\",accuracy_score(y_true = y_test, y_pred=y_pred))"
   ]
  },
  {
   "cell_type": "markdown",
   "id": "1ebde844",
   "metadata": {},
   "source": [
    "### 3) Decision tree Classification model"
   ]
  },
  {
   "cell_type": "code",
   "execution_count": 103,
   "id": "84c0c039",
   "metadata": {},
   "outputs": [
    {
     "data": {
      "text/plain": [
       "DecisionTreeClassifier()"
      ]
     },
     "execution_count": 103,
     "metadata": {},
     "output_type": "execute_result"
    }
   ],
   "source": [
    "from sklearn.tree import DecisionTreeClassifier\n",
    "dt_model=DecisionTreeClassifier()\n",
    "dt_model.fit(X_train_pca,y_train)"
   ]
  },
  {
   "cell_type": "code",
   "execution_count": 104,
   "id": "18e1ee61",
   "metadata": {},
   "outputs": [
    {
     "data": {
      "text/plain": [
       "array([1, 2, 0, ..., 1, 2, 1])"
      ]
     },
     "execution_count": 104,
     "metadata": {},
     "output_type": "execute_result"
    }
   ],
   "source": [
    "y_pred=dt_model.predict(X_test_pca)\n",
    "y_pred"
   ]
  },
  {
   "cell_type": "code",
   "execution_count": 105,
   "id": "750af4d5",
   "metadata": {},
   "outputs": [
    {
     "name": "stdout",
     "output_type": "stream",
     "text": [
      "Train data accuracy: 1.0\n",
      "Accuracy on Decision Tree Model is: 0.9315286624203821\n"
     ]
    }
   ],
   "source": [
    "print(\"Train data accuracy:\",accuracy_score(y_true = y_train, y_pred=dt_model.predict(X_train_pca)))\n",
    "print(\"Accuracy on Decision Tree Model is:\",accuracy_score(y_test,y_pred))"
   ]
  },
  {
   "cell_type": "markdown",
   "id": "b7a0f0c6",
   "metadata": {},
   "source": [
    "### 4.) Random Forest Classification Model"
   ]
  },
  {
   "cell_type": "code",
   "execution_count": 106,
   "id": "2dc19994",
   "metadata": {},
   "outputs": [
    {
     "name": "stdout",
     "output_type": "stream",
     "text": [
      "Train data accuracy: 1.0\n",
      "Test data accuracy: 0.9503715498938429\n"
     ]
    }
   ],
   "source": [
    "from sklearn.ensemble import RandomForestClassifier\n",
    "\n",
    "#Create an instance of  RandomForestClassifier\n",
    "rf=RandomForestClassifier(n_estimators=100)\n",
    "\n",
    "#Train the model using the training sets y_pred=clf.predict(X_test)\n",
    "rf.fit(X_train_pca,y_train)\n",
    "\n",
    "# prediction on test set\n",
    "rf_y_pred=rf.predict(X_test_pca)\n",
    "\n",
    "# Model Accuracy, how often is the classifier correct?\n",
    "print(\"Train data accuracy:\",accuracy_score(y_true = y_train, y_pred=rf.predict(X_train_pca)))\n",
    "print(\"Test data accuracy:\",accuracy_score(y_true = y_test, y_pred=rf_y_pred))"
   ]
  },
  {
   "cell_type": "markdown",
   "id": "b82ce4bd",
   "metadata": {},
   "source": [
    "### 5 .) SVM model with rbf kernal/Gaussian kernel"
   ]
  },
  {
   "cell_type": "code",
   "execution_count": 107,
   "id": "0dc9c630",
   "metadata": {},
   "outputs": [
    {
     "data": {
      "text/plain": [
       "array([[ 678,  401,  104],\n",
       "       [  57, 1016,  245],\n",
       "       [  52,  398,  817]], dtype=int64)"
      ]
     },
     "execution_count": 107,
     "metadata": {},
     "output_type": "execute_result"
    }
   ],
   "source": [
    "from sklearn.svm import SVC\n",
    "classifier = SVC(kernel='rbf', random_state = 1)\n",
    "classifier.fit(X_train_pca,y_train)\n",
    "Y_pred = classifier.predict(X_test_pca)\n",
    "from sklearn.metrics import confusion_matrix\n",
    "cm = confusion_matrix(y_test, Y_pred)\n",
    "cm"
   ]
  },
  {
   "cell_type": "code",
   "execution_count": 108,
   "id": "e0c2a423",
   "metadata": {},
   "outputs": [
    {
     "name": "stdout",
     "output_type": "stream",
     "text": [
      "Train data accuracy: 0.6649853995221662\n",
      "Test data accuracy: 0.6664012738853503\n"
     ]
    }
   ],
   "source": [
    "print(\"Train data accuracy:\",accuracy_score(y_true = y_train, y_pred=classifier.predict(X_train_pca)))\n",
    "print(\"Test data accuracy:\",accuracy_score(y_true = y_test, y_pred=Y_pred))"
   ]
  },
  {
   "cell_type": "markdown",
   "id": "f99d3b1a",
   "metadata": {},
   "source": [
    "###  6.) Extreme gradient boosting Model"
   ]
  },
  {
   "cell_type": "code",
   "execution_count": 109,
   "id": "f01901ba",
   "metadata": {},
   "outputs": [
    {
     "name": "stdout",
     "output_type": "stream",
     "text": [
      "[18:47:10] WARNING: C:/Users/Administrator/workspace/xgboost-win64_release_1.5.1/src/learner.cc:1115: Starting in XGBoost 1.3.0, the default evaluation metric used with the objective 'multi:softprob' was changed from 'merror' to 'mlogloss'. Explicitly set eval_metric if you'd like to restore the old behavior.\n"
     ]
    },
    {
     "data": {
      "text/plain": [
       "XGBClassifier(base_score=0.5, booster='gbtree', colsample_bylevel=1,\n",
       "              colsample_bynode=1, colsample_bytree=1, enable_categorical=False,\n",
       "              gamma=0, gpu_id=-1, importance_type=None,\n",
       "              interaction_constraints='', learning_rate=0.300000012,\n",
       "              max_delta_step=0, max_depth=6, min_child_weight=1, missing=nan,\n",
       "              monotone_constraints='()', n_estimators=100, n_jobs=4,\n",
       "              num_parallel_tree=1, objective='multi:softprob', predictor='auto',\n",
       "              random_state=0, reg_alpha=0, reg_lambda=1, scale_pos_weight=None,\n",
       "              subsample=1, tree_method='exact', validate_parameters=1,\n",
       "              verbosity=None)"
      ]
     },
     "execution_count": 109,
     "metadata": {},
     "output_type": "execute_result"
    }
   ],
   "source": [
    "from xgboost import XGBClassifier\n",
    "# fit model no training data\n",
    "model = XGBClassifier()\n",
    "model.fit(X_train_pca, y_train)"
   ]
  },
  {
   "cell_type": "code",
   "execution_count": 110,
   "id": "729c694e",
   "metadata": {},
   "outputs": [
    {
     "name": "stdout",
     "output_type": "stream",
     "text": [
      "XGBClassifier(base_score=0.5, booster='gbtree', colsample_bylevel=1,\n",
      "              colsample_bynode=1, colsample_bytree=1, enable_categorical=False,\n",
      "              gamma=0, gpu_id=-1, importance_type=None,\n",
      "              interaction_constraints='', learning_rate=0.300000012,\n",
      "              max_delta_step=0, max_depth=6, min_child_weight=1, missing=nan,\n",
      "              monotone_constraints='()', n_estimators=100, n_jobs=4,\n",
      "              num_parallel_tree=1, objective='multi:softprob', predictor='auto',\n",
      "              random_state=0, reg_alpha=0, reg_lambda=1, scale_pos_weight=None,\n",
      "              subsample=1, tree_method='exact', validate_parameters=1,\n",
      "              verbosity=None)\n"
     ]
    }
   ],
   "source": [
    "print(model)"
   ]
  },
  {
   "cell_type": "code",
   "execution_count": 111,
   "id": "f628e43d",
   "metadata": {},
   "outputs": [],
   "source": [
    "# make predictions for test data\n",
    "xgby_pred = model.predict(X_test_pca)\n",
    "##predictions = [round(value) for value in y_pred]"
   ]
  },
  {
   "cell_type": "code",
   "execution_count": 112,
   "id": "d6497b8d",
   "metadata": {},
   "outputs": [
    {
     "name": "stdout",
     "output_type": "stream",
     "text": [
      "Train data accuracy: 0.9749137244491638\n",
      "Accuracy: 94.45%\n"
     ]
    }
   ],
   "source": [
    "# evaluate predictions\n",
    "accuracy = accuracy_score(y_test, xgby_pred)\n",
    "print(\"Train data accuracy:\",accuracy_score(y_true = y_train, y_pred=model.predict(X_train_pca)))\n",
    "print(\"Accuracy: %.2f%%\" % (accuracy * 100.0))"
   ]
  },
  {
   "cell_type": "markdown",
   "id": "ef9b4ea2",
   "metadata": {},
   "source": [
    "After applying PCA based feature importance study the Extreame Gradient Boosting model shows an improved accuracy than any other models and it seems to be apt for this model."
   ]
  },
  {
   "cell_type": "markdown",
   "id": "03e084dd",
   "metadata": {},
   "source": [
    "### Tune Hyperparameters with GridSearchCV "
   ]
  },
  {
   "cell_type": "code",
   "execution_count": 52,
   "id": "0a65e28d",
   "metadata": {},
   "outputs": [],
   "source": [
    "## GridSearchCV can be used on several hyperparameters to get the best values for the specified hyperparameters.\n",
    "## Importing the Libraries\n",
    "from sklearn.ensemble import RandomForestClassifier\n",
    "from sklearn.model_selection import GridSearchCV\n",
    "from sklearn import metrics\n",
    "import warnings\n",
    "warnings.filterwarnings('ignore')"
   ]
  },
  {
   "cell_type": "code",
   "execution_count": 53,
   "id": "74e8ac4d",
   "metadata": {},
   "outputs": [],
   "source": [
    "## Building Random Forest Classifier\n",
    "rfc = RandomForestClassifier()"
   ]
  },
  {
   "cell_type": "code",
   "execution_count": 55,
   "id": "ecf034f1",
   "metadata": {},
   "outputs": [
    {
     "data": {
      "text/plain": [
       "GridSearchCV(cv=10, estimator=RandomForestClassifier(),\n",
       "             param_grid=[{'max_depth': [10, 11, 12, 13, 14],\n",
       "                          'max_features': [0, 1, 2, 3, 4, 5, 6, 7, 8, 9, 10, 11,\n",
       "                                           12, 13]}],\n",
       "             scoring='accuracy')"
      ]
     },
     "execution_count": 55,
     "metadata": {},
     "output_type": "execute_result"
    }
   ],
   "source": [
    "## Initializing GridSearchCV() object and fitting it with hyperparameters\n",
    "forest_params = [{'max_depth': list(range(10, 15)), 'max_features': list(range(0,14))}]\n",
    "\n",
    "clf = GridSearchCV(rfc, forest_params, cv = 10, scoring='accuracy')\n",
    "\n",
    "clf.fit(X_train, y_train)\n",
    "## Here, we passed the estimator object rfc, param_grid as forest_params, cv = 5 and scoring method as accuracy in to GridSearchCV() as arguments."
   ]
  },
  {
   "cell_type": "code",
   "execution_count": 57,
   "id": "075fbee5",
   "metadata": {},
   "outputs": [
    {
     "name": "stdout",
     "output_type": "stream",
     "text": [
      "{'max_depth': 12, 'max_features': 5}\n"
     ]
    }
   ],
   "source": [
    "## Getting the Best Hyperparameters\n",
    "print(clf.best_params_)"
   ]
  },
  {
   "cell_type": "code",
   "execution_count": 58,
   "id": "7ca85d95",
   "metadata": {},
   "outputs": [
    {
     "name": "stdout",
     "output_type": "stream",
     "text": [
      "0.5461237113038665\n"
     ]
    }
   ],
   "source": [
    "print(clf.best_score_)"
   ]
  },
  {
   "cell_type": "markdown",
   "id": "cd4d1359",
   "metadata": {},
   "source": [
    "Best Params and Best Score of the Random Forest Classifier\n",
    "\n",
    "Thus, clf.best_params_ gives the best combination of tuned hyperparameters, and clf.best_score_ gives the average cross-validated score of our Random Forest Classifier."
   ]
  },
  {
   "cell_type": "markdown",
   "id": "db09167c",
   "metadata": {},
   "source": [
    "### Hyperparameter Grid Search with XGBoost "
   ]
  },
  {
   "cell_type": "code",
   "execution_count": 63,
   "id": "c049a486",
   "metadata": {},
   "outputs": [],
   "source": [
    "from datetime import datetime\n",
    "from sklearn.model_selection import RandomizedSearchCV, GridSearchCV\n",
    "from sklearn.metrics import roc_auc_score\n",
    "from sklearn.model_selection import StratifiedKFold\n",
    "from xgboost import XGBClassifier"
   ]
  },
  {
   "cell_type": "code",
   "execution_count": 64,
   "id": "1a3a809c",
   "metadata": {},
   "outputs": [],
   "source": [
    "def timer(start_time=None):\n",
    "    if not start_time:\n",
    "        start_time = datetime.now()\n",
    "        return start_time\n",
    "    elif start_time:\n",
    "        thour, temp_sec = divmod((datetime.now() - start_time).total_seconds(), 3600)\n",
    "        tmin, tsec = divmod(temp_sec, 60)\n",
    "        print('\\n Time taken: %i hours %i minutes and %s seconds.' % (thour, tmin, round(tsec, 2)))"
   ]
  },
  {
   "cell_type": "code",
   "execution_count": 65,
   "id": "815aee6e",
   "metadata": {},
   "outputs": [],
   "source": [
    "# A parameter grid for XGBoost\n",
    "params = {\n",
    "        'min_child_weight': [1, 5, 10],\n",
    "        'gamma': [0.5, 1, 1.5, 2, 5],\n",
    "        'subsample': [0.6, 0.8, 1.0],\n",
    "        'colsample_bytree': [0.6, 0.8, 1.0],\n",
    "        'max_depth': [3, 4, 5]\n",
    "        }"
   ]
  },
  {
   "cell_type": "code",
   "execution_count": 62,
   "id": "8ec381c9",
   "metadata": {},
   "outputs": [],
   "source": [
    "xgb = XGBClassifier(learning_rate=0.02, n_estimators=600, objective='binary:logistic',\n",
    "                    silent=True, nthread=1)"
   ]
  },
  {
   "cell_type": "code",
   "execution_count": 72,
   "id": "b2f7a5be",
   "metadata": {},
   "outputs": [
    {
     "name": "stdout",
     "output_type": "stream",
     "text": [
      "Fitting 3 folds for each of 5 candidates, totalling 15 fits\n",
      "[10:38:31] WARNING: C:/Users/Administrator/workspace/xgboost-win64_release_1.5.1/src/learner.cc:576: \n",
      "Parameters: { \"silent\" } might not be used.\n",
      "\n",
      "  This could be a false alarm, with some parameters getting used by language bindings but\n",
      "  then being mistakenly passed down to XGBoost core, or some parameter actually being used\n",
      "  but getting flagged wrongly here. Please open an issue if you find any such cases.\n",
      "\n",
      "\n",
      "[10:38:31] WARNING: C:/Users/Administrator/workspace/xgboost-win64_release_1.5.1/src/learner.cc:1115: Starting in XGBoost 1.3.0, the default evaluation metric used with the objective 'multi:softprob' was changed from 'merror' to 'mlogloss'. Explicitly set eval_metric if you'd like to restore the old behavior.\n",
      "\n",
      " Time taken: 0 hours 1 minutes and 34.83 seconds.\n"
     ]
    }
   ],
   "source": [
    "folds = 3\n",
    "param_comb = 5\n",
    "\n",
    "skf = StratifiedKFold(n_splits=folds, shuffle = True, random_state = 1001)\n",
    "\n",
    "random_search = RandomizedSearchCV(xgb, param_distributions=params, n_iter=param_comb, scoring='roc_auc', n_jobs=4, cv=skf.split(X_train,y_train), verbose=3, random_state=1001 )\n",
    "\n",
    "# Here we go\n",
    "start_time = timer(None) # timing starts from this point for \"start_time\" variable\n",
    "random_search.fit(X_train, y_train)\n",
    "timer(start_time) # timing ends here for \"start_time\" variable"
   ]
  },
  {
   "cell_type": "code",
   "execution_count": 73,
   "id": "b98cfe0d",
   "metadata": {},
   "outputs": [
    {
     "name": "stdout",
     "output_type": "stream",
     "text": [
      "\n",
      " All results:\n",
      "{'mean_fit_time': array([13.74803329, 22.26502387, 22.20696322, 16.46636383, 20.3000896 ]), 'std_fit_time': array([0.13493718, 0.74346562, 0.29443275, 0.1757048 , 0.89173235]), 'mean_score_time': array([0.0044651 , 0.00576679, 0.00066678, 0.0006671 , 0.0006365 ]), 'std_score_time': array([0.00496744, 0.00745829, 0.00047148, 0.00047171, 0.00045166]), 'param_subsample': masked_array(data=[1.0, 0.6, 0.8, 1.0, 0.8],\n",
      "             mask=[False, False, False, False, False],\n",
      "       fill_value='?',\n",
      "            dtype=object), 'param_min_child_weight': masked_array(data=[5, 1, 5, 5, 1],\n",
      "             mask=[False, False, False, False, False],\n",
      "       fill_value='?',\n",
      "            dtype=object), 'param_max_depth': masked_array(data=[3, 5, 5, 5, 4],\n",
      "             mask=[False, False, False, False, False],\n",
      "       fill_value='?',\n",
      "            dtype=object), 'param_gamma': masked_array(data=[5, 1.5, 1, 5, 1],\n",
      "             mask=[False, False, False, False, False],\n",
      "       fill_value='?',\n",
      "            dtype=object), 'param_colsample_bytree': masked_array(data=[1.0, 0.8, 0.8, 0.6, 1.0],\n",
      "             mask=[False, False, False, False, False],\n",
      "       fill_value='?',\n",
      "            dtype=object), 'params': [{'subsample': 1.0, 'min_child_weight': 5, 'max_depth': 3, 'gamma': 5, 'colsample_bytree': 1.0}, {'subsample': 0.6, 'min_child_weight': 1, 'max_depth': 5, 'gamma': 1.5, 'colsample_bytree': 0.8}, {'subsample': 0.8, 'min_child_weight': 5, 'max_depth': 5, 'gamma': 1, 'colsample_bytree': 0.8}, {'subsample': 1.0, 'min_child_weight': 5, 'max_depth': 5, 'gamma': 5, 'colsample_bytree': 0.6}, {'subsample': 0.8, 'min_child_weight': 1, 'max_depth': 4, 'gamma': 1, 'colsample_bytree': 1.0}], 'split0_test_score': array([nan, nan, nan, nan, nan]), 'split1_test_score': array([nan, nan, nan, nan, nan]), 'split2_test_score': array([nan, nan, nan, nan, nan]), 'mean_test_score': array([nan, nan, nan, nan, nan]), 'std_test_score': array([nan, nan, nan, nan, nan]), 'rank_test_score': array([1, 2, 3, 4, 5])}\n",
      "\n",
      " Best estimator:\n",
      "XGBClassifier(base_score=0.5, booster='gbtree', colsample_bylevel=1,\n",
      "              colsample_bynode=1, colsample_bytree=1.0,\n",
      "              enable_categorical=False, gamma=5, gpu_id=-1,\n",
      "              importance_type=None, interaction_constraints='',\n",
      "              learning_rate=0.02, max_delta_step=0, max_depth=3,\n",
      "              min_child_weight=5, missing=nan, monotone_constraints='()',\n",
      "              n_estimators=600, n_jobs=1, nthread=1, num_parallel_tree=1,\n",
      "              objective='multi:softprob', predictor='auto', random_state=0,\n",
      "              reg_alpha=0, reg_lambda=1, scale_pos_weight=None, silent=True,\n",
      "              subsample=1.0, tree_method='exact', validate_parameters=1, ...)\n",
      "\n",
      " Best normalized gini score for 3-fold search with 5 parameter combinations:\n",
      "nan\n",
      "\n",
      " Best hyperparameters:\n",
      "{'subsample': 1.0, 'min_child_weight': 5, 'max_depth': 3, 'gamma': 5, 'colsample_bytree': 1.0}\n"
     ]
    }
   ],
   "source": [
    "print('\\n All results:')\n",
    "print(random_search.cv_results_)\n",
    "print('\\n Best estimator:')\n",
    "print(random_search.best_estimator_)\n",
    "print('\\n Best normalized gini score for %d-fold search with %d parameter combinations:' % (folds, param_comb))\n",
    "print(random_search.best_score_ * 2 - 1)\n",
    "print('\\n Best hyperparameters:')\n",
    "print(random_search.best_params_)\n",
    "results = pd.DataFrame(random_search.cv_results_)\n",
    "results.to_csv('xgb-random-grid-search-results-01.csv', index=False)"
   ]
  }
 ],
 "metadata": {
  "kernelspec": {
   "display_name": "Python 3 (ipykernel)",
   "language": "python",
   "name": "python3"
  },
  "language_info": {
   "codemirror_mode": {
    "name": "ipython",
    "version": 3
   },
   "file_extension": ".py",
   "mimetype": "text/x-python",
   "name": "python",
   "nbconvert_exporter": "python",
   "pygments_lexer": "ipython3",
   "version": "3.9.7"
  }
 },
 "nbformat": 4,
 "nbformat_minor": 5
}
